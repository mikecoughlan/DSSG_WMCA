{
 "cells": [
  {
   "cell_type": "code",
   "execution_count": 1,
   "id": "feca5d30",
   "metadata": {},
   "outputs": [],
   "source": [
    "import pandas as pd\n",
    "import numpy as np\n",
    "import matplotlib.pyplot as plt\n",
    "import matplotlib as mpl\n",
    "from pandas_profiling import ProfileReport\n",
    "import json\n",
    "import pickle\n",
    "import requests\n",
    "from scipy.stats import pearsonr\n",
    "from tqdm import tqdm\n",
    "import requests\n",
    "from bs4 import BeautifulSoup\n",
    "import seaborn as sns"
   ]
  },
  {
   "cell_type": "code",
   "execution_count": 40,
   "id": "a50194bd",
   "metadata": {},
   "outputs": [],
   "source": [
    "df = pd.read_csv('../data/processed/.csv') # loading the dataframe\n",
    "# lat_long = pd.read_csv('../data/raw/osopenuprn_202205.csv')\n",
    "# fuel_poverty = pd.read_excel(\"../data/raw/sub-regional-fuel-poverty-2022-tables.xlsx\", sheet_name=\"Table 3\", header=2)\n",
    "# elec_consump = pd.read_excel('../data/raw/LSOA_domestic_elec_2010-20.xlsx', sheet_name=\"2020\", header=4, engine='openpyxl')\n",
    "# postcodes = pd.read_csv(\"../data/raw/PCD_OA_LSOA_MSOA_LAD_AUG19_UK_LU.csv\", low_memory=False)"
   ]
  },
  {
   "cell_type": "code",
   "execution_count": 36,
   "id": "1fa395e8",
   "metadata": {},
   "outputs": [
    {
     "name": "stdout",
     "output_type": "stream",
     "text": [
      "Index(['address', 'floor-height', 'heating-cost-potential',\n",
      "       'hot-water-cost-potential', 'construction-age-band',\n",
      "       'potential-energy-rating', 'mainheat-energy-eff', 'windows-env-eff',\n",
      "       'lighting-energy-eff', 'environment-impact-potential', 'glazed-type',\n",
      "       'heating-cost-current', 'mainheatcont-description', 'property-type',\n",
      "       'energy-tariff', 'mechanical-ventilation', 'hot-water-cost-current',\n",
      "       'postcode', 'solar-water-heating-flag', 'constituency',\n",
      "       'co2-emissions-potential', 'number-heated-rooms', 'floor-description',\n",
      "       'energy-consumption-potential', 'local-authority', 'built-form',\n",
      "       'number-open-fireplaces', 'windows-description', 'glazed-area',\n",
      "       'inspection-date', 'mains-gas-flag', 'co2-emiss-curr-per-floor-area',\n",
      "       'constituency-label', 'roof-energy-eff', 'total-floor-area',\n",
      "       'environment-impact-current', 'co2-emissions-current',\n",
      "       'roof-description', 'number-habitable-rooms', 'hot-water-env-eff',\n",
      "       'mainheatc-energy-eff', 'main-fuel', 'lighting-env-eff',\n",
      "       'windows-energy-eff', 'roof-env-eff', 'walls-energy-eff',\n",
      "       'photo-supply', 'lighting-cost-potential', 'mainheat-env-eff',\n",
      "       'multi-glaze-proportion', 'main-heating-controls', 'lodgement-datetime',\n",
      "       'current-energy-rating', 'walls-env-eff', 'transaction-type', 'uprn',\n",
      "       'current-energy-efficiency', 'energy-consumption-current',\n",
      "       'mainheat-description', 'lighting-cost-current', 'extension-count',\n",
      "       'mainheatc-env-eff', 'lmk-key', 'wind-turbine-count', 'tenure',\n",
      "       'floor-level', 'potential-energy-efficiency', 'hot-water-energy-eff',\n",
      "       'low-energy-lighting', 'walls-description', 'hotwater-description',\n",
      "       'num_meter', 'total_consumption', 'mean_counsumption',\n",
      "       'median_consumption', 'num_households', 'num_households_fuel_poverty',\n",
      "       'prop_households_fuel_poor', 'LATITUDE', 'LONGITUDE',\n",
      "       'floor-thermal-transmittance', 'walls-thermal-transmittance',\n",
      "       'roof-thermal-transmittance', 'secondheat-description',\n",
      "       'lighting-description', 'percentage-low-energy-lighting'],\n",
      "      dtype='object')\n"
     ]
    }
   ],
   "source": [
    "print(df.columns)"
   ]
  },
  {
   "cell_type": "code",
   "execution_count": 41,
   "id": "b26ea280",
   "metadata": {},
   "outputs": [
    {
     "data": {
      "text/plain": [
       "array([  0.,  nan,   1.,  72.,   4.,  20.,  10.,   2.,  16.,  90.,  73.,\n",
       "        13.,  12., 100.,  30.,  25.,   7.,  50.,   9.,  35.,  70.,  45.,\n",
       "        40.,  11.,  48.,  80.,  66.,  33.,  75.,  47.,  60.,  46.,  15.,\n",
       "        65.,  62.,  27.,  44.,  14.,  95.,  28.,   8.,  43.,  24.,   3.,\n",
       "        38.,  41.,  19.,  85.,  26.,   5.,  55.,  49.,  37.,  36.,  22.,\n",
       "        39.,  17.,  57.])"
      ]
     },
     "execution_count": 41,
     "metadata": {},
     "output_type": "execute_result"
    }
   ],
   "source": [
    "df['photo-supply'].unique()"
   ]
  },
  {
   "cell_type": "code",
   "execution_count": 37,
   "id": "0dee8776",
   "metadata": {},
   "outputs": [
    {
     "data": {
      "text/plain": [
       "Index(['address', 'construction-age-band', 'potential-energy-rating',\n",
       "       'mainheat-energy-eff', 'windows-env-eff', 'lighting-energy-eff',\n",
       "       'glazed-type', 'mainheatcont-description', 'property-type',\n",
       "       'energy-tariff', 'mechanical-ventilation', 'postcode',\n",
       "       'solar-water-heating-flag', 'constituency', 'floor-description',\n",
       "       'local-authority', 'built-form', 'windows-description', 'glazed-area',\n",
       "       'inspection-date', 'mains-gas-flag', 'constituency-label',\n",
       "       'roof-energy-eff', 'roof-description', 'hot-water-env-eff',\n",
       "       'mainheatc-energy-eff', 'main-fuel', 'lighting-env-eff',\n",
       "       'windows-energy-eff', 'roof-env-eff', 'walls-energy-eff',\n",
       "       'mainheat-env-eff', 'lodgement-datetime', 'current-energy-rating',\n",
       "       'walls-env-eff', 'transaction-type', 'mainheat-description',\n",
       "       'mainheatc-env-eff', 'lmk-key', 'tenure', 'floor-level',\n",
       "       'hot-water-energy-eff', 'walls-description', 'hotwater-description',\n",
       "       'secondheat-description', 'lighting-description'],\n",
       "      dtype='object')"
      ]
     },
     "execution_count": 37,
     "metadata": {},
     "output_type": "execute_result"
    }
   ],
   "source": [
    "cat = df.select_dtypes(exclude=['int', 'float']).columns\n",
    "num = df.select_dtypes(exclude=['object']).columns\n",
    "cat"
   ]
  },
  {
   "cell_type": "code",
   "execution_count": 38,
   "id": "2fadcb8e",
   "metadata": {},
   "outputs": [],
   "source": [
    "wind = df[df['wind-turbine-count']==1]"
   ]
  },
  {
   "cell_type": "code",
   "execution_count": 39,
   "id": "31498ee9",
   "metadata": {},
   "outputs": [
    {
     "data": {
      "text/plain": [
       "main-heating-controls             98.509311\n",
       "floor-thermal-transmittance       93.894435\n",
       "roof-thermal-transmittance        93.710843\n",
       "walls-thermal-transmittance       91.577919\n",
       "floor-level                       86.374734\n",
       "floor-height                      54.050008\n",
       "photo-supply                      36.892180\n",
       "solar-water-heating-flag          34.698827\n",
       "percentage-low-energy-lighting    25.255810\n",
       "roof-env-eff                      16.481990\n",
       "roof-energy-eff                   16.481990\n",
       "glazed-type                       11.092910\n",
       "mains-gas-flag                     8.527088\n",
       "glazed-area                        8.437256\n",
       "number-habitable-rooms             8.437121\n",
       "number-heated-rooms                8.437121\n",
       "mechanical-ventilation             8.437121\n",
       "extension-count                    8.437121\n",
       "construction-age-band              8.374794\n",
       "multi-glaze-proportion             8.152857\n",
       "dtype: float64"
      ]
     },
     "execution_count": 39,
     "metadata": {},
     "output_type": "execute_result"
    }
   ],
   "source": [
    "drop_missing = []\n",
    "percent_missing = df.isnull().sum() * 100 / len(df)\n",
    "percent_missing.sort_values(ascending=False)[:20]\n"
   ]
  },
  {
   "cell_type": "code",
   "execution_count": 18,
   "id": "3e9bf125",
   "metadata": {},
   "outputs": [],
   "source": [
    "solar_water = df['solar-water-heating-flag']\n",
    "solar_water.dropna(inplace=True)"
   ]
  },
  {
   "cell_type": "code",
   "execution_count": 19,
   "id": "aff7bbdb",
   "metadata": {},
   "outputs": [],
   "source": [
    "Y = solar_water[solar_water=='Y']\n",
    "N = solar_water[solar_water=='N']"
   ]
  },
  {
   "cell_type": "code",
   "execution_count": 20,
   "id": "8a476b57",
   "metadata": {},
   "outputs": [
    {
     "name": "stdout",
     "output_type": "stream",
     "text": [
      "Length Y: 1290\n",
      "Length N: 617086\n"
     ]
    }
   ],
   "source": [
    "print('Length Y: '+str(len(Y)))\n",
    "print('Length N: '+str(len(N)))"
   ]
  },
  {
   "cell_type": "code",
   "execution_count": 21,
   "id": "04e048aa",
   "metadata": {},
   "outputs": [],
   "source": [
    "df['solar-water-heating-flag'] = df['solar-water-heating-flag'].replace('Y',1)\n",
    "df['solar-water-heating-flag'] = df['solar-water-heating-flag'].replace('N',0)"
   ]
  },
  {
   "cell_type": "code",
   "execution_count": 22,
   "id": "6adc0488",
   "metadata": {},
   "outputs": [],
   "source": [
    "df['current-energy-rating'] = df['current-energy-rating'].replace('G',0)\n",
    "df['current-energy-rating'] = df['current-energy-rating'].replace('F',1)\n",
    "df['current-energy-rating'] = df['current-energy-rating'].replace('E',2)\n",
    "df['current-energy-rating'] = df['current-energy-rating'].replace('D',3)\n",
    "df['current-energy-rating'] = df['current-energy-rating'].replace('C',4)\n",
    "df['current-energy-rating'] = df['current-energy-rating'].replace('B',5)\n",
    "df['current-energy-rating'] = df['current-energy-rating'].replace('A',6)\n",
    "df['current-energy-rating'] = df['current-energy-rating'].replace('INVALID!',np.nan)"
   ]
  },
  {
   "cell_type": "code",
   "execution_count": 23,
   "id": "323807ce",
   "metadata": {},
   "outputs": [
    {
     "data": {
      "text/plain": [
       "array([ 0., -1., nan,  1.])"
      ]
     },
     "execution_count": 23,
     "metadata": {},
     "output_type": "execute_result"
    }
   ],
   "source": [
    "df['wind-turbine-count'].unique()"
   ]
  },
  {
   "cell_type": "code",
   "execution_count": 33,
   "id": "78256d17",
   "metadata": {},
   "outputs": [],
   "source": [
    "photo = df[df['photo-supply']>0]\n",
    "photo['current-energy-rating']\n",
    "water = df[df['solar-water-heating-flag']=='Y']\n",
    "wind = df[df['wind-turbine-count']==-1]"
   ]
  },
  {
   "cell_type": "code",
   "execution_count": 30,
   "id": "5fb1a3d6",
   "metadata": {},
   "outputs": [
    {
     "data": {
      "image/png": "[encoded data removed]",
      "text/plain": [
       "<Figure size 1440x360 with 1 Axes>"
      ]
     },
     "metadata": {
      "needs_background": "light"
     },
     "output_type": "display_data"
    }
   ],
   "source": [
    "plt.figure(figsize=(20,5))\n",
    "\n",
    "windy = wind['current-energy-rating']\n",
    "plt.subplot(241)\n",
    "plt.hist(windy,bins=[0,1,2,3,4,5,6,7])\n",
    "plt.xlabel('EPC Rating',fontsize=16, weight='bold')\n",
    "\n",
    "plt.show()"
   ]
  },
  {
   "cell_type": "code",
   "execution_count": 34,
   "id": "ede0e53a",
   "metadata": {},
   "outputs": [
    {
     "name": "stdout",
     "output_type": "stream",
     "text": [
      "3.0996117087776334\n",
      "4.075581395348837\n",
      "nan\n",
      "4.542299349240781\n"
     ]
    }
   ],
   "source": [
    "print(df['current-energy-rating'].mean())\n",
    "print(photo['current-energy-rating'].mean())\n",
    "print(water['current-energy-rating'].mean())\n",
    "print(wind['current-energy-rating'].mean())"
   ]
  },
  {
   "cell_type": "code",
   "execution_count": null,
   "id": "f421c57d",
   "metadata": {},
   "outputs": [],
   "source": [
    "EPC['energy-consumption-current'].describe()"
   ]
  },
  {
   "cell_type": "code",
   "execution_count": null,
   "id": "17700141",
   "metadata": {},
   "outputs": [],
   "source": [
    "plt.figure(figsize=(20,5))\n",
    "\n",
    "full = EPC['energy-consumption-current']\n",
    "bins=int(7)\n",
    "plt.subplot(241)\n",
    "plt.hist(full)\n",
    "plt.xlabel('EPC Rating',fontsize=16, weight='bold')\n",
    "\n",
    "partial = photo['energy-consumption-current']\n",
    "plt.subplot(242)\n",
    "plt.hist(partial)\n",
    "plt.xlabel('EPC Rating',fontsize=16, weight='bold')\n",
    "\n",
    "solar = water['energy-consumption-current']\n",
    "plt.subplot(243)\n",
    "plt.hist(solar)\n",
    "plt.xlabel('EPC Rating',fontsize=16, weight='bold')\n",
    "\n",
    "plt.show()"
   ]
  },
  {
   "cell_type": "code",
   "execution_count": null,
   "id": "f8c96405",
   "metadata": {},
   "outputs": [],
   "source": [
    "print(EPC['energy-consumption-current'].mean())\n",
    "print(photo['energy-consumption-current'].mean())\n",
    "print(water['energy-consumption-current'].mean())"
   ]
  },
  {
   "cell_type": "code",
   "execution_count": null,
   "id": "53b62936",
   "metadata": {},
   "outputs": [],
   "source": [
    "neg_energy = EPC[EPC['energy-consumption-current']<0]\n",
    "print(neg_energy['photo-supply'].describe())\n",
    "print(photo['photo-supply'].describe())\n",
    "print(neg_energy['current-energy-efficiency'].describe())\n",
    "print(photo['current-energy-efficiency'].describe())"
   ]
  },
  {
   "cell_type": "code",
   "execution_count": null,
   "id": "2608cfc0",
   "metadata": {},
   "outputs": [],
   "source": [
    "over100 = EPC[EPC['current-energy-efficiency']>100]"
   ]
  },
  {
   "cell_type": "code",
   "execution_count": null,
   "id": "8fa2ecca",
   "metadata": {},
   "outputs": [],
   "source": [
    "print(over100['photo-supply'].describe())\n",
    "print(over100['energy-consumption-current'].describe())"
   ]
  },
  {
   "cell_type": "code",
   "execution_count": null,
   "id": "faf2a88d",
   "metadata": {},
   "outputs": [],
   "source": [
    "EPC['built-form'].unique()"
   ]
  },
  {
   "cell_type": "code",
   "execution_count": null,
   "id": "9c4b5587",
   "metadata": {},
   "outputs": [],
   "source": []
  }
 ],
 "metadata": {
  "kernelspec": {
   "display_name": "Python 3 (ipykernel)",
   "language": "python",
   "name": "python3"
  },
  "language_info": {
   "codemirror_mode": {
    "name": "ipython",
    "version": 3
   },
   "file_extension": ".py",
   "mimetype": "text/x-python",
   "name": "python",
   "nbconvert_exporter": "python",
   "pygments_lexer": "ipython3",
   "version": "3.7.3"
  }
 },
 "nbformat": 4,
 "nbformat_minor": 5
}
