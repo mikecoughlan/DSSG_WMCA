{
 "cells": [
  {
   "cell_type": "code",
   "execution_count": 2,
   "metadata": {},
   "outputs": [],
   "source": [
    "from bs4 import BeautifulSoup\n",
    "import requests\n",
    "import pickle\n",
    "import json\n",
    "import pandas as pd"
   ]
  },
  {
   "cell_type": "code",
   "execution_count": 3,
   "metadata": {},
   "outputs": [],
   "source": [
    "# Get all local authority codes and corresponding council names\n",
    "page = requests.get(\"https://epc.opendatacommunities.org/docs/api/domestic#domestic-local-authority\").text\n",
    "soup = BeautifulSoup(page)\n",
    "\n",
    "table = soup.findAll('table')[3]\n",
    "la_code_dict = {}\n",
    "\n",
    "for tr in table.findAll('tr')[1:]:\n",
    "   code, local_auth = tr.findAll('td')\n",
    "   la_code_dict[local_auth.text] = code.text\n",
    "\n",
    "# Get local authority codes for councils in WMCA\n",
    "WMCA_councils = open(\"../data/raw_data/WMCA_council.txt\").read().split(\",\")[:-1]\n",
    "WMCA_code = [la_code_dict[i] for i in WMCA_councils]\n",
    "WMCA = dict(zip(WMCA_code, WMCA_councils))"
   ]
  },
  {
   "cell_type": "code",
   "execution_count": 4,
   "metadata": {},
   "outputs": [],
   "source": [
    "# Save codes for future use\n",
    "with open('../data/raw_data/WMCA_council_code.pkl', 'wb') as f:\n",
    "    pickle.dump(WMCA, f)"
   ]
  },
  {
   "cell_type": "code",
   "execution_count": 5,
   "metadata": {},
   "outputs": [],
   "source": [
    "# Make private\n",
    "AUTH_TOKEN = \"bGktbGlhbi5hbmdAd2Fyd2ljay5hYy51azpkNzBlYTliMTExMjUzODc0NDM0MTFiMGE5MDVjNDFiYmY2MTA3NmNj\""
   ]
  },
  {
   "cell_type": "code",
   "execution_count": 6,
   "metadata": {},
   "outputs": [],
   "source": [
    "def get_epc_data(postcode, num_rows=100):\n",
    "    \"\"\"\n",
    "    Pull data from Domestic Energy Performance Certificates API.\n",
    "\n",
    "    Input:\n",
    "    postcode(str): (1) Postcode \n",
    "    num_rows(int): Number of rows to pull. Max 5000 allowed at one time\n",
    "\n",
    "    Output:\n",
    "    (str): Pulled data from API\n",
    "\n",
    "    \"\"\"\n",
    "    headers = {\n",
    "        'Authorization': f'Basic {AUTH_TOKEN}',\n",
    "        'Accept': 'application/json'\n",
    "    }\n",
    "    params = {\n",
    "        'postcode': postcode,\n",
    "        'size': num_rows\n",
    "    }\n",
    "    url = f'https://epc.opendatacommunities.org/api/v1/domestic/search'\n",
    "    res = requests.get(url, headers=headers, params=params)\n",
    "    return res.text"
   ]
  },
  {
   "cell_type": "code",
   "execution_count": 7,
   "metadata": {},
   "outputs": [],
   "source": [
    "# Pull WMCA local authority data and save as CSV\n",
    "result = list()\n",
    "\n",
    "for code, council in WMCA.items():\n",
    "    result.extend(json.loads(get_local_authority_data(code))['rows'])\n",
    "\n",
    "df = pd.DataFrame(result)\n",
    "df.to_csv(\"../data/raw_data/EPC_data.csv\", index=False)"
   ]
  }
 ],
 "metadata": {
  "kernelspec": {
   "display_name": "Python 3.9.4 64-bit",
   "language": "python",
   "name": "python3"
  },
  "language_info": {
   "codemirror_mode": {
    "name": "ipython",
    "version": 3
   },
   "file_extension": ".py",
   "mimetype": "text/x-python",
   "name": "python",
   "nbconvert_exporter": "python",
   "pygments_lexer": "ipython3",
   "version": "3.9.4"
  },
  "orig_nbformat": 4,
  "vscode": {
   "interpreter": {
    "hash": "a71bc2f0fdff3760b45ea6dafb563485b76fcb756cae0bed9e259635e4639181"
   }
  }
 },
 "nbformat": 4,
 "nbformat_minor": 2
}
