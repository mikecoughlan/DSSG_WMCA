{
 "cells": [
  {
   "cell_type": "code",
   "execution_count": 1,
   "metadata": {},
   "outputs": [],
   "source": [
    "import requests\n",
    "from bs4 import BeautifulSoup\n",
    "import json\n",
    "import pandas as pd\n",
    "import pickle\n",
    "from tqdm import tqdm"
   ]
  },
  {
   "cell_type": "markdown",
   "metadata": {},
   "source": [
    "# WMCA LA Code"
   ]
  },
  {
   "cell_type": "code",
   "execution_count": 2,
   "metadata": {},
   "outputs": [],
   "source": [
    "# Get all local authority codes and corresponding council names\n",
    "page = requests.get(\"https://epc.opendatacommunities.org/docs/api/domestic#domestic-local-authority\").text\n",
    "soup = BeautifulSoup(page)\n",
    "\n",
    "table = soup.findAll('table')[3]\n",
    "la_code_dict = {}\n",
    "\n",
    "for tr in table.findAll('tr')[1:]:\n",
    "   code, local_auth = tr.findAll('td')\n",
    "   la_code_dict[local_auth.text] = code.text\n",
    "\n",
    "# Get local authority codes for councils in WMCA\n",
    "WMCA_councils = open(\"../data/raw/WMCA_council.txt\").read().split(\",\")[:-1]\n",
    "WMCA_code = [la_code_dict[i] for i in WMCA_councils]\n",
    "WMCA = dict(zip(WMCA_code, WMCA_councils))\n",
    "\n",
    "# Save codes for future use\n",
    "with open('../data/raw/WMCA_council_code.pkl', 'wb') as f:\n",
    "    pickle.dump(WMCA, f)"
   ]
  },
  {
   "cell_type": "markdown",
   "metadata": {},
   "source": [
    "# Electricity consumption"
   ]
  },
  {
   "cell_type": "code",
   "execution_count": 3,
   "metadata": {},
   "outputs": [],
   "source": [
    "# Electricity consumption data\n",
    "elec_consump_df = pd.read_excel('../data/raw/LSOA_domestic_elec_2010-20.xlsx', sheet_name=\"2020\", header=4)\n",
    "elec_consump_df.columns = [\n",
    "        'la_code', 'la', 'msoa_code', 'msoa', 'lsoa_code', 'lsoa', 'num_meter', 'total_consumption', 'mean_counsumption', 'median_consumption'\n",
    "        ]\n",
    "# Filter for local authorities in WMCA\n",
    "elec_consump_df = elec_consump_df[elec_consump_df['la_code'].isin(WMCA_code)]"
   ]
  },
  {
   "cell_type": "code",
   "execution_count": 4,
   "metadata": {},
   "outputs": [],
   "source": [
    "# Post code to LSOA to MSOA converting data\n",
    "postcode_df = pd.read_csv(\"../data/raw/PCD_OA_LSOA_MSOA_LAD_AUG19_UK_LU.csv\", low_memory=False)\n",
    "\n",
    "with open('../data/raw/WMCA_council_code.pkl', 'rb') as f:\n",
    "    WMCA_code = pickle.load(f)\n",
    "\n",
    "# Filter for local authorities in WMCA\n",
    "postcode_df = postcode_df[postcode_df['ladcd'].isin(WMCA_code)]"
   ]
  },
  {
   "cell_type": "code",
   "execution_count": 5,
   "metadata": {},
   "outputs": [],
   "source": [
    "# Merge data to get postcodes associated with each LSOA code\n",
    "postcode_elec_consump_df = pd.merge(postcode_df, elec_consump_df, left_on=\"lsoa11cd\", right_on=\"lsoa_code\", how=\"left\")\n",
    "postcode_elec_consump_df = postcode_elec_consump_df[['pcds', 'la', 'la_code', 'msoa_code', 'msoa', 'lsoa_code', 'lsoa', 'num_meter', 'total_consumption', 'mean_counsumption',\n",
    "       'median_consumption']]"
   ]
  },
  {
   "cell_type": "markdown",
   "metadata": {},
   "source": [
    "# EPC Rating Data"
   ]
  },
  {
   "cell_type": "code",
   "execution_count": 6,
   "metadata": {},
   "outputs": [],
   "source": [
    "# Make private\n",
    "import os\n",
    "from dotenv import load_dotenv, find_dotenv\n",
    "\n",
    "# find .env automagically by walking up directories until it's found\n",
    "dotenv_path = find_dotenv()\n",
    "\n",
    "# load up the entries as environment variables\n",
    "load_dotenv(dotenv_path)\n",
    "\n",
    "AUTH_TOKEN = 'TWljaGFlbC5jb3VnaGxhbkB3YXJ3aWNrLmFjLnVrOjZlZWQwZTQ0OGFiMzljYzYxY2MwN2M4YmU0Y2VhYmQ5MTI2OGViZjI='"
   ]
  },
  {
   "cell_type": "code",
   "execution_count": 7,
   "metadata": {},
   "outputs": [],
   "source": [
    "def get_epc_data(postcode, num_rows=5000):\n",
    "    \"\"\"\n",
    "    Pull data from Domestic Energy Performance Certificates API.\n",
    "\n",
    "    Input:\n",
    "    postcode(str): (1) Postcode \n",
    "    num_rows(int): Number of rows to pull. Max 5000 allowed at one time\n",
    "\n",
    "    Output:\n",
    "    (str): Pulled data from API\n",
    "\n",
    "    \"\"\"\n",
    "    headers = {\n",
    "        'Authorization': f'Basic {AUTH_TOKEN}',\n",
    "        'Accept': 'application/json'\n",
    "    }\n",
    "    params = {\n",
    "        'postcode': postcode,\n",
    "        'size': num_rows\n",
    "    }\n",
    "    url = f'https://epc.opendatacommunities.org/api/v1/domestic/search'\n",
    "    res = requests.get(url, headers=headers, params=params)\n",
    "    return res.text"
   ]
  },
  {
   "cell_type": "code",
   "execution_count": 8,
   "metadata": {},
   "outputs": [
    {
     "name": "stderr",
     "output_type": "stream",
     "text": [
      "100%|█████████████████████████████████████████████████████████████████████████████████████████████████████████████████████████████████████████████████████████████████████| 100/100 [00:10<00:00,  9.99it/s]\n"
     ]
    }
   ],
   "source": [
    "# Pull WMCA postcode data and save as CSV\n",
    "result = list()\n",
    "\n",
    "for code in tqdm(postcode_elec_consump_df.pcds.unique()):\n",
    "    requested_data = get_epc_data(code)\n",
    "    if len(requested_data)!=0:\n",
    "        result.extend(json.loads(requested_data)['rows'])"
   ]
  },
  {
   "cell_type": "code",
   "execution_count": 22,
   "metadata": {},
   "outputs": [
    {
     "name": "stdout",
     "output_type": "stream",
     "text": [
      "0       10023504340\n",
      "1       10023504345\n",
      "2       10023504376\n",
      "3       10023504370\n",
      "4       10023504372\n",
      "           ...     \n",
      "1288    10023293700\n",
      "1289    10023293854\n",
      "1290    10023293863\n",
      "1291    10023293751\n",
      "1292    10023293684\n",
      "Name: uprn, Length: 1293, dtype: object\n",
      "0       1.002350e+10\n",
      "1       1.002350e+10\n",
      "2       1.002350e+10\n",
      "3       1.002350e+10\n",
      "4       1.002350e+10\n",
      "            ...     \n",
      "1288    1.002329e+10\n",
      "1289    1.002329e+10\n",
      "1290    1.002329e+10\n",
      "1291    1.002329e+10\n",
      "1292    1.002329e+10\n",
      "Name: uprn, Length: 1293, dtype: float64\n"
     ]
    }
   ],
   "source": [
    "EPC_data = pd.DataFrame(result)\n",
    "\n",
    "EPC_data['uprn'] = pd.to_numeric(EPC_data['uprn'],errors='coerce') # needs to be float for joining\n",
    "\n",
    "# Merge EPC and electricity consumption data on postcode\n",
    "EPC_postcode_elec_consump = pd.merge(EPC_data, postcode_elec_consump_df, left_on=\"postcode\", right_on=\"pcds\", how=\"left\")\n",
    "EPC_postcode_elec_consump.drop(columns=[\"pcds\", \"address1\", \"address2\", \"address3\", 'uprn-source'], inplace=True)"
   ]
  },
  {
   "cell_type": "code",
   "execution_count": 14,
   "metadata": {},
   "outputs": [],
   "source": [
    "# Export postcodes\n",
    "with open('../data/processed/WMCA_postcodes.pkl', 'wb') as fp:\n",
    "    pickle.dump(EPC_postcode_elec_consump.postcode.unique(), fp)"
   ]
  },
  {
   "cell_type": "markdown",
   "metadata": {},
   "source": [
    "# Fuel Poverty"
   ]
  },
  {
   "cell_type": "code",
   "execution_count": 15,
   "metadata": {},
   "outputs": [],
   "source": [
    "fuel_poverty_df = pd.read_excel(\"../data/raw/sub-regional-fuel-poverty-2022-tables.xlsx\", sheet_name=\"Table 3\", header=2)\n",
    "fuel_poverty_df.drop(columns=[\"LSOA Name\", \"LA Code\", \"LA Name\", \"Region\", \"Unnamed: 8\"], inplace=True)\n",
    "fuel_poverty_df.columns = [\"lsoa_code\", \"num_households\", \"num_households_fuel_poverty\", \"prop_households_fuel_poor\"]"
   ]
  },
  {
   "cell_type": "code",
   "execution_count": 16,
   "metadata": {},
   "outputs": [],
   "source": [
    "EPC_postcode_elec_consump_fuel_poverty = pd.merge(EPC_postcode_elec_consump, fuel_poverty_df, on=\"lsoa_code\", how=\"left\")"
   ]
  },
  {
   "cell_type": "markdown",
   "metadata": {},
   "source": [
    "# UPRN"
   ]
  },
  {
   "cell_type": "code",
   "execution_count": 17,
   "metadata": {},
   "outputs": [
    {
     "name": "stdout",
     "output_type": "stream",
     "text": [
      "                  UPRN  X_COORDINATE  Y_COORDINATE   LATITUDE  LONGITUDE\n",
      "0                    1     358260.66     172796.50  51.452601  -2.602075\n",
      "1                   26     352967.00     181077.00  51.526633  -2.679361\n",
      "2                   27     352967.00     181077.00  51.526633  -2.679361\n",
      "3                   30     354800.00     180469.00  51.521317  -2.652862\n",
      "4                   31     354796.00     180460.00  51.521236  -2.652918\n",
      "...                ...           ...           ...        ...        ...\n",
      "39975443  906700544182     260824.93     665005.14  55.858079  -4.225079\n",
      "39975444  906700544183     252139.38     670727.41  55.906863  -4.366839\n",
      "39975445  906700544184     255864.00     667585.17  55.879783  -4.305638\n",
      "39975446  906700544185     251620.54     670994.73  55.909102  -4.375277\n",
      "39975447  906700601612     257561.00     667814.00  55.882343  -4.278656\n",
      "\n",
      "[39975448 rows x 5 columns]\n",
      "                  UPRN   LATITUDE  LONGITUDE\n",
      "0                    1  51.452601  -2.602075\n",
      "1                   26  51.526633  -2.679361\n",
      "2                   27  51.526633  -2.679361\n",
      "3                   30  51.521317  -2.652862\n",
      "4                   31  51.521236  -2.652918\n",
      "...                ...        ...        ...\n",
      "39975443  906700544182  55.858079  -4.225079\n",
      "39975444  906700544183  55.906863  -4.366839\n",
      "39975445  906700544184  55.879783  -4.305638\n",
      "39975446  906700544185  55.909102  -4.375277\n",
      "39975447  906700601612  55.882343  -4.278656\n",
      "\n",
      "[39975448 rows x 3 columns]\n"
     ]
    }
   ],
   "source": [
    "uprn_df = pd.read_csv(\"../data/raw/osopenuprn_202205.csv\")\n",
    "uprn_df = uprn_df[['UPRN', 'LATITUDE', 'LONGITUDE']]"
   ]
  },
  {
   "cell_type": "code",
   "execution_count": 18,
   "metadata": {},
   "outputs": [
    {
     "name": "stdout",
     "output_type": "stream",
     "text": [
      "UPRN          object\n",
      "LATITUDE     float64\n",
      "LONGITUDE    float64\n",
      "dtype: object\n"
     ]
    }
   ],
   "source": [
    "# Match column type with EPC UPRN so that we can merge\n",
    "uprn_df.UPRN = uprn_df.UPRN.astype('object')"
   ]
  },
  {
   "cell_type": "code",
   "execution_count": 27,
   "metadata": {},
   "outputs": [
    {
     "name": "stdout",
     "output_type": "stream",
     "text": [
      "0         -1.900206\n",
      "1         -1.900206\n",
      "2         -1.900206\n",
      "3         -1.900206\n",
      "4         -1.900206\n",
      "             ...   \n",
      "1012645   -2.152162\n",
      "1012646   -2.152089\n",
      "1012647   -2.151938\n",
      "1012648   -2.151911\n",
      "1012649   -2.151675\n",
      "Name: LONGITUDE, Length: 1012650, dtype: float64\n"
     ]
    }
   ],
   "source": [
    "EPC_postcode_elec_consump_fuel_poverty_uprn = pd.merge(old_df, uprn_df, left_on=\"uprn\", right_on=\"UPRN\", how=\"left\")\n",
    "# EPC_postcode_elec_consump_fuel_poverty_uprn.drop(columns=[\"UPRN\", 'la', 'la_code'], inplace=True)\n",
    "EPC_postcode_elec_consump_fuel_poverty_uprn.drop(columns=[\"UPRN\"], inplace=True)"
   ]
  },
  {
   "cell_type": "code",
   "execution_count": 28,
   "metadata": {},
   "outputs": [],
   "source": [
    "EPC_postcode_elec_consump_fuel_poverty_uprn.to_csv(f\"../data/processed/data_{len(EPC_postcode_elec_consump_fuel_poverty_uprn)}.csv\", index=False)"
   ]
  },
  {
   "cell_type": "code",
   "execution_count": null,
   "metadata": {},
   "outputs": [],
   "source": []
  }
 ],
 "metadata": {
  "kernelspec": {
   "display_name": "Python 3 (ipykernel)",
   "language": "python",
   "name": "python3"
  },
  "language_info": {
   "codemirror_mode": {
    "name": "ipython",
    "version": 3
   },
   "file_extension": ".py",
   "mimetype": "text/x-python",
   "name": "python",
   "nbconvert_exporter": "python",
   "pygments_lexer": "ipython3",
   "version": "3.7.3"
  },
  "vscode": {
   "interpreter": {
    "hash": "a71bc2f0fdff3760b45ea6dafb563485b76fcb756cae0bed9e259635e4639181"
   }
  }
 },
 "nbformat": 4,
 "nbformat_minor": 2
}
