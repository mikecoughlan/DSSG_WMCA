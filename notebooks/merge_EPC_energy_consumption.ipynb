{
 "cells": [
  {
   "cell_type": "code",
   "execution_count": 1,
   "metadata": {},
   "outputs": [],
   "source": [
    "import requests\n",
    "from bs4 import BeautifulSoup\n",
    "import json\n",
    "import pandas as pd\n",
    "import pickle"
   ]
  },
  {
   "cell_type": "markdown",
   "metadata": {},
   "source": [
    "# WMCA LA Code"
   ]
  },
  {
   "cell_type": "code",
   "execution_count": null,
   "metadata": {},
   "outputs": [],
   "source": [
    "# Get all local authority codes and corresponding council names\n",
    "page = requests.get(\"https://epc.opendatacommunities.org/docs/api/domestic#domestic-local-authority\").text\n",
    "soup = BeautifulSoup(page)\n",
    "\n",
    "table = soup.findAll('table')[3]\n",
    "la_code_dict = {}\n",
    "\n",
    "for tr in table.findAll('tr')[1:]:\n",
    "   code, local_auth = tr.findAll('td')\n",
    "   la_code_dict[local_auth.text] = code.text\n",
    "\n",
    "# Get local authority codes for councils in WMCA\n",
    "WMCA_councils = open(\"../data/raw/WMCA_council.txt\").read().split(\",\")[:-1]\n",
    "WMCA_code = [la_code_dict[i] for i in WMCA_councils]\n",
    "WMCA = dict(zip(WMCA_code, WMCA_councils))\n",
    "\n",
    "# Save codes for future use\n",
    "with open('../data/raw_data/WMCA_council_code.pkl', 'wb') as f:\n",
    "    pickle.dump(WMCA, f)"
   ]
  },
  {
   "cell_type": "markdown",
   "metadata": {},
   "source": [
    "# Electricity consumption"
   ]
  },
  {
   "cell_type": "code",
   "execution_count": 4,
   "metadata": {},
   "outputs": [],
   "source": [
    "# Electricity consumption data\n",
    "elec_consump_df = pd.read_excel('../data/external/LSOA_domestic_elec_2010-20.xlsx', sheet_name=\"2020\", header=4)\n",
    "elec_consump_df.columns = [\n",
    "        'la_code', 'la', 'msoa_code', 'msoa', 'lsoa_code', 'lsoa', 'num_meter', 'total_consumption', 'mean_counsumption', 'median_consumption'\n",
    "        ]\n",
    "# Filter for local authorities in WMCA\n",
    "elec_consump_df = elec_consump_df[elec_consump_df['la_code'].isin(WMCA_code.keys())]"
   ]
  },
  {
   "cell_type": "code",
   "execution_count": 5,
   "metadata": {},
   "outputs": [],
   "source": [
    "# Post code to LSOA to MSOA converting data\n",
    "postcode_df = pd.read_csv(\"../data/external/PCD_OA_LSOA_MSOA_LAD_AUG19_UK_LU.csv\", low_memory=False)\n",
    "# Filter for local authorities in WMCA\n",
    "postcode_df = postcode_df[postcode_df['ladcd'].isin(WMCA_code.keys())]"
   ]
  },
  {
   "cell_type": "code",
   "execution_count": 6,
   "metadata": {},
   "outputs": [],
   "source": [
    "# Merge data to get postcodes associated with each LSOA code\n",
    "postcode_elec_consump_df = pd.merge(postcode_df, elec_consump_df, left_on=\"lsoa11cd\", right_on=\"lsoa_code\", how=\"left\")\n",
    "postcode_elec_consump_df.drop(columns=['la_code', 'la', 'msoa_code', 'msoa', 'lsoa_code', 'lsoa', 'pcd7', 'pcd8'], inplace=True)"
   ]
  },
  {
   "cell_type": "code",
   "execution_count": 7,
   "metadata": {},
   "outputs": [
    {
     "data": {
      "text/html": [
       "<div>\n",
       "<style scoped>\n",
       "    .dataframe tbody tr th:only-of-type {\n",
       "        vertical-align: middle;\n",
       "    }\n",
       "\n",
       "    .dataframe tbody tr th {\n",
       "        vertical-align: top;\n",
       "    }\n",
       "\n",
       "    .dataframe thead th {\n",
       "        text-align: right;\n",
       "    }\n",
       "</style>\n",
       "<table border=\"1\" class=\"dataframe\">\n",
       "  <thead>\n",
       "    <tr style=\"text-align: right;\">\n",
       "      <th></th>\n",
       "      <th>pcds</th>\n",
       "      <th>dointr</th>\n",
       "      <th>doterm</th>\n",
       "      <th>usertype</th>\n",
       "      <th>oa11cd</th>\n",
       "      <th>lsoa11cd</th>\n",
       "      <th>msoa11cd</th>\n",
       "      <th>ladcd</th>\n",
       "      <th>lsoa11nm</th>\n",
       "      <th>msoa11nm</th>\n",
       "      <th>ladnm</th>\n",
       "      <th>ladnmw</th>\n",
       "      <th>num_meter</th>\n",
       "      <th>total_consumption</th>\n",
       "      <th>mean_counsumption</th>\n",
       "      <th>median_consumption</th>\n",
       "    </tr>\n",
       "  </thead>\n",
       "  <tbody>\n",
       "    <tr>\n",
       "      <th>0</th>\n",
       "      <td>B1 1AA</td>\n",
       "      <td>199002</td>\n",
       "      <td>201008.0</td>\n",
       "      <td>1</td>\n",
       "      <td>E00175658</td>\n",
       "      <td>E01033625</td>\n",
       "      <td>E02006899</td>\n",
       "      <td>E08000025</td>\n",
       "      <td>Birmingham 138D</td>\n",
       "      <td>Birmingham 138</td>\n",
       "      <td>Birmingham</td>\n",
       "      <td>NaN</td>\n",
       "      <td>1644.0</td>\n",
       "      <td>8.835614e+06</td>\n",
       "      <td>5374.460963</td>\n",
       "      <td>4826.95</td>\n",
       "    </tr>\n",
       "    <tr>\n",
       "      <th>1</th>\n",
       "      <td>B1 1AD</td>\n",
       "      <td>199101</td>\n",
       "      <td>200307.0</td>\n",
       "      <td>1</td>\n",
       "      <td>E00175658</td>\n",
       "      <td>E01033625</td>\n",
       "      <td>E02006899</td>\n",
       "      <td>E08000025</td>\n",
       "      <td>Birmingham 138D</td>\n",
       "      <td>Birmingham 138</td>\n",
       "      <td>Birmingham</td>\n",
       "      <td>NaN</td>\n",
       "      <td>1644.0</td>\n",
       "      <td>8.835614e+06</td>\n",
       "      <td>5374.460963</td>\n",
       "      <td>4826.95</td>\n",
       "    </tr>\n",
       "    <tr>\n",
       "      <th>2</th>\n",
       "      <td>B1 1AG</td>\n",
       "      <td>198704</td>\n",
       "      <td>200011.0</td>\n",
       "      <td>1</td>\n",
       "      <td>E00175626</td>\n",
       "      <td>E01033616</td>\n",
       "      <td>E02006896</td>\n",
       "      <td>E08000025</td>\n",
       "      <td>Birmingham 135D</td>\n",
       "      <td>Birmingham 135</td>\n",
       "      <td>Birmingham</td>\n",
       "      <td>NaN</td>\n",
       "      <td>1000.0</td>\n",
       "      <td>3.950506e+06</td>\n",
       "      <td>3950.506152</td>\n",
       "      <td>3095.10</td>\n",
       "    </tr>\n",
       "    <tr>\n",
       "      <th>3</th>\n",
       "      <td>B1 1AH</td>\n",
       "      <td>198604</td>\n",
       "      <td>199405.0</td>\n",
       "      <td>1</td>\n",
       "      <td>E00175658</td>\n",
       "      <td>E01033625</td>\n",
       "      <td>E02006899</td>\n",
       "      <td>E08000025</td>\n",
       "      <td>Birmingham 138D</td>\n",
       "      <td>Birmingham 138</td>\n",
       "      <td>Birmingham</td>\n",
       "      <td>NaN</td>\n",
       "      <td>1644.0</td>\n",
       "      <td>8.835614e+06</td>\n",
       "      <td>5374.460963</td>\n",
       "      <td>4826.95</td>\n",
       "    </tr>\n",
       "    <tr>\n",
       "      <th>4</th>\n",
       "      <td>B1 1AQ</td>\n",
       "      <td>199201</td>\n",
       "      <td>200011.0</td>\n",
       "      <td>1</td>\n",
       "      <td>E00175626</td>\n",
       "      <td>E01033616</td>\n",
       "      <td>E02006896</td>\n",
       "      <td>E08000025</td>\n",
       "      <td>Birmingham 135D</td>\n",
       "      <td>Birmingham 135</td>\n",
       "      <td>Birmingham</td>\n",
       "      <td>NaN</td>\n",
       "      <td>1000.0</td>\n",
       "      <td>3.950506e+06</td>\n",
       "      <td>3950.506152</td>\n",
       "      <td>3095.10</td>\n",
       "    </tr>\n",
       "  </tbody>\n",
       "</table>\n",
       "</div>"
      ],
      "text/plain": [
       "     pcds  dointr    doterm  usertype     oa11cd   lsoa11cd   msoa11cd  \\\n",
       "0  B1 1AA  199002  201008.0         1  E00175658  E01033625  E02006899   \n",
       "1  B1 1AD  199101  200307.0         1  E00175658  E01033625  E02006899   \n",
       "2  B1 1AG  198704  200011.0         1  E00175626  E01033616  E02006896   \n",
       "3  B1 1AH  198604  199405.0         1  E00175658  E01033625  E02006899   \n",
       "4  B1 1AQ  199201  200011.0         1  E00175626  E01033616  E02006896   \n",
       "\n",
       "       ladcd         lsoa11nm        msoa11nm       ladnm ladnmw  num_meter  \\\n",
       "0  E08000025  Birmingham 138D  Birmingham 138  Birmingham    NaN     1644.0   \n",
       "1  E08000025  Birmingham 138D  Birmingham 138  Birmingham    NaN     1644.0   \n",
       "2  E08000025  Birmingham 135D  Birmingham 135  Birmingham    NaN     1000.0   \n",
       "3  E08000025  Birmingham 138D  Birmingham 138  Birmingham    NaN     1644.0   \n",
       "4  E08000025  Birmingham 135D  Birmingham 135  Birmingham    NaN     1000.0   \n",
       "\n",
       "   total_consumption  mean_counsumption  median_consumption  \n",
       "0       8.835614e+06        5374.460963             4826.95  \n",
       "1       8.835614e+06        5374.460963             4826.95  \n",
       "2       3.950506e+06        3950.506152             3095.10  \n",
       "3       8.835614e+06        5374.460963             4826.95  \n",
       "4       3.950506e+06        3950.506152             3095.10  "
      ]
     },
     "execution_count": 7,
     "metadata": {},
     "output_type": "execute_result"
    }
   ],
   "source": [
    "postcode_elec_consump_df.head()"
   ]
  },
  {
   "cell_type": "markdown",
   "metadata": {},
   "source": [
    "# Lat and Lng"
   ]
  },
  {
   "cell_type": "code",
   "execution_count": 29,
   "metadata": {},
   "outputs": [],
   "source": [
    "# If we need to get lat and lng for each postcode, then use this. For now, I'm not sure we need it yet.\n",
    "def lookup_postcodes(postcodes):\n",
    "    \"\"\" \n",
    "    Look up a pipe-separated list of postcodes using postcodes.io \n",
    "    \n",
    "    Input:\n",
    "    postcodes(list): List of postcodes to search\n",
    "\n",
    "    Output:\n",
    "    \n",
    "\n",
    "    \"\"\"\n",
    "    url = 'http://api.postcodes.io/postcodes'\n",
    "    data = {\n",
    "        'postcodes': postcodes\n",
    "    }\n",
    "    r = json.loads(requests.post(url, data=data).text)['result']\n",
    "    return r"
   ]
  },
  {
   "cell_type": "markdown",
   "metadata": {},
   "source": [
    "# Fuel Poverty"
   ]
  },
  {
   "cell_type": "code",
   "execution_count": 14,
   "metadata": {},
   "outputs": [],
   "source": [
    "fuel_poverty_df = pd.read_excel(\"../data/external/sub-regional-fuel-poverty-2022-tables.xlsx\", sheet_name=\"Table 3\", header=2)\n",
    "fuel_poverty_df.drop(columns=[\"LSOA Name\", \"LA Code\", \"LA Name\", \"Region\", \"Unnamed: 8\"], inplace=True)\n",
    "fuel_poverty_df.columns = [\"lsoa11cd\", \"num_households\", \"num_households_fuel_poverty\", \"prop_households_fuel_poor\"]"
   ]
  },
  {
   "cell_type": "code",
   "execution_count": 15,
   "metadata": {},
   "outputs": [
    {
     "data": {
      "text/html": [
       "<div>\n",
       "<style scoped>\n",
       "    .dataframe tbody tr th:only-of-type {\n",
       "        vertical-align: middle;\n",
       "    }\n",
       "\n",
       "    .dataframe tbody tr th {\n",
       "        vertical-align: top;\n",
       "    }\n",
       "\n",
       "    .dataframe thead th {\n",
       "        text-align: right;\n",
       "    }\n",
       "</style>\n",
       "<table border=\"1\" class=\"dataframe\">\n",
       "  <thead>\n",
       "    <tr style=\"text-align: right;\">\n",
       "      <th></th>\n",
       "      <th>lsoa11cd</th>\n",
       "      <th>num_households</th>\n",
       "      <th>num_households_fuel_poverty</th>\n",
       "      <th>prop_households_fuel_poor</th>\n",
       "    </tr>\n",
       "  </thead>\n",
       "  <tbody>\n",
       "    <tr>\n",
       "      <th>0</th>\n",
       "      <td>E01000001</td>\n",
       "      <td>936.0</td>\n",
       "      <td>40.0</td>\n",
       "      <td>4.273504</td>\n",
       "    </tr>\n",
       "    <tr>\n",
       "      <th>1</th>\n",
       "      <td>E01000002</td>\n",
       "      <td>893.0</td>\n",
       "      <td>21.0</td>\n",
       "      <td>2.351624</td>\n",
       "    </tr>\n",
       "    <tr>\n",
       "      <th>2</th>\n",
       "      <td>E01000003</td>\n",
       "      <td>888.0</td>\n",
       "      <td>66.0</td>\n",
       "      <td>7.432432</td>\n",
       "    </tr>\n",
       "    <tr>\n",
       "      <th>3</th>\n",
       "      <td>E01000005</td>\n",
       "      <td>507.0</td>\n",
       "      <td>44.0</td>\n",
       "      <td>8.678501</td>\n",
       "    </tr>\n",
       "    <tr>\n",
       "      <th>4</th>\n",
       "      <td>E01000006</td>\n",
       "      <td>595.0</td>\n",
       "      <td>67.0</td>\n",
       "      <td>11.260504</td>\n",
       "    </tr>\n",
       "  </tbody>\n",
       "</table>\n",
       "</div>"
      ],
      "text/plain": [
       "    lsoa11cd  num_households  num_households_fuel_poverty  \\\n",
       "0  E01000001           936.0                         40.0   \n",
       "1  E01000002           893.0                         21.0   \n",
       "2  E01000003           888.0                         66.0   \n",
       "3  E01000005           507.0                         44.0   \n",
       "4  E01000006           595.0                         67.0   \n",
       "\n",
       "  prop_households_fuel_poor  \n",
       "0                  4.273504  \n",
       "1                  2.351624  \n",
       "2                  7.432432  \n",
       "3                  8.678501  \n",
       "4                 11.260504  "
      ]
     },
     "execution_count": 15,
     "metadata": {},
     "output_type": "execute_result"
    }
   ],
   "source": [
    "fuel_poverty_df.head()"
   ]
  },
  {
   "cell_type": "code",
   "execution_count": 16,
   "metadata": {},
   "outputs": [],
   "source": [
    "EPC_postcode_elec_consump = pd.read_csv(\"../data/processed/EPC_elec_consump.csv\")"
   ]
  },
  {
   "cell_type": "code",
   "execution_count": 17,
   "metadata": {},
   "outputs": [],
   "source": [
    "EPC_postcode_elec_consump_fuel_poverty = pd.merge(EPC_postcode_elec_consump, fuel_poverty_df, on=\"lsoa11cd\", how=\"left\")"
   ]
  },
  {
   "cell_type": "code",
   "execution_count": 19,
   "metadata": {},
   "outputs": [],
   "source": [
    "EPC_postcode_elec_consump_fuel_poverty.to_csv(\"../data/processed/EPC_elec_consump_fuel_poverty.csv\", index=False)"
   ]
  },
  {
   "cell_type": "markdown",
   "metadata": {},
   "source": [
    "# EPC Rating Data"
   ]
  },
  {
   "cell_type": "code",
   "execution_count": 50,
   "metadata": {},
   "outputs": [],
   "source": [
    "# Make private\n",
    "import os\n",
    "from dotenv import load_dotenv, find_dotenv\n",
    "\n",
    "# find .env automagically by walking up directories until it's found\n",
    "dotenv_path = find_dotenv()\n",
    "\n",
    "# load up the entries as environment variables\n",
    "load_dotenv(dotenv_path)\n",
    "\n",
    "AUTH_TOKEN = os.environ.get(\"EPC_AUTH_TOKEN\")"
   ]
  },
  {
   "cell_type": "code",
   "execution_count": 43,
   "metadata": {},
   "outputs": [],
   "source": [
    "def get_epc_data(postcode, num_rows=5000):\n",
    "    \"\"\"\n",
    "    Pull data from Domestic Energy Performance Certificates API.\n",
    "\n",
    "    Input:\n",
    "    postcode(str): (1) Postcode \n",
    "    num_rows(int): Number of rows to pull. Max 5000 allowed at one time\n",
    "\n",
    "    Output:\n",
    "    (str): Pulled data from API\n",
    "\n",
    "    \"\"\"\n",
    "    headers = {\n",
    "        'Authorization': f'Basic {AUTH_TOKEN}',\n",
    "        'Accept': 'application/json'\n",
    "    }\n",
    "    params = {\n",
    "        'postcode': postcode,\n",
    "        'size': num_rows\n",
    "    }\n",
    "    url = f'https://epc.opendatacommunities.org/api/v1/domestic/search'\n",
    "    res = requests.get(url, headers=headers, params=params)\n",
    "    return res.text"
   ]
  },
  {
   "cell_type": "code",
   "execution_count": 45,
   "metadata": {},
   "outputs": [],
   "source": [
    "# Pull WMCA postcode data and save as CSV\n",
    "result = list()\n",
    "\n",
    "for code in postcode_elec_consump_df.pcds.unique()[:500]:\n",
    "    requested_data = get_epc_data(code)\n",
    "    if len(requested_data)!=0:\n",
    "        result.extend(json.loads(requested_data)['rows'])"
   ]
  },
  {
   "cell_type": "code",
   "execution_count": 46,
   "metadata": {},
   "outputs": [],
   "source": [
    "EPC_data = pd.DataFrame(result)\n",
    "\n",
    "# Merge EPC and electricity consumption data on postcode\n",
    "EPC_postcode_elec_consump = pd.merge(EPC_data, postcode_elec_consump_df, left_on=\"postcode\", right_on=\"pcds\", how=\"left\")\n",
    "EPC_postcode_elec_consump.drop(columns=[\"pcds\"], inplace=True)"
   ]
  },
  {
   "cell_type": "code",
   "execution_count": 48,
   "metadata": {},
   "outputs": [],
   "source": [
    "EPC_postcode_elec_consump.to_csv(\"../data/processed_data/EPC_elec_consump.csv\", index=False)"
   ]
  },
  {
   "cell_type": "code",
   "execution_count": 39,
   "metadata": {},
   "outputs": [],
   "source": [
    "with open('../data/processed/WMCA_postcodes.pkl', 'wb') as fp:\n",
    "    pickle.dump(EPC_postcode_elec_consump.postcode.unique(), fp)"
   ]
  },
  {
   "cell_type": "code",
   "execution_count": null,
   "metadata": {},
   "outputs": [],
   "source": []
  }
 ],
 "metadata": {
  "kernelspec": {
   "display_name": "Python 3.9.4 64-bit",
   "language": "python",
   "name": "python3"
  },
  "language_info": {
   "codemirror_mode": {
    "name": "ipython",
    "version": 3
   },
   "file_extension": ".py",
   "mimetype": "text/x-python",
   "name": "python",
   "nbconvert_exporter": "python",
   "pygments_lexer": "ipython3",
   "version": "3.9.4"
  },
  "orig_nbformat": 4,
  "vscode": {
   "interpreter": {
    "hash": "a71bc2f0fdff3760b45ea6dafb563485b76fcb756cae0bed9e259635e4639181"
   }
  }
 },
 "nbformat": 4,
 "nbformat_minor": 2
}
