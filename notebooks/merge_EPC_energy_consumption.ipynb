{
 "cells": [
  {
   "cell_type": "code",
   "execution_count": 1,
   "metadata": {},
   "outputs": [],
   "source": [
    "import requests\n",
    "from bs4 import BeautifulSoup\n",
    "import json\n",
    "import pandas as pd\n",
    "import pickle"
   ]
  },
  {
   "cell_type": "markdown",
   "metadata": {},
   "source": [
    "# WMCA LA Code"
   ]
  },
  {
   "cell_type": "code",
   "execution_count": 5,
   "metadata": {},
   "outputs": [],
   "source": [
    "# Get all local authority codes and corresponding council names\n",
    "page = requests.get(\"https://epc.opendatacommunities.org/docs/api/domestic#domestic-local-authority\").text\n",
    "soup = BeautifulSoup(page)\n",
    "\n",
    "table = soup.findAll('table')[3]\n",
    "la_code_dict = {}\n",
    "\n",
    "for tr in table.findAll('tr')[1:]:\n",
    "   code, local_auth = tr.findAll('td')\n",
    "   la_code_dict[local_auth.text] = code.text\n",
    "\n",
    "# Get local authority codes for councils in WMCA\n",
    "WMCA_councils = open(\"../data/raw/WMCA_council.txt\").read().split(\",\")[:-1]\n",
    "WMCA_code = [la_code_dict[i] for i in WMCA_councils]\n",
    "WMCA = dict(zip(WMCA_code, WMCA_councils))\n",
    "\n",
    "# Save codes for future use\n",
    "with open('../data/raw/WMCA_council_code.pkl', 'wb') as f:\n",
    "    pickle.dump(WMCA, f)"
   ]
  },
  {
   "cell_type": "markdown",
   "metadata": {},
   "source": [
    "# Electricity consumption"
   ]
  },
  {
   "cell_type": "code",
   "execution_count": 15,
   "metadata": {},
   "outputs": [],
   "source": [
    "# Electricity consumption data\n",
    "elec_consump_df = pd.read_excel('../data/external/LSOA_domestic_elec_2010-20.xlsx', sheet_name=\"2020\", header=4)\n",
    "elec_consump_df.columns = [\n",
    "        'la_code', 'la', 'msoa_code', 'msoa', 'lsoa_code', 'lsoa', 'num_meter', 'total_consumption', 'mean_counsumption', 'median_consumption'\n",
    "        ]\n",
    "# Filter for local authorities in WMCA\n",
    "elec_consump_df = elec_consump_df[elec_consump_df['la_code'].isin(WMCA_code)]"
   ]
  },
  {
   "cell_type": "code",
   "execution_count": 16,
   "metadata": {},
   "outputs": [],
   "source": [
    "# Post code to LSOA to MSOA converting data\n",
    "postcode_df = pd.read_csv(\"../data/external/PCD_OA_LSOA_MSOA_LAD_AUG19_UK_LU.csv\", low_memory=False)\n",
    "# Filter for local authorities in WMCA\n",
    "postcode_df = postcode_df[postcode_df['ladcd'].isin(WMCA_code)]"
   ]
  },
  {
   "cell_type": "code",
   "execution_count": 17,
   "metadata": {},
   "outputs": [],
   "source": [
    "# Merge data to get postcodes associated with each LSOA code\n",
    "postcode_elec_consump_df = pd.merge(postcode_df, elec_consump_df, left_on=\"lsoa11cd\", right_on=\"lsoa_code\", how=\"left\")\n",
    "postcode_elec_consump_df.drop(columns=['la_code', 'la', 'msoa_code', 'msoa', 'lsoa_code', 'lsoa', 'pcd7', 'pcd8'], inplace=True)"
   ]
  },
  {
   "cell_type": "code",
   "execution_count": 18,
   "metadata": {},
   "outputs": [
    {
     "data": {
      "text/html": [
       "<div>\n",
       "<style scoped>\n",
       "    .dataframe tbody tr th:only-of-type {\n",
       "        vertical-align: middle;\n",
       "    }\n",
       "\n",
       "    .dataframe tbody tr th {\n",
       "        vertical-align: top;\n",
       "    }\n",
       "\n",
       "    .dataframe thead th {\n",
       "        text-align: right;\n",
       "    }\n",
       "</style>\n",
       "<table border=\"1\" class=\"dataframe\">\n",
       "  <thead>\n",
       "    <tr style=\"text-align: right;\">\n",
       "      <th></th>\n",
       "      <th>pcds</th>\n",
       "      <th>dointr</th>\n",
       "      <th>doterm</th>\n",
       "      <th>usertype</th>\n",
       "      <th>oa11cd</th>\n",
       "      <th>lsoa11cd</th>\n",
       "      <th>msoa11cd</th>\n",
       "      <th>ladcd</th>\n",
       "      <th>lsoa11nm</th>\n",
       "      <th>msoa11nm</th>\n",
       "      <th>ladnm</th>\n",
       "      <th>ladnmw</th>\n",
       "      <th>num_meter</th>\n",
       "      <th>total_consumption</th>\n",
       "      <th>mean_counsumption</th>\n",
       "      <th>median_consumption</th>\n",
       "    </tr>\n",
       "  </thead>\n",
       "  <tbody>\n",
       "    <tr>\n",
       "      <th>0</th>\n",
       "      <td>B1 1AA</td>\n",
       "      <td>199002</td>\n",
       "      <td>201008.0</td>\n",
       "      <td>1</td>\n",
       "      <td>E00175658</td>\n",
       "      <td>E01033625</td>\n",
       "      <td>E02006899</td>\n",
       "      <td>E08000025</td>\n",
       "      <td>Birmingham 138D</td>\n",
       "      <td>Birmingham 138</td>\n",
       "      <td>Birmingham</td>\n",
       "      <td>NaN</td>\n",
       "      <td>1644.0</td>\n",
       "      <td>8.835614e+06</td>\n",
       "      <td>5374.460963</td>\n",
       "      <td>4826.95</td>\n",
       "    </tr>\n",
       "    <tr>\n",
       "      <th>1</th>\n",
       "      <td>B1 1AD</td>\n",
       "      <td>199101</td>\n",
       "      <td>200307.0</td>\n",
       "      <td>1</td>\n",
       "      <td>E00175658</td>\n",
       "      <td>E01033625</td>\n",
       "      <td>E02006899</td>\n",
       "      <td>E08000025</td>\n",
       "      <td>Birmingham 138D</td>\n",
       "      <td>Birmingham 138</td>\n",
       "      <td>Birmingham</td>\n",
       "      <td>NaN</td>\n",
       "      <td>1644.0</td>\n",
       "      <td>8.835614e+06</td>\n",
       "      <td>5374.460963</td>\n",
       "      <td>4826.95</td>\n",
       "    </tr>\n",
       "    <tr>\n",
       "      <th>2</th>\n",
       "      <td>B1 1AG</td>\n",
       "      <td>198704</td>\n",
       "      <td>200011.0</td>\n",
       "      <td>1</td>\n",
       "      <td>E00175626</td>\n",
       "      <td>E01033616</td>\n",
       "      <td>E02006896</td>\n",
       "      <td>E08000025</td>\n",
       "      <td>Birmingham 135D</td>\n",
       "      <td>Birmingham 135</td>\n",
       "      <td>Birmingham</td>\n",
       "      <td>NaN</td>\n",
       "      <td>1000.0</td>\n",
       "      <td>3.950506e+06</td>\n",
       "      <td>3950.506152</td>\n",
       "      <td>3095.10</td>\n",
       "    </tr>\n",
       "    <tr>\n",
       "      <th>3</th>\n",
       "      <td>B1 1AH</td>\n",
       "      <td>198604</td>\n",
       "      <td>199405.0</td>\n",
       "      <td>1</td>\n",
       "      <td>E00175658</td>\n",
       "      <td>E01033625</td>\n",
       "      <td>E02006899</td>\n",
       "      <td>E08000025</td>\n",
       "      <td>Birmingham 138D</td>\n",
       "      <td>Birmingham 138</td>\n",
       "      <td>Birmingham</td>\n",
       "      <td>NaN</td>\n",
       "      <td>1644.0</td>\n",
       "      <td>8.835614e+06</td>\n",
       "      <td>5374.460963</td>\n",
       "      <td>4826.95</td>\n",
       "    </tr>\n",
       "    <tr>\n",
       "      <th>4</th>\n",
       "      <td>B1 1AQ</td>\n",
       "      <td>199201</td>\n",
       "      <td>200011.0</td>\n",
       "      <td>1</td>\n",
       "      <td>E00175626</td>\n",
       "      <td>E01033616</td>\n",
       "      <td>E02006896</td>\n",
       "      <td>E08000025</td>\n",
       "      <td>Birmingham 135D</td>\n",
       "      <td>Birmingham 135</td>\n",
       "      <td>Birmingham</td>\n",
       "      <td>NaN</td>\n",
       "      <td>1000.0</td>\n",
       "      <td>3.950506e+06</td>\n",
       "      <td>3950.506152</td>\n",
       "      <td>3095.10</td>\n",
       "    </tr>\n",
       "  </tbody>\n",
       "</table>\n",
       "</div>"
      ],
      "text/plain": [
       "     pcds  dointr    doterm  usertype     oa11cd   lsoa11cd   msoa11cd  \\\n",
       "0  B1 1AA  199002  201008.0         1  E00175658  E01033625  E02006899   \n",
       "1  B1 1AD  199101  200307.0         1  E00175658  E01033625  E02006899   \n",
       "2  B1 1AG  198704  200011.0         1  E00175626  E01033616  E02006896   \n",
       "3  B1 1AH  198604  199405.0         1  E00175658  E01033625  E02006899   \n",
       "4  B1 1AQ  199201  200011.0         1  E00175626  E01033616  E02006896   \n",
       "\n",
       "       ladcd         lsoa11nm        msoa11nm       ladnm ladnmw  num_meter  \\\n",
       "0  E08000025  Birmingham 138D  Birmingham 138  Birmingham    NaN     1644.0   \n",
       "1  E08000025  Birmingham 138D  Birmingham 138  Birmingham    NaN     1644.0   \n",
       "2  E08000025  Birmingham 135D  Birmingham 135  Birmingham    NaN     1000.0   \n",
       "3  E08000025  Birmingham 138D  Birmingham 138  Birmingham    NaN     1644.0   \n",
       "4  E08000025  Birmingham 135D  Birmingham 135  Birmingham    NaN     1000.0   \n",
       "\n",
       "   total_consumption  mean_counsumption  median_consumption  \n",
       "0       8.835614e+06        5374.460963             4826.95  \n",
       "1       8.835614e+06        5374.460963             4826.95  \n",
       "2       3.950506e+06        3950.506152             3095.10  \n",
       "3       8.835614e+06        5374.460963             4826.95  \n",
       "4       3.950506e+06        3950.506152             3095.10  "
      ]
     },
     "execution_count": 18,
     "metadata": {},
     "output_type": "execute_result"
    }
   ],
   "source": [
    "postcode_elec_consump_df.head()"
   ]
  },
  {
   "cell_type": "markdown",
   "metadata": {},
   "source": [
    "# Lat and Lng"
   ]
  },
  {
   "cell_type": "code",
   "execution_count": 29,
   "metadata": {},
   "outputs": [],
   "source": [
    "# If we need to get lat and lng for each postcode, then use this. For now, I'm not sure we need it yet.\n",
    "def lookup_postcodes(postcodes):\n",
    "    \"\"\" \n",
    "    Look up a pipe-separated list of postcodes using postcodes.io \n",
    "    \n",
    "    Input:\n",
    "    postcodes(list): List of postcodes to search\n",
    "\n",
    "    Output:\n",
    "    \n",
    "\n",
    "    \"\"\"\n",
    "    url = 'http://api.postcodes.io/postcodes'\n",
    "    data = {\n",
    "        'postcodes': postcodes\n",
    "    }\n",
    "    r = json.loads(requests.post(url, data=data).text)['result']\n",
    "    return r"
   ]
  },
  {
   "cell_type": "markdown",
   "metadata": {},
   "source": [
    "# EPC Rating Data"
   ]
  },
  {
   "cell_type": "code",
   "execution_count": 19,
   "metadata": {},
   "outputs": [],
   "source": [
    "# Make private\n",
    "import os\n",
    "from dotenv import load_dotenv, find_dotenv\n",
    "\n",
    "# find .env automagically by walking up directories until it's found\n",
    "dotenv_path = find_dotenv()\n",
    "\n",
    "# load up the entries as environment variables\n",
    "load_dotenv(dotenv_path)\n",
    "\n",
    "AUTH_TOKEN = os.environ.get(\"EPC_AUTH_TOKEN\")"
   ]
  },
  {
   "cell_type": "code",
   "execution_count": 20,
   "metadata": {},
   "outputs": [],
   "source": [
    "def get_epc_data(postcode, num_rows=5000):\n",
    "    \"\"\"\n",
    "    Pull data from Domestic Energy Performance Certificates API.\n",
    "\n",
    "    Input:\n",
    "    postcode(str): (1) Postcode \n",
    "    num_rows(int): Number of rows to pull. Max 5000 allowed at one time\n",
    "\n",
    "    Output:\n",
    "    (str): Pulled data from API\n",
    "\n",
    "    \"\"\"\n",
    "    headers = {\n",
    "        'Authorization': f'Basic {AUTH_TOKEN}',\n",
    "        'Accept': 'application/json'\n",
    "    }\n",
    "    params = {\n",
    "        'postcode': postcode,\n",
    "        'size': num_rows\n",
    "    }\n",
    "    url = f'https://epc.opendatacommunities.org/api/v1/domestic/search'\n",
    "    res = requests.get(url, headers=headers, params=params)\n",
    "    return res.text"
   ]
  },
  {
   "cell_type": "code",
   "execution_count": 21,
   "metadata": {},
   "outputs": [
    {
     "ename": "ConnectionError",
     "evalue": "HTTPSConnectionPool(host='epc.opendatacommunities.org', port=443): Max retries exceeded with url: /api/v1/domestic/search?postcode=B49+5WE&size=5000 (Caused by NewConnectionError('<urllib3.connection.HTTPSConnection object at 0x000002042B4B4400>: Failed to establish a new connection: [Errno 11002] getaddrinfo failed'))",
     "output_type": "error",
     "traceback": [
      "\u001b[1;31m---------------------------------------------------------------------------\u001b[0m",
      "\u001b[1;31mgaierror\u001b[0m                                  Traceback (most recent call last)",
      "File \u001b[1;32mc:\\Users\\lilia\\AppData\\Local\\Programs\\Python\\Python39\\lib\\site-packages\\urllib3\\connection.py:169\u001b[0m, in \u001b[0;36mHTTPConnection._new_conn\u001b[1;34m(self)\u001b[0m\n\u001b[0;32m    168\u001b[0m \u001b[39mtry\u001b[39;00m:\n\u001b[1;32m--> 169\u001b[0m     conn \u001b[39m=\u001b[39m connection\u001b[39m.\u001b[39mcreate_connection(\n\u001b[0;32m    170\u001b[0m         (\u001b[39mself\u001b[39m\u001b[39m.\u001b[39m_dns_host, \u001b[39mself\u001b[39m\u001b[39m.\u001b[39mport), \u001b[39mself\u001b[39m\u001b[39m.\u001b[39mtimeout, \u001b[39m*\u001b[39m\u001b[39m*\u001b[39mextra_kw\n\u001b[0;32m    171\u001b[0m     )\n\u001b[0;32m    173\u001b[0m \u001b[39mexcept\u001b[39;00m SocketTimeout:\n",
      "File \u001b[1;32mc:\\Users\\lilia\\AppData\\Local\\Programs\\Python\\Python39\\lib\\site-packages\\urllib3\\util\\connection.py:73\u001b[0m, in \u001b[0;36mcreate_connection\u001b[1;34m(address, timeout, source_address, socket_options)\u001b[0m\n\u001b[0;32m     69\u001b[0m     \u001b[39mreturn\u001b[39;00m six\u001b[39m.\u001b[39mraise_from(\n\u001b[0;32m     70\u001b[0m         LocationParseError(\u001b[39mu\u001b[39m\u001b[39m\"\u001b[39m\u001b[39m'\u001b[39m\u001b[39m%s\u001b[39;00m\u001b[39m'\u001b[39m\u001b[39m, label empty or too long\u001b[39m\u001b[39m\"\u001b[39m \u001b[39m%\u001b[39m host), \u001b[39mNone\u001b[39;00m\n\u001b[0;32m     71\u001b[0m     )\n\u001b[1;32m---> 73\u001b[0m \u001b[39mfor\u001b[39;00m res \u001b[39min\u001b[39;00m socket\u001b[39m.\u001b[39;49mgetaddrinfo(host, port, family, socket\u001b[39m.\u001b[39;49mSOCK_STREAM):\n\u001b[0;32m     74\u001b[0m     af, socktype, proto, canonname, sa \u001b[39m=\u001b[39m res\n",
      "File \u001b[1;32mc:\\Users\\lilia\\AppData\\Local\\Programs\\Python\\Python39\\lib\\socket.py:953\u001b[0m, in \u001b[0;36mgetaddrinfo\u001b[1;34m(host, port, family, type, proto, flags)\u001b[0m\n\u001b[0;32m    952\u001b[0m addrlist \u001b[39m=\u001b[39m []\n\u001b[1;32m--> 953\u001b[0m \u001b[39mfor\u001b[39;00m res \u001b[39min\u001b[39;00m _socket\u001b[39m.\u001b[39;49mgetaddrinfo(host, port, family, \u001b[39mtype\u001b[39;49m, proto, flags):\n\u001b[0;32m    954\u001b[0m     af, socktype, proto, canonname, sa \u001b[39m=\u001b[39m res\n",
      "\u001b[1;31mgaierror\u001b[0m: [Errno 11002] getaddrinfo failed",
      "\nDuring handling of the above exception, another exception occurred:\n",
      "\u001b[1;31mNewConnectionError\u001b[0m                        Traceback (most recent call last)",
      "File \u001b[1;32mc:\\Users\\lilia\\AppData\\Local\\Programs\\Python\\Python39\\lib\\site-packages\\urllib3\\connectionpool.py:699\u001b[0m, in \u001b[0;36mHTTPConnectionPool.urlopen\u001b[1;34m(self, method, url, body, headers, retries, redirect, assert_same_host, timeout, pool_timeout, release_conn, chunked, body_pos, **response_kw)\u001b[0m\n\u001b[0;32m    698\u001b[0m \u001b[39m# Make the request on the httplib connection object.\u001b[39;00m\n\u001b[1;32m--> 699\u001b[0m httplib_response \u001b[39m=\u001b[39m \u001b[39mself\u001b[39;49m\u001b[39m.\u001b[39;49m_make_request(\n\u001b[0;32m    700\u001b[0m     conn,\n\u001b[0;32m    701\u001b[0m     method,\n\u001b[0;32m    702\u001b[0m     url,\n\u001b[0;32m    703\u001b[0m     timeout\u001b[39m=\u001b[39;49mtimeout_obj,\n\u001b[0;32m    704\u001b[0m     body\u001b[39m=\u001b[39;49mbody,\n\u001b[0;32m    705\u001b[0m     headers\u001b[39m=\u001b[39;49mheaders,\n\u001b[0;32m    706\u001b[0m     chunked\u001b[39m=\u001b[39;49mchunked,\n\u001b[0;32m    707\u001b[0m )\n\u001b[0;32m    709\u001b[0m \u001b[39m# If we're going to release the connection in ``finally:``, then\u001b[39;00m\n\u001b[0;32m    710\u001b[0m \u001b[39m# the response doesn't need to know about the connection. Otherwise\u001b[39;00m\n\u001b[0;32m    711\u001b[0m \u001b[39m# it will also try to release it and we'll have a double-release\u001b[39;00m\n\u001b[0;32m    712\u001b[0m \u001b[39m# mess.\u001b[39;00m\n",
      "File \u001b[1;32mc:\\Users\\lilia\\AppData\\Local\\Programs\\Python\\Python39\\lib\\site-packages\\urllib3\\connectionpool.py:382\u001b[0m, in \u001b[0;36mHTTPConnectionPool._make_request\u001b[1;34m(self, conn, method, url, timeout, chunked, **httplib_request_kw)\u001b[0m\n\u001b[0;32m    381\u001b[0m \u001b[39mtry\u001b[39;00m:\n\u001b[1;32m--> 382\u001b[0m     \u001b[39mself\u001b[39;49m\u001b[39m.\u001b[39;49m_validate_conn(conn)\n\u001b[0;32m    383\u001b[0m \u001b[39mexcept\u001b[39;00m (SocketTimeout, BaseSSLError) \u001b[39mas\u001b[39;00m e:\n\u001b[0;32m    384\u001b[0m     \u001b[39m# Py2 raises this as a BaseSSLError, Py3 raises it as socket timeout.\u001b[39;00m\n",
      "File \u001b[1;32mc:\\Users\\lilia\\AppData\\Local\\Programs\\Python\\Python39\\lib\\site-packages\\urllib3\\connectionpool.py:1010\u001b[0m, in \u001b[0;36mHTTPSConnectionPool._validate_conn\u001b[1;34m(self, conn)\u001b[0m\n\u001b[0;32m   1009\u001b[0m \u001b[39mif\u001b[39;00m \u001b[39mnot\u001b[39;00m \u001b[39mgetattr\u001b[39m(conn, \u001b[39m\"\u001b[39m\u001b[39msock\u001b[39m\u001b[39m\"\u001b[39m, \u001b[39mNone\u001b[39;00m):  \u001b[39m# AppEngine might not have  `.sock`\u001b[39;00m\n\u001b[1;32m-> 1010\u001b[0m     conn\u001b[39m.\u001b[39;49mconnect()\n\u001b[0;32m   1012\u001b[0m \u001b[39mif\u001b[39;00m \u001b[39mnot\u001b[39;00m conn\u001b[39m.\u001b[39mis_verified:\n",
      "File \u001b[1;32mc:\\Users\\lilia\\AppData\\Local\\Programs\\Python\\Python39\\lib\\site-packages\\urllib3\\connection.py:353\u001b[0m, in \u001b[0;36mHTTPSConnection.connect\u001b[1;34m(self)\u001b[0m\n\u001b[0;32m    351\u001b[0m \u001b[39mdef\u001b[39;00m \u001b[39mconnect\u001b[39m(\u001b[39mself\u001b[39m):\n\u001b[0;32m    352\u001b[0m     \u001b[39m# Add certificate verification\u001b[39;00m\n\u001b[1;32m--> 353\u001b[0m     conn \u001b[39m=\u001b[39m \u001b[39mself\u001b[39;49m\u001b[39m.\u001b[39;49m_new_conn()\n\u001b[0;32m    354\u001b[0m     hostname \u001b[39m=\u001b[39m \u001b[39mself\u001b[39m\u001b[39m.\u001b[39mhost\n",
      "File \u001b[1;32mc:\\Users\\lilia\\AppData\\Local\\Programs\\Python\\Python39\\lib\\site-packages\\urllib3\\connection.py:181\u001b[0m, in \u001b[0;36mHTTPConnection._new_conn\u001b[1;34m(self)\u001b[0m\n\u001b[0;32m    180\u001b[0m \u001b[39mexcept\u001b[39;00m SocketError \u001b[39mas\u001b[39;00m e:\n\u001b[1;32m--> 181\u001b[0m     \u001b[39mraise\u001b[39;00m NewConnectionError(\n\u001b[0;32m    182\u001b[0m         \u001b[39mself\u001b[39m, \u001b[39m\"\u001b[39m\u001b[39mFailed to establish a new connection: \u001b[39m\u001b[39m%s\u001b[39;00m\u001b[39m\"\u001b[39m \u001b[39m%\u001b[39m e\n\u001b[0;32m    183\u001b[0m     )\n\u001b[0;32m    185\u001b[0m \u001b[39mreturn\u001b[39;00m conn\n",
      "\u001b[1;31mNewConnectionError\u001b[0m: <urllib3.connection.HTTPSConnection object at 0x000002042B4B4400>: Failed to establish a new connection: [Errno 11002] getaddrinfo failed",
      "\nDuring handling of the above exception, another exception occurred:\n",
      "\u001b[1;31mMaxRetryError\u001b[0m                             Traceback (most recent call last)",
      "File \u001b[1;32mc:\\Users\\lilia\\AppData\\Local\\Programs\\Python\\Python39\\lib\\site-packages\\requests\\adapters.py:439\u001b[0m, in \u001b[0;36mHTTPAdapter.send\u001b[1;34m(self, request, stream, timeout, verify, cert, proxies)\u001b[0m\n\u001b[0;32m    438\u001b[0m \u001b[39mif\u001b[39;00m \u001b[39mnot\u001b[39;00m chunked:\n\u001b[1;32m--> 439\u001b[0m     resp \u001b[39m=\u001b[39m conn\u001b[39m.\u001b[39;49murlopen(\n\u001b[0;32m    440\u001b[0m         method\u001b[39m=\u001b[39;49mrequest\u001b[39m.\u001b[39;49mmethod,\n\u001b[0;32m    441\u001b[0m         url\u001b[39m=\u001b[39;49murl,\n\u001b[0;32m    442\u001b[0m         body\u001b[39m=\u001b[39;49mrequest\u001b[39m.\u001b[39;49mbody,\n\u001b[0;32m    443\u001b[0m         headers\u001b[39m=\u001b[39;49mrequest\u001b[39m.\u001b[39;49mheaders,\n\u001b[0;32m    444\u001b[0m         redirect\u001b[39m=\u001b[39;49m\u001b[39mFalse\u001b[39;49;00m,\n\u001b[0;32m    445\u001b[0m         assert_same_host\u001b[39m=\u001b[39;49m\u001b[39mFalse\u001b[39;49;00m,\n\u001b[0;32m    446\u001b[0m         preload_content\u001b[39m=\u001b[39;49m\u001b[39mFalse\u001b[39;49;00m,\n\u001b[0;32m    447\u001b[0m         decode_content\u001b[39m=\u001b[39;49m\u001b[39mFalse\u001b[39;49;00m,\n\u001b[0;32m    448\u001b[0m         retries\u001b[39m=\u001b[39;49m\u001b[39mself\u001b[39;49m\u001b[39m.\u001b[39;49mmax_retries,\n\u001b[0;32m    449\u001b[0m         timeout\u001b[39m=\u001b[39;49mtimeout\n\u001b[0;32m    450\u001b[0m     )\n\u001b[0;32m    452\u001b[0m \u001b[39m# Send the request.\u001b[39;00m\n\u001b[0;32m    453\u001b[0m \u001b[39melse\u001b[39;00m:\n",
      "File \u001b[1;32mc:\\Users\\lilia\\AppData\\Local\\Programs\\Python\\Python39\\lib\\site-packages\\urllib3\\connectionpool.py:755\u001b[0m, in \u001b[0;36mHTTPConnectionPool.urlopen\u001b[1;34m(self, method, url, body, headers, retries, redirect, assert_same_host, timeout, pool_timeout, release_conn, chunked, body_pos, **response_kw)\u001b[0m\n\u001b[0;32m    753\u001b[0m     e \u001b[39m=\u001b[39m ProtocolError(\u001b[39m\"\u001b[39m\u001b[39mConnection aborted.\u001b[39m\u001b[39m\"\u001b[39m, e)\n\u001b[1;32m--> 755\u001b[0m retries \u001b[39m=\u001b[39m retries\u001b[39m.\u001b[39;49mincrement(\n\u001b[0;32m    756\u001b[0m     method, url, error\u001b[39m=\u001b[39;49me, _pool\u001b[39m=\u001b[39;49m\u001b[39mself\u001b[39;49m, _stacktrace\u001b[39m=\u001b[39;49msys\u001b[39m.\u001b[39;49mexc_info()[\u001b[39m2\u001b[39;49m]\n\u001b[0;32m    757\u001b[0m )\n\u001b[0;32m    758\u001b[0m retries\u001b[39m.\u001b[39msleep()\n",
      "File \u001b[1;32mc:\\Users\\lilia\\AppData\\Local\\Programs\\Python\\Python39\\lib\\site-packages\\urllib3\\util\\retry.py:574\u001b[0m, in \u001b[0;36mRetry.increment\u001b[1;34m(self, method, url, response, error, _pool, _stacktrace)\u001b[0m\n\u001b[0;32m    573\u001b[0m \u001b[39mif\u001b[39;00m new_retry\u001b[39m.\u001b[39mis_exhausted():\n\u001b[1;32m--> 574\u001b[0m     \u001b[39mraise\u001b[39;00m MaxRetryError(_pool, url, error \u001b[39mor\u001b[39;00m ResponseError(cause))\n\u001b[0;32m    576\u001b[0m log\u001b[39m.\u001b[39mdebug(\u001b[39m\"\u001b[39m\u001b[39mIncremented Retry for (url=\u001b[39m\u001b[39m'\u001b[39m\u001b[39m%s\u001b[39;00m\u001b[39m'\u001b[39m\u001b[39m): \u001b[39m\u001b[39m%r\u001b[39;00m\u001b[39m\"\u001b[39m, url, new_retry)\n",
      "\u001b[1;31mMaxRetryError\u001b[0m: HTTPSConnectionPool(host='epc.opendatacommunities.org', port=443): Max retries exceeded with url: /api/v1/domestic/search?postcode=B49+5WE&size=5000 (Caused by NewConnectionError('<urllib3.connection.HTTPSConnection object at 0x000002042B4B4400>: Failed to establish a new connection: [Errno 11002] getaddrinfo failed'))",
      "\nDuring handling of the above exception, another exception occurred:\n",
      "\u001b[1;31mConnectionError\u001b[0m                           Traceback (most recent call last)",
      "\u001b[1;32mc:\\Users\\lilia\\Documents\\GitHub\\WMCA\\DSSG_WMCA\\notebooks\\merge_EPC_energy_consumption.ipynb Cell 14'\u001b[0m in \u001b[0;36m<cell line: 4>\u001b[1;34m()\u001b[0m\n\u001b[0;32m      <a href='vscode-notebook-cell:/c%3A/Users/lilia/Documents/GitHub/WMCA/DSSG_WMCA/notebooks/merge_EPC_energy_consumption.ipynb#ch0000013?line=1'>2</a>\u001b[0m result \u001b[39m=\u001b[39m \u001b[39mlist\u001b[39m()\n\u001b[0;32m      <a href='vscode-notebook-cell:/c%3A/Users/lilia/Documents/GitHub/WMCA/DSSG_WMCA/notebooks/merge_EPC_energy_consumption.ipynb#ch0000013?line=3'>4</a>\u001b[0m \u001b[39mfor\u001b[39;00m code \u001b[39min\u001b[39;00m postcode_elec_consump_df\u001b[39m.\u001b[39mpcds\u001b[39m.\u001b[39munique():\n\u001b[1;32m----> <a href='vscode-notebook-cell:/c%3A/Users/lilia/Documents/GitHub/WMCA/DSSG_WMCA/notebooks/merge_EPC_energy_consumption.ipynb#ch0000013?line=4'>5</a>\u001b[0m     requested_data \u001b[39m=\u001b[39m get_epc_data(code)\n\u001b[0;32m      <a href='vscode-notebook-cell:/c%3A/Users/lilia/Documents/GitHub/WMCA/DSSG_WMCA/notebooks/merge_EPC_energy_consumption.ipynb#ch0000013?line=5'>6</a>\u001b[0m     \u001b[39mif\u001b[39;00m \u001b[39mlen\u001b[39m(requested_data)\u001b[39m!=\u001b[39m\u001b[39m0\u001b[39m:\n\u001b[0;32m      <a href='vscode-notebook-cell:/c%3A/Users/lilia/Documents/GitHub/WMCA/DSSG_WMCA/notebooks/merge_EPC_energy_consumption.ipynb#ch0000013?line=6'>7</a>\u001b[0m         result\u001b[39m.\u001b[39mextend(json\u001b[39m.\u001b[39mloads(requested_data)[\u001b[39m'\u001b[39m\u001b[39mrows\u001b[39m\u001b[39m'\u001b[39m])\n",
      "\u001b[1;32mc:\\Users\\lilia\\Documents\\GitHub\\WMCA\\DSSG_WMCA\\notebooks\\merge_EPC_energy_consumption.ipynb Cell 13'\u001b[0m in \u001b[0;36mget_epc_data\u001b[1;34m(postcode, num_rows)\u001b[0m\n\u001b[0;32m     <a href='vscode-notebook-cell:/c%3A/Users/lilia/Documents/GitHub/WMCA/DSSG_WMCA/notebooks/merge_EPC_energy_consumption.ipynb#ch0000012?line=16'>17</a>\u001b[0m params \u001b[39m=\u001b[39m {\n\u001b[0;32m     <a href='vscode-notebook-cell:/c%3A/Users/lilia/Documents/GitHub/WMCA/DSSG_WMCA/notebooks/merge_EPC_energy_consumption.ipynb#ch0000012?line=17'>18</a>\u001b[0m     \u001b[39m'\u001b[39m\u001b[39mpostcode\u001b[39m\u001b[39m'\u001b[39m: postcode,\n\u001b[0;32m     <a href='vscode-notebook-cell:/c%3A/Users/lilia/Documents/GitHub/WMCA/DSSG_WMCA/notebooks/merge_EPC_energy_consumption.ipynb#ch0000012?line=18'>19</a>\u001b[0m     \u001b[39m'\u001b[39m\u001b[39msize\u001b[39m\u001b[39m'\u001b[39m: num_rows\n\u001b[0;32m     <a href='vscode-notebook-cell:/c%3A/Users/lilia/Documents/GitHub/WMCA/DSSG_WMCA/notebooks/merge_EPC_energy_consumption.ipynb#ch0000012?line=19'>20</a>\u001b[0m }\n\u001b[0;32m     <a href='vscode-notebook-cell:/c%3A/Users/lilia/Documents/GitHub/WMCA/DSSG_WMCA/notebooks/merge_EPC_energy_consumption.ipynb#ch0000012?line=20'>21</a>\u001b[0m url \u001b[39m=\u001b[39m \u001b[39mf\u001b[39m\u001b[39m'\u001b[39m\u001b[39mhttps://epc.opendatacommunities.org/api/v1/domestic/search\u001b[39m\u001b[39m'\u001b[39m\n\u001b[1;32m---> <a href='vscode-notebook-cell:/c%3A/Users/lilia/Documents/GitHub/WMCA/DSSG_WMCA/notebooks/merge_EPC_energy_consumption.ipynb#ch0000012?line=21'>22</a>\u001b[0m res \u001b[39m=\u001b[39m requests\u001b[39m.\u001b[39;49mget(url, headers\u001b[39m=\u001b[39;49mheaders, params\u001b[39m=\u001b[39;49mparams)\n\u001b[0;32m     <a href='vscode-notebook-cell:/c%3A/Users/lilia/Documents/GitHub/WMCA/DSSG_WMCA/notebooks/merge_EPC_energy_consumption.ipynb#ch0000012?line=22'>23</a>\u001b[0m \u001b[39mreturn\u001b[39;00m res\u001b[39m.\u001b[39mtext\n",
      "File \u001b[1;32mc:\\Users\\lilia\\AppData\\Local\\Programs\\Python\\Python39\\lib\\site-packages\\requests\\api.py:76\u001b[0m, in \u001b[0;36mget\u001b[1;34m(url, params, **kwargs)\u001b[0m\n\u001b[0;32m     65\u001b[0m \u001b[39mr\u001b[39m\u001b[39m\"\"\"Sends a GET request.\u001b[39;00m\n\u001b[0;32m     66\u001b[0m \n\u001b[0;32m     67\u001b[0m \u001b[39m:param url: URL for the new :class:`Request` object.\u001b[39;00m\n\u001b[1;32m   (...)\u001b[0m\n\u001b[0;32m     72\u001b[0m \u001b[39m:rtype: requests.Response\u001b[39;00m\n\u001b[0;32m     73\u001b[0m \u001b[39m\"\"\"\u001b[39;00m\n\u001b[0;32m     75\u001b[0m kwargs\u001b[39m.\u001b[39msetdefault(\u001b[39m'\u001b[39m\u001b[39mallow_redirects\u001b[39m\u001b[39m'\u001b[39m, \u001b[39mTrue\u001b[39;00m)\n\u001b[1;32m---> 76\u001b[0m \u001b[39mreturn\u001b[39;00m request(\u001b[39m'\u001b[39m\u001b[39mget\u001b[39m\u001b[39m'\u001b[39m, url, params\u001b[39m=\u001b[39mparams, \u001b[39m*\u001b[39m\u001b[39m*\u001b[39mkwargs)\n",
      "File \u001b[1;32mc:\\Users\\lilia\\AppData\\Local\\Programs\\Python\\Python39\\lib\\site-packages\\requests\\api.py:61\u001b[0m, in \u001b[0;36mrequest\u001b[1;34m(method, url, **kwargs)\u001b[0m\n\u001b[0;32m     57\u001b[0m \u001b[39m# By using the 'with' statement we are sure the session is closed, thus we\u001b[39;00m\n\u001b[0;32m     58\u001b[0m \u001b[39m# avoid leaving sockets open which can trigger a ResourceWarning in some\u001b[39;00m\n\u001b[0;32m     59\u001b[0m \u001b[39m# cases, and look like a memory leak in others.\u001b[39;00m\n\u001b[0;32m     60\u001b[0m \u001b[39mwith\u001b[39;00m sessions\u001b[39m.\u001b[39mSession() \u001b[39mas\u001b[39;00m session:\n\u001b[1;32m---> 61\u001b[0m     \u001b[39mreturn\u001b[39;00m session\u001b[39m.\u001b[39mrequest(method\u001b[39m=\u001b[39mmethod, url\u001b[39m=\u001b[39murl, \u001b[39m*\u001b[39m\u001b[39m*\u001b[39mkwargs)\n",
      "File \u001b[1;32mc:\\Users\\lilia\\AppData\\Local\\Programs\\Python\\Python39\\lib\\site-packages\\requests\\sessions.py:542\u001b[0m, in \u001b[0;36mSession.request\u001b[1;34m(self, method, url, params, data, headers, cookies, files, auth, timeout, allow_redirects, proxies, hooks, stream, verify, cert, json)\u001b[0m\n\u001b[0;32m    537\u001b[0m send_kwargs \u001b[39m=\u001b[39m {\n\u001b[0;32m    538\u001b[0m     \u001b[39m'\u001b[39m\u001b[39mtimeout\u001b[39m\u001b[39m'\u001b[39m: timeout,\n\u001b[0;32m    539\u001b[0m     \u001b[39m'\u001b[39m\u001b[39mallow_redirects\u001b[39m\u001b[39m'\u001b[39m: allow_redirects,\n\u001b[0;32m    540\u001b[0m }\n\u001b[0;32m    541\u001b[0m send_kwargs\u001b[39m.\u001b[39mupdate(settings)\n\u001b[1;32m--> 542\u001b[0m resp \u001b[39m=\u001b[39m \u001b[39mself\u001b[39m\u001b[39m.\u001b[39msend(prep, \u001b[39m*\u001b[39m\u001b[39m*\u001b[39msend_kwargs)\n\u001b[0;32m    544\u001b[0m \u001b[39mreturn\u001b[39;00m resp\n",
      "File \u001b[1;32mc:\\Users\\lilia\\AppData\\Local\\Programs\\Python\\Python39\\lib\\site-packages\\requests\\sessions.py:655\u001b[0m, in \u001b[0;36mSession.send\u001b[1;34m(self, request, **kwargs)\u001b[0m\n\u001b[0;32m    652\u001b[0m start \u001b[39m=\u001b[39m preferred_clock()\n\u001b[0;32m    654\u001b[0m \u001b[39m# Send the request\u001b[39;00m\n\u001b[1;32m--> 655\u001b[0m r \u001b[39m=\u001b[39m adapter\u001b[39m.\u001b[39msend(request, \u001b[39m*\u001b[39m\u001b[39m*\u001b[39mkwargs)\n\u001b[0;32m    657\u001b[0m \u001b[39m# Total elapsed time of the request (approximately)\u001b[39;00m\n\u001b[0;32m    658\u001b[0m elapsed \u001b[39m=\u001b[39m preferred_clock() \u001b[39m-\u001b[39m start\n",
      "File \u001b[1;32mc:\\Users\\lilia\\AppData\\Local\\Programs\\Python\\Python39\\lib\\site-packages\\requests\\adapters.py:516\u001b[0m, in \u001b[0;36mHTTPAdapter.send\u001b[1;34m(self, request, stream, timeout, verify, cert, proxies)\u001b[0m\n\u001b[0;32m    512\u001b[0m     \u001b[39mif\u001b[39;00m \u001b[39misinstance\u001b[39m(e\u001b[39m.\u001b[39mreason, _SSLError):\n\u001b[0;32m    513\u001b[0m         \u001b[39m# This branch is for urllib3 v1.22 and later.\u001b[39;00m\n\u001b[0;32m    514\u001b[0m         \u001b[39mraise\u001b[39;00m SSLError(e, request\u001b[39m=\u001b[39mrequest)\n\u001b[1;32m--> 516\u001b[0m     \u001b[39mraise\u001b[39;00m \u001b[39mConnectionError\u001b[39;00m(e, request\u001b[39m=\u001b[39mrequest)\n\u001b[0;32m    518\u001b[0m \u001b[39mexcept\u001b[39;00m ClosedPoolError \u001b[39mas\u001b[39;00m e:\n\u001b[0;32m    519\u001b[0m     \u001b[39mraise\u001b[39;00m \u001b[39mConnectionError\u001b[39;00m(e, request\u001b[39m=\u001b[39mrequest)\n",
      "\u001b[1;31mConnectionError\u001b[0m: HTTPSConnectionPool(host='epc.opendatacommunities.org', port=443): Max retries exceeded with url: /api/v1/domestic/search?postcode=B49+5WE&size=5000 (Caused by NewConnectionError('<urllib3.connection.HTTPSConnection object at 0x000002042B4B4400>: Failed to establish a new connection: [Errno 11002] getaddrinfo failed'))"
     ]
    }
   ],
   "source": [
    "# Pull WMCA postcode data and save as CSV\n",
    "result = list()\n",
    "\n",
    "for code in postcode_elec_consump_df.pcds.unique():\n",
    "    requested_data = get_epc_data(code)\n",
    "    if len(requested_data)!=0:\n",
    "        result.extend(json.loads(requested_data)['rows'])"
   ]
  },
  {
   "cell_type": "code",
   "execution_count": null,
   "metadata": {},
   "outputs": [],
   "source": [
    "EPC_data = pd.DataFrame(result)\n",
    "\n",
    "# Merge EPC and electricity consumption data on postcode\n",
    "EPC_postcode_elec_consump = pd.merge(EPC_data, postcode_elec_consump_df, left_on=\"postcode\", right_on=\"pcds\", how=\"left\")\n",
    "EPC_postcode_elec_consump.drop(columns=[\"pcds\"], inplace=True)"
   ]
  },
  {
   "cell_type": "code",
   "execution_count": null,
   "metadata": {},
   "outputs": [],
   "source": [
    "EPC_postcode_elec_consump.to_csv(\"../data/processed/EPC_elec_consump.csv\", index=False)"
   ]
  },
  {
   "cell_type": "code",
   "execution_count": 39,
   "metadata": {},
   "outputs": [],
   "source": [
    "# Export postcodes\n",
    "with open('../data/processed/WMCA_postcodes.pkl', 'wb') as fp:\n",
    "    pickle.dump(EPC_postcode_elec_consump.postcode.unique(), fp)"
   ]
  },
  {
   "cell_type": "markdown",
   "metadata": {},
   "source": [
    "# Fuel Poverty"
   ]
  },
  {
   "cell_type": "code",
   "execution_count": null,
   "metadata": {},
   "outputs": [],
   "source": [
    "fuel_poverty_df = pd.read_excel(\"../data/external/sub-regional-fuel-poverty-2022-tables.xlsx\", sheet_name=\"Table 3\", header=2)\n",
    "fuel_poverty_df.drop(columns=[\"LSOA Name\", \"LA Code\", \"LA Name\", \"Region\", \"Unnamed: 8\"], inplace=True)\n",
    "fuel_poverty_df.columns = [\"lsoa11cd\", \"num_households\", \"num_households_fuel_poverty\", \"prop_households_fuel_poor\"]"
   ]
  },
  {
   "cell_type": "code",
   "execution_count": null,
   "metadata": {},
   "outputs": [
    {
     "data": {
      "text/html": [
       "<div>\n",
       "<style scoped>\n",
       "    .dataframe tbody tr th:only-of-type {\n",
       "        vertical-align: middle;\n",
       "    }\n",
       "\n",
       "    .dataframe tbody tr th {\n",
       "        vertical-align: top;\n",
       "    }\n",
       "\n",
       "    .dataframe thead th {\n",
       "        text-align: right;\n",
       "    }\n",
       "</style>\n",
       "<table border=\"1\" class=\"dataframe\">\n",
       "  <thead>\n",
       "    <tr style=\"text-align: right;\">\n",
       "      <th></th>\n",
       "      <th>lsoa11cd</th>\n",
       "      <th>num_households</th>\n",
       "      <th>num_households_fuel_poverty</th>\n",
       "      <th>prop_households_fuel_poor</th>\n",
       "    </tr>\n",
       "  </thead>\n",
       "  <tbody>\n",
       "    <tr>\n",
       "      <th>0</th>\n",
       "      <td>E01000001</td>\n",
       "      <td>936.0</td>\n",
       "      <td>40.0</td>\n",
       "      <td>4.273504</td>\n",
       "    </tr>\n",
       "    <tr>\n",
       "      <th>1</th>\n",
       "      <td>E01000002</td>\n",
       "      <td>893.0</td>\n",
       "      <td>21.0</td>\n",
       "      <td>2.351624</td>\n",
       "    </tr>\n",
       "    <tr>\n",
       "      <th>2</th>\n",
       "      <td>E01000003</td>\n",
       "      <td>888.0</td>\n",
       "      <td>66.0</td>\n",
       "      <td>7.432432</td>\n",
       "    </tr>\n",
       "    <tr>\n",
       "      <th>3</th>\n",
       "      <td>E01000005</td>\n",
       "      <td>507.0</td>\n",
       "      <td>44.0</td>\n",
       "      <td>8.678501</td>\n",
       "    </tr>\n",
       "    <tr>\n",
       "      <th>4</th>\n",
       "      <td>E01000006</td>\n",
       "      <td>595.0</td>\n",
       "      <td>67.0</td>\n",
       "      <td>11.260504</td>\n",
       "    </tr>\n",
       "  </tbody>\n",
       "</table>\n",
       "</div>"
      ],
      "text/plain": [
       "    lsoa11cd  num_households  num_households_fuel_poverty  \\\n",
       "0  E01000001           936.0                         40.0   \n",
       "1  E01000002           893.0                         21.0   \n",
       "2  E01000003           888.0                         66.0   \n",
       "3  E01000005           507.0                         44.0   \n",
       "4  E01000006           595.0                         67.0   \n",
       "\n",
       "  prop_households_fuel_poor  \n",
       "0                  4.273504  \n",
       "1                  2.351624  \n",
       "2                  7.432432  \n",
       "3                  8.678501  \n",
       "4                 11.260504  "
      ]
     },
     "metadata": {},
     "output_type": "display_data"
    }
   ],
   "source": [
    "fuel_poverty_df.head()"
   ]
  },
  {
   "cell_type": "code",
   "execution_count": null,
   "metadata": {},
   "outputs": [],
   "source": [
    "EPC_postcode_elec_consump = pd.read_csv(\"../data/processed/EPC_elec_consump.csv\")"
   ]
  },
  {
   "cell_type": "code",
   "execution_count": null,
   "metadata": {},
   "outputs": [],
   "source": [
    "EPC_postcode_elec_consump_fuel_poverty = pd.merge(EPC_postcode_elec_consump, fuel_poverty_df, on=\"lsoa11cd\", how=\"left\")"
   ]
  },
  {
   "cell_type": "code",
   "execution_count": null,
   "metadata": {},
   "outputs": [],
   "source": [
    "EPC_postcode_elec_consump_fuel_poverty.to_csv(\"../data/processed/EPC_elec_consump_fuel_poverty.csv\", index=False)"
   ]
  }
 ],
 "metadata": {
  "kernelspec": {
   "display_name": "Python 3.9.4 64-bit",
   "language": "python",
   "name": "python3"
  },
  "language_info": {
   "codemirror_mode": {
    "name": "ipython",
    "version": 3
   },
   "file_extension": ".py",
   "mimetype": "text/x-python",
   "name": "python",
   "nbconvert_exporter": "python",
   "pygments_lexer": "ipython3",
   "version": "3.9.4"
  },
  "orig_nbformat": 4,
  "vscode": {
   "interpreter": {
    "hash": "a71bc2f0fdff3760b45ea6dafb563485b76fcb756cae0bed9e259635e4639181"
   }
  }
 },
 "nbformat": 4,
 "nbformat_minor": 2
}
