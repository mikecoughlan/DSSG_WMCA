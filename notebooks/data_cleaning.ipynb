{
 "cells": [
  {
   "cell_type": "code",
   "execution_count": 1,
   "metadata": {},
   "outputs": [],
   "source": [
    "from pandas_profiling import ProfileReport\n",
    "import pandas as pd"
   ]
  },
  {
   "cell_type": "code",
   "execution_count": 2,
   "metadata": {},
   "outputs": [],
   "source": [
    "df = pd.read_csv(\"../data/processed/EPC_elec_consump_fuel_poverty.csv\")"
   ]
  },
  {
   "cell_type": "code",
   "execution_count": 3,
   "metadata": {},
   "outputs": [
    {
     "name": "stderr",
     "output_type": "stream",
     "text": [
      "Summarize dataset:  94%|█████████▍| 115/122 [00:06<00:00, 22.98it/s, Calculate cramers correlation]                 c:\\Users\\lilia\\AppData\\Local\\Programs\\Python\\Python39\\lib\\site-packages\\pandas_profiling\\model\\correlations.py:55: UserWarning: There was an attempt to calculate the cramers correlation, but this failed.\n",
      "To hide this warning, disable the calculation\n",
      "(using `df.profile_report(correlations={\"cramers\": {\"calculate\": False}})`\n",
      "If this is problematic for your use case, please report this as an issue:\n",
      "https://github.com/pandas-profiling/pandas-profiling/issues\n",
      "(include the error message: 'No data; `observed` has size 0.')\n",
      "  warnings.warn(\n",
      "Summarize dataset:  99%|█████████▉| 1414/1422 [04:23<00:01,  5.75it/s, Missing diagram bar]                                                c:\\Users\\lilia\\AppData\\Local\\Programs\\Python\\Python39\\lib\\site-packages\\missingno\\missingno.py:250: UserWarning: FixedFormatter should only be used together with FixedLocator\n",
      "  ax1.set_xticklabels(ax1.get_xticklabels(), rotation=45, ha='right', fontsize=fontsize)\n",
      "c:\\Users\\lilia\\AppData\\Local\\Programs\\Python\\Python39\\lib\\site-packages\\pandas_profiling\\model\\missing.py:89: UserWarning: There was an attempt to generate the Count missing values diagrams, but this failed.\n",
      "To hide this warning, disable the calculation\n",
      "(using `df.profile_report(missing_diagrams={\"Count\": False}`)\n",
      "If this is problematic for your use case, please report this as an issue:\n",
      "https://github.com/pandas-profiling/pandas-profiling/issues\n",
      "(include the error message: 'The number of FixedLocator locations (7), usually from a call to set_ticks, does not match the number of ticklabels (111).')\n",
      "  warnings.warn(\n",
      "Summarize dataset: 100%|██████████| 1422/1422 [04:33<00:00,  5.19it/s, Completed]                 \n",
      "Generate report structure: 100%|██████████| 1/1 [00:35<00:00, 35.95s/it]\n",
      "Render HTML: 100%|██████████| 1/1 [00:47<00:00, 47.40s/it]\n",
      "Export report to file: 100%|██████████| 1/1 [00:00<00:00,  2.09it/s]\n"
     ]
    }
   ],
   "source": [
    "profile = ProfileReport(df, title=\"Pandas Profiling Report\", explorative=True)\n",
    "profile.to_file(\"output.html\")"
   ]
  }
 ],
 "metadata": {
  "kernelspec": {
   "display_name": "Python 3.9.4 64-bit",
   "language": "python",
   "name": "python3"
  },
  "language_info": {
   "codemirror_mode": {
    "name": "ipython",
    "version": 3
   },
   "file_extension": ".py",
   "mimetype": "text/x-python",
   "name": "python",
   "nbconvert_exporter": "python",
   "pygments_lexer": "ipython3",
   "version": "3.9.4"
  },
  "orig_nbformat": 4,
  "vscode": {
   "interpreter": {
    "hash": "a71bc2f0fdff3760b45ea6dafb563485b76fcb756cae0bed9e259635e4639181"
   }
  }
 },
 "nbformat": 4,
 "nbformat_minor": 2
}
