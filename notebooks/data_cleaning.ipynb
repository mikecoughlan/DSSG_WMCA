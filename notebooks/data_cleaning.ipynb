{
  "nbformat": 4,
  "nbformat_minor": 0,
  "metadata": {
    "colab": {
      "name": "data_cleaning.ipynb",
      "provenance": [],
      "toc_visible": true
    },
    "kernelspec": {
      "name": "python3",
      "display_name": "Python 3"
    },
    "language_info": {
      "name": "python"
    }
  },
  "cells": [
    {
      "cell_type": "code",
      "execution_count": 1,
      "metadata": {
        "id": "swHiWBg6jldI"
      },
      "outputs": [],
      "source": [
        "import pandas as pd\n",
        "import matplotlib.pyplot as plt\n",
        "import numpy as np\n",
        "from shapely.geometry import Point  #Polygon\n",
        "\n",
        "#y!pip install geopandas\n",
        "import geopandas\n",
        "\n",
        "# To use geopandas.tools.sjoin\n",
        "#!pip uninstall rtree\n",
        "#!sudo apt install libspatialindex-dev\n",
        "#!sudo pip3 install rtree"
      ]
    },
    {
      "cell_type": "markdown",
      "source": [
        "# WMCA + Warrington houses only"
      ],
      "metadata": {
        "id": "SrhBbOjMxVN5"
      }
    },
    {
      "cell_type": "code",
      "source": [
        "df = pd.read_csv(\"/content/drive/MyDrive/WMCA/data_1012650.csv\")"
      ],
      "metadata": {
        "colab": {
          "base_uri": "https://localhost:8080/"
        },
        "id": "UMKmqzM7thRK",
        "outputId": "f3b79201-9dc2-4ab9-92a2-347c75f60ce1"
      },
      "execution_count": 2,
      "outputs": [
        {
          "output_type": "stream",
          "name": "stderr",
          "text": [
            "/usr/local/lib/python3.7/dist-packages/IPython/core/interactiveshell.py:2882: DtypeWarning: Columns (22,64) have mixed types.Specify dtype option on import or set low_memory=False.\n",
            "  exec(code_obj, self.user_global_ns, self.user_ns)\n"
          ]
        }
      ]
    },
    {
      "cell_type": "code",
      "source": [
        "house_gdf = geopandas.GeoDataFrame(\n",
        "    df[['uprn', 'LATITUDE', 'LONGITUDE']],\n",
        "    geometry=geopandas.points_from_xy(df.LONGITUDE, df.LATITUDE),\n",
        "    crs='epsg:4326')"
      ],
      "metadata": {
        "id": "LEvpQaSL6HUs"
      },
      "execution_count": 3,
      "outputs": []
    },
    {
      "cell_type": "code",
      "source": [
        "uk_shp = geopandas.read_file('/content/drive/MyDrive/WMCA/WMCA Shapefile/LAD_DEC_2021_GB_BFC.shp')\n",
        "# filter shapefiles\n",
        "counties = ['Birmingham','Wolverhampton','Coventry','Dudley','Sandwell','Solihull','Walsall']\n",
        "westmidlands_shp = uk_shp[uk_shp.LAD21NM.isin(counties)] \n",
        "# convert to lat/lng\n",
        "westmidlands_shp = westmidlands_shp.to_crs('epsg:4326') \n",
        "# combine shapefiles \n",
        "westmidlands_shp_boundary = westmidlands_shp.dissolve() "
      ],
      "metadata": {
        "id": "2mVxh3eNLk5W"
      },
      "execution_count": 4,
      "outputs": []
    },
    {
      "cell_type": "code",
      "source": [
        "# Filter for houses within boundary\n",
        "houseInWestMidlands = geopandas.tools.sjoin(house_gdf,westmidlands_shp_boundary, how='right')"
      ],
      "metadata": {
        "id": "HBiBVluV6Ymk"
      },
      "execution_count": 5,
      "outputs": []
    },
    {
      "cell_type": "code",
      "source": [
        "# Check that all houses are within region of interest \n",
        "fig, ax = plt.subplots(figsize=(7,7))\n",
        "westmidlands_shp_boundary.plot(\n",
        "    ax=ax, facecolor='Grey', edgecolor='k',alpha=1,linewidth=1,cmap=\"cividis\"\n",
        "    )\n",
        "# Reduce points to prevent crashing\n",
        "plot_points = houseInWestMidlands.drop_duplicates(subset='geometry',inplace=True)\n",
        "plot_points.plot(ax=ax, color='red', markersize=2, alpha=0.2)\n",
        "ax.set_xlabel('Longitude', fontsize=10)\n",
        "ax.set_ylabel('Latitude', fontsize='medium')"
      ],
      "metadata": {
        "id": "QDc2B81_Ji4g"
      },
      "execution_count": null,
      "outputs": []
    },
    {
      "cell_type": "code",
      "source": [
        "# Map of West Midlands\n",
        "westmidlands_shp.plot(facecolor='Grey', edgecolor='k',alpha=1,linewidth=1,cmap=\"cividis\")"
      ],
      "metadata": {
        "id": "KCDLiyP9TC9l"
      },
      "execution_count": null,
      "outputs": []
    },
    {
      "cell_type": "code",
      "source": [
        "# Filter out houses outside the region of interest\n",
        "df = df[df.uprn.isin(houseInWestMidlands.uprn)]"
      ],
      "metadata": {
        "id": "W64aKhPk-U6w"
      },
      "execution_count": 6,
      "outputs": []
    },
    {
      "cell_type": "markdown",
      "source": [
        "# Dependent variable (EPC rating)"
      ],
      "metadata": {
        "id": "pZjwydxTMdfe"
      }
    },
    {
      "cell_type": "code",
      "source": [
        "df[\"current-energy-efficiency\"].hist()\n",
        "plt.show()"
      ],
      "metadata": {
        "colab": {
          "base_uri": "https://localhost:8080/",
          "height": 265
        },
        "id": "0D8efrpFMgMP",
        "outputId": "46b29c64-d31a-499d-ee51-217a2d225538"
      },
      "execution_count": 7,
      "outputs": [
        {
          "output_type": "display_data",
          "data": {
            "text/plain": [
              "<Figure size 432x288 with 1 Axes>"
            ],
            "image/png": "[encoded data removed]"
          },
          "metadata": {
            "needs_background": "light"
          }
        }
      ]
    },
    {
      "cell_type": "code",
      "source": [
        "# Energy efficiency ratings should only go up to 100\n",
        "df = df[df[\"current-energy-efficiency\"] <=100]\n",
        "print(f\"Min: {df['current-energy-efficiency'].min()}\")\n",
        "print(f\"Max: {df['current-energy-efficiency'].max()}\")"
      ],
      "metadata": {
        "colab": {
          "base_uri": "https://localhost:8080/"
        },
        "id": "32TZsZcMMmag",
        "outputId": "a882f425-e613-45e1-8d27-dc8f263bd001"
      },
      "execution_count": 8,
      "outputs": [
        {
          "output_type": "stream",
          "name": "stdout",
          "text": [
            "Min: 0\n",
            "Max: 100\n"
          ]
        }
      ]
    },
    {
      "cell_type": "code",
      "source": [
        "plt.figure(figsize=(20,5))\n",
        "\n",
        "bands = ['G', 'F', 'E', 'D', 'C', 'B','A']\n",
        "\n",
        "for i, band in enumerate(bands):\n",
        "  epc_bands = df[df[\"current-energy-rating\"] == band]\n",
        "  plt.subplot(241+i)\n",
        "  bins = len(epc_bands['current-energy-efficiency'].unique())\n",
        "  epc_bands['current-energy-efficiency'].hist(bins=bins)\n",
        "  plt.xlabel(band,fontsize=16, weight='bold')\n",
        "\n",
        "plt.tight_layout()"
      ],
      "metadata": {
        "colab": {
          "base_uri": "https://localhost:8080/",
          "height": 281
        },
        "id": "dwztq-9VSgfc",
        "outputId": "e1fd66e2-1def-467a-dfea-2f6e909eb8ef"
      },
      "execution_count": 9,
      "outputs": [
        {
          "output_type": "display_data",
          "data": {
            "text/plain": [
              "<Figure size 1440x360 with 7 Axes>"
            ],
            "image/png": "[encoded data removed]"
          },
          "metadata": {
            "needs_background": "light"
          }
        }
      ]
    },
    {
      "cell_type": "markdown",
      "source": [
        "# Impute missing values\n",
        "\n",
        "For values which do not change often over time such as `built-form` (detached, terraced etc), it's safe to use the data from previous certificates where available to fill the missing values in more recent certificates.\n"
      ],
      "metadata": {
        "id": "BTBZ5OPXO0oc"
      }
    },
    {
      "cell_type": "code",
      "source": [
        "epc_grouped = df.groupby(['uprn'], as_index=False)['inspection-date'].count()\n",
        "epc_grouped_2plus = epc_grouped[epc_grouped['inspection-date'] > 1]\n",
        "epc_2plus = df.merge(epc_grouped_2plus[['uprn']], on = 'uprn', how = 'inner')"
      ],
      "metadata": {
        "id": "68cxQG6AO23q"
      },
      "execution_count": 10,
      "outputs": []
    },
    {
      "cell_type": "code",
      "source": [
        "# note this takes a while\n",
        "fill_columns = ['built-form', 'floor-level','number-habitable-rooms','floor-description',\n",
        "                'roof-description','heat-loss-corridor','walls-description','floor-height',\n",
        "                'mains-gas-flag']\n",
        "\n",
        "for c in fill_columns:\n",
        "    print(c)\n",
        "    epc_2plus[c] = epc_2plus.groupby(['uprn'], sort=False)[c].apply(lambda x: x.ffill())"
      ],
      "metadata": {
        "colab": {
          "base_uri": "https://localhost:8080/"
        },
        "id": "f8mdEQLoPVzl",
        "outputId": "8f5ea33e-f0db-45c2-9e56-826eaebede28"
      },
      "execution_count": 11,
      "outputs": [
        {
          "output_type": "stream",
          "name": "stdout",
          "text": [
            "built-form\n",
            "floor-level\n",
            "number-habitable-rooms\n",
            "floor-description\n",
            "roof-description\n",
            "heat-loss-corridor\n",
            "walls-description\n",
            "floor-height\n",
            "mains-gas-flag\n"
          ]
        }
      ]
    },
    {
      "cell_type": "code",
      "source": [
        "epc_grouped_1 = epc_grouped[epc_grouped['inspection-date'] == 1]\n",
        "epc_1 = df.merge(epc_grouped_1[['uprn']], on='uprn', how='inner')"
      ],
      "metadata": {
        "id": "zBJCL-vIPCFa"
      },
      "execution_count": 12,
      "outputs": []
    },
    {
      "cell_type": "code",
      "source": [
        "# merging filled data for buildings with more than one certificate with data for buildings with only one certificate\n",
        "epc_filled = pd.concat([epc_1,epc_2plus])"
      ],
      "metadata": {
        "id": "myqr7f_UQywZ"
      },
      "execution_count": 13,
      "outputs": []
    },
    {
      "cell_type": "code",
      "source": [
        "# checking length of filled data (should be the)\n",
        "print(f\"Missing rows: {len(df) - len(epc_filled)}\")\n",
        "print(f\"Property without UPRN: {len(df[df.uprn.isna()])}\")"
      ],
      "metadata": {
        "colab": {
          "base_uri": "https://localhost:8080/"
        },
        "id": "GIw8hWi4Q0o6",
        "outputId": "f6943297-b4a4-4855-a35a-f33a79ca1846"
      },
      "execution_count": 14,
      "outputs": [
        {
          "output_type": "stream",
          "name": "stdout",
          "text": [
            "Missing rows: 0\n",
            "Property without UPRN: 0\n"
          ]
        }
      ]
    },
    {
      "cell_type": "code",
      "source": [
        "# remove rows without UPRN, doesn't exist and cannot find data\n",
        "df = df[df.uprn.isna()==False]"
      ],
      "metadata": {
        "id": "2gW4JtkJbNXf"
      },
      "execution_count": 15,
      "outputs": []
    },
    {
      "cell_type": "markdown",
      "source": [
        "# Standardising missing data labels"
      ],
      "metadata": {
        "id": "j0vaNdN9RYZq"
      }
    },
    {
      "cell_type": "code",
      "source": [
        "# replace 'NO DATA!', 'not defined' and 'not recored' with null\n",
        "df = df.replace(['NO DATA!','NODATA!'],np.nan)\n",
        "df = df.replace(['not recorded','not defined','unknown','Unknown','Not defined','Not recorded'],np.nan)\n",
        "df = df.replace(['N/A','n/a'],np.nan)\n",
        "df = df.replace(['INVALID!'],np.nan)"
      ],
      "metadata": {
        "id": "seuReTN1ReMt"
      },
      "execution_count": 16,
      "outputs": []
    },
    {
      "cell_type": "markdown",
      "source": [
        "# Data Audit\n",
        "This script takes an audit of the EPC data for WMCA. It looks at how many missing values each feature has, how many unique values the categorical features have then applies preprocessing steps to remove outliers and drop features with too many missing values. Note that [Sonia Williams](https://datasciencecampus.ons.gov.uk/projects/using-machine-learning-to-predict-energy-efficiency/) split the data into test and training before performing the following."
      ],
      "metadata": {
        "id": "fwUOyVKoT8lH"
      }
    },
    {
      "cell_type": "markdown",
      "source": [
        "## Missing values"
      ],
      "metadata": {
        "id": "3ZhvNvHyUEDS"
      }
    },
    {
      "cell_type": "code",
      "source": [
        "percent_missing = df.isnull().sum() * 100 / len(df)"
      ],
      "metadata": {
        "id": "BoynSf5aUDxG"
      },
      "execution_count": 17,
      "outputs": []
    },
    {
      "cell_type": "code",
      "source": [
        "percent_missing.sort_values(ascending=False)[:30]"
      ],
      "metadata": {
        "colab": {
          "base_uri": "https://localhost:8080/"
        },
        "id": "ySVqaHwbbniq",
        "outputId": "760fa0e2-7e27-4d81-976c-b18506c20874"
      },
      "execution_count": 18,
      "outputs": [
        {
          "output_type": "execute_result",
          "data": {
            "text/plain": [
              "sheating-energy-eff             100.000000\n",
              "sheating-env-eff                100.000000\n",
              "county                           99.882177\n",
              "floor-energy-eff                 94.938906\n",
              "floor-env-eff                    94.938906\n",
              "flat-storey-count                93.130715\n",
              "unheated-corridor-length         85.569706\n",
              "heat-loss-corridor               73.889488\n",
              "flat-top-storey                  73.407084\n",
              "floor-level                      70.861121\n",
              "floor-height                     59.585827\n",
              "low-energy-fixed-light-count     59.312641\n",
              "fixed-lighting-outlets-count     52.558676\n",
              "photo-supply                     40.683355\n",
              "solar-water-heating-flag         38.888778\n",
              "roof-env-eff                     17.357055\n",
              "roof-energy-eff                  17.357055\n",
              "main-heating-controls            16.254202\n",
              "glazed-type                      10.984490\n",
              "energy-tariff                     9.135456\n",
              "mains-gas-flag                    7.622874\n",
              "construction-age-band             7.538585\n",
              "number-habitable-rooms            7.396737\n",
              "glazed-area                       7.396737\n",
              "mechanical-ventilation            7.396737\n",
              "extension-count                   7.396737\n",
              "number-heated-rooms               7.396737\n",
              "multi-glaze-proportion            7.362701\n",
              "tenure                            6.710619\n",
              "wind-turbine-count                4.759278\n",
              "dtype: float64"
            ]
          },
          "metadata": {},
          "execution_count": 18
        }
      ]
    },
    {
      "cell_type": "markdown",
      "source": [
        "Maybe we can map values from `photo-supply` to `solar-water-heating-flag`."
      ],
      "metadata": {
        "id": "_uSYmWkmffLq"
      }
    },
    {
      "cell_type": "code",
      "source": [
        "df.drop([\n",
        "        # Remove variables with too many missing variables\n",
        "        'sheating-env-eff', 'sheating-energy-eff', 'flat-storey-count', \n",
        "        'floor-env-eff', 'floor-energy-eff', 'unheated-corridor-length', \n",
        "        'county', 'heat-loss-corridor', 'flat-top-storey', \n",
        "        # Remove unnecessary variables\n",
        "        'msoa_code', 'msoa', 'lsoa_code', 'lsoa', 'building-reference-number',\n",
        "        'local-authority-label', 'posttown',\n",
        "        # Remove variables with high % missing and similar variables\n",
        "        'low-energy-fixed-light-count', 'fixed-lighting-outlets-count'\n",
        "        ],\n",
        "        axis=1,\n",
        "        inplace=True)\n"
      ],
      "metadata": {
        "id": "u-qy5PMCcDj8"
      },
      "execution_count": 21,
      "outputs": []
    },
    {
      "cell_type": "markdown",
      "source": [
        "## Data sanity check"
      ],
      "metadata": {
        "id": "kL7jP6Fzisxv"
      }
    },
    {
      "cell_type": "code",
      "source": [
        "# Convert to datetime object\n",
        "df['inspection-date'] = df['inspection-date'].astype('datetime64')\n",
        "df['lodgement-datetime'] = df['lodgement-datetime'].astype('datetime64')\n",
        "\n",
        "## remove similar column\n",
        "df.drop(columns=['lodgement-date'], inplace=True)"
      ],
      "metadata": {
        "id": "IMzSzW8nhzyU"
      },
      "execution_count": 22,
      "outputs": []
    },
    {
      "cell_type": "code",
      "source": [
        "# All valid years\n",
        "df['inspection-date'].dt.year.value_counts(normalize=True)"
      ],
      "metadata": {
        "colab": {
          "base_uri": "https://localhost:8080/"
        },
        "id": "yun4jWrBhp3B",
        "outputId": "fbf14b8a-bfa0-4f5f-a3aa-486e4b0adcbd"
      },
      "execution_count": 23,
      "outputs": [
        {
          "output_type": "execute_result",
          "data": {
            "text/plain": [
              "2014    0.118215\n",
              "2013    0.114545\n",
              "2009    0.088455\n",
              "2015    0.084766\n",
              "2016    0.077108\n",
              "2010    0.072148\n",
              "2011    0.062526\n",
              "2012    0.062017\n",
              "2021    0.061716\n",
              "2019    0.058547\n",
              "2020    0.057054\n",
              "2018    0.054480\n",
              "2017    0.047170\n",
              "2008    0.025316\n",
              "2022    0.015847\n",
              "2007    0.000071\n",
              "2006    0.000018\n",
              "2003    0.000001\n",
              "2004    0.000001\n",
              "Name: inspection-date, dtype: float64"
            ]
          },
          "metadata": {},
          "execution_count": 23
        }
      ]
    },
    {
      "cell_type": "code",
      "source": [
        "# All valid years\n",
        "df['lodgement-datetime'].dt.year.value_counts(normalize=True)"
      ],
      "metadata": {
        "colab": {
          "base_uri": "https://localhost:8080/"
        },
        "id": "4uj0vMvKaEde",
        "outputId": "bd0e2429-d599-4e89-c095-82d712c8709a"
      },
      "execution_count": 24,
      "outputs": [
        {
          "output_type": "execute_result",
          "data": {
            "text/plain": [
              "2014    0.117696\n",
              "2013    0.113608\n",
              "2009    0.088899\n",
              "2015    0.085584\n",
              "2016    0.077755\n",
              "2010    0.072356\n",
              "2011    0.062659\n",
              "2021    0.062095\n",
              "2012    0.061814\n",
              "2019    0.058758\n",
              "2020    0.056799\n",
              "2018    0.053920\n",
              "2017    0.047162\n",
              "2008    0.024214\n",
              "2022    0.016680\n",
              "Name: lodgement-datetime, dtype: float64"
            ]
          },
          "metadata": {},
          "execution_count": 24
        }
      ]
    },
    {
      "cell_type": "markdown",
      "source": [
        "## Clip values in numeric columns that are too high or negative"
      ],
      "metadata": {
        "id": "O5HBTmB4k_Rk"
      }
    },
    {
      "cell_type": "code",
      "source": [
        "num_var = df.select_dtypes(include= 'number').columns.tolist()\n",
        "\n",
        "# Not these variables\n",
        "num_var.remove('uprn')\n",
        "num_var.remove('LATITUDE')\n",
        "num_var.remove('LONGITUDE')\n",
        "\n",
        "# Fuel poverty data is fine\n",
        "num_var.remove('prop_households_fuel_poor')\n",
        "num_var.remove('num_households')\n",
        "num_var.remove('num_households_fuel_poverty')"
      ],
      "metadata": {
        "id": "HvGpOKkqi2hz"
      },
      "execution_count": 25,
      "outputs": []
    },
    {
      "cell_type": "code",
      "source": [
        "audit_num = df[num_var].describe(percentiles = [0.25,0.5,0.75,0.9,0.95,0.99])"
      ],
      "metadata": {
        "id": "R69raybglKwv"
      },
      "execution_count": 26,
      "outputs": []
    },
    {
      "cell_type": "code",
      "source": [
        "# Clips the variables of the EPC data between 0 and the upper bound of the 99% confidence interval\n",
        "for var in num_var:\n",
        "  df[var].clip(lower=0.0, upper=audit_num[var]['99%'], inplace=True)"
      ],
      "metadata": {
        "id": "oKsHwZoflvA8"
      },
      "execution_count": 27,
      "outputs": []
    },
    {
      "cell_type": "markdown",
      "source": [
        "## Reduce levels in categorical fields\n",
        "We will need to group categories for those with many levels using CHAID and other methods in the next notebook."
      ],
      "metadata": {
        "id": "1CrAnQ2imoKh"
      }
    },
    {
      "cell_type": "code",
      "source": [
        "cat_var = df.select_dtypes(include= ['object','category']).columns.tolist()\n",
        "\n",
        "# Not these variables\n",
        "cat_var.remove('lmk-key')\n",
        "cat_var.remove('address')\n",
        "cat_var.remove('postcode')"
      ],
      "metadata": {
        "id": "NBOnKpvQmn6E"
      },
      "execution_count": 28,
      "outputs": []
    },
    {
      "cell_type": "code",
      "source": [
        "df[cat_var].nunique().sort_values(ascending = False)[:30]"
      ],
      "metadata": {
        "colab": {
          "base_uri": "https://localhost:8080/"
        },
        "id": "R5BHIkram3OY",
        "outputId": "8a28eca7-2179-46f5-d9b9-7345ef506112"
      },
      "execution_count": 29,
      "outputs": [
        {
          "output_type": "execute_result",
          "data": {
            "text/plain": [
              "walls-description           613\n",
              "floor-description           404\n",
              "roof-description            300\n",
              "lighting-description        185\n",
              "mainheat-description        156\n",
              "main-heating-controls       112\n",
              "hotwater-description         93\n",
              "mainheatcont-description     65\n",
              "floor-level                  53\n",
              "windows-description          45\n",
              "constituency                 43\n",
              "constituency-label           43\n",
              "secondheat-description       40\n",
              "main-fuel                    38\n",
              "construction-age-band        29\n",
              "local-authority              22\n",
              "transaction-type             17\n",
              "energy-tariff                 9\n",
              "glazed-type                   8\n",
              "current-energy-rating         7\n",
              "potential-energy-rating       7\n",
              "tenure                        7\n",
              "built-form                    6\n",
              "glazed-area                   6\n",
              "mainheat-energy-eff           5\n",
              "hot-water-energy-eff          5\n",
              "windows-env-eff               5\n",
              "mainheatc-env-eff             5\n",
              "lighting-energy-eff           5\n",
              "walls-env-eff                 5\n",
              "dtype: int64"
            ]
          },
          "metadata": {},
          "execution_count": 29
        }
      ]
    },
    {
      "cell_type": "markdown",
      "source": [
        "# Merging multiple EPC ratings per UPRN"
      ],
      "metadata": {
        "id": "FN1UqQHnMyyD"
      }
    },
    {
      "cell_type": "code",
      "source": [
        "df_sorted = df.sort_values('inspection-date')\n",
        "uprn_filled = df_sorted.fillna(df_sorted.groupby('uprn').transform('last'))\n",
        "uprn_df = uprn_filled.drop_duplicates(subset=\"uprn\", keep = 'last')"
      ],
      "metadata": {
        "id": "Lsw7KhDJSTKL"
      },
      "execution_count": 30,
      "outputs": []
    },
    {
      "cell_type": "code",
      "source": [
        "final_percent_missing = uprn_df.isnull().sum() * 100 / len(uprn_df)\n",
        "final_percent_missing.sort_values(ascending=False, inplace=True)\n",
        "final_percent_missing.rename(\"uprn\")\n",
        "\n",
        "percent_missing = df.isnull().sum() * 100 / len(df)\n",
        "percent_missing.sort_values(ascending=False, inplace=True)"
      ],
      "metadata": {
        "id": "TMmkMiErPSA_"
      },
      "execution_count": 31,
      "outputs": []
    },
    {
      "cell_type": "code",
      "source": [
        "print(f\"Number of duplicate UPRN dropped: {len(df)-len(uprn_df)}\")"
      ],
      "metadata": {
        "colab": {
          "base_uri": "https://localhost:8080/"
        },
        "id": "OWedvXiEAFuU",
        "outputId": "3fd4358f-755f-444b-a665-e487d18c74c6"
      },
      "execution_count": 32,
      "outputs": [
        {
          "output_type": "stream",
          "name": "stdout",
          "text": [
            "Number of duplicate UPRN dropped: 260906\n"
          ]
        }
      ]
    },
    {
      "cell_type": "code",
      "source": [
        "pd.concat([percent_missing, final_percent_missing], axis=1)[:30]"
      ],
      "metadata": {
        "colab": {
          "base_uri": "https://localhost:8080/",
          "height": 990
        },
        "id": "0B1GWjkaQgYz",
        "outputId": "7686077f-79cf-4f8b-fbd1-6e08bcccd6ef"
      },
      "execution_count": 33,
      "outputs": [
        {
          "output_type": "execute_result",
          "data": {
            "text/plain": [
              "                                  0          1\n",
              "floor-level               70.861121  71.921474\n",
              "floor-height              59.585827  54.050008\n",
              "photo-supply              40.683355  36.892180\n",
              "solar-water-heating-flag  38.888778  34.698827\n",
              "roof-energy-eff           17.357055  16.481990\n",
              "roof-env-eff              17.357055  16.481990\n",
              "main-heating-controls     16.254202  14.652164\n",
              "glazed-type               10.984490  11.092910\n",
              "energy-tariff              9.135456   6.602416\n",
              "mains-gas-flag             7.622874   8.527088\n",
              "construction-age-band      7.538585   8.374794\n",
              "number-habitable-rooms     7.396737   8.437121\n",
              "number-heated-rooms        7.396737   8.437121\n",
              "extension-count            7.396737   8.437121\n",
              "mechanical-ventilation     7.396737   8.437121\n",
              "glazed-area                7.396737   8.437121\n",
              "multi-glaze-proportion     7.362701   8.152857\n",
              "tenure                     6.710619   7.005371\n",
              "wind-turbine-count         4.759278   6.061123\n",
              "low-energy-lighting        2.807236   3.365906\n",
              "built-form                 2.653175   2.260964\n",
              "number-open-fireplaces     2.047942   1.681598\n",
              "main-fuel                  0.505929   0.520291\n",
              "mainheat-energy-eff        0.359876   0.179663\n",
              "mainheat-env-eff           0.359676   0.179392\n",
              "hot-water-env-eff          0.359276   0.179799\n",
              "hot-water-energy-eff       0.333148   0.172211\n",
              "mainheatc-energy-eff       0.217127   0.140370\n",
              "mainheatc-env-eff          0.217127   0.140370\n",
              "lighting-energy-eff        0.146453   0.096335"
            ],
            "text/html": [
              "\n",
              "  <div id=\"df-34964566-58f2-4e3e-86c0-29521a0f9f3b\">\n",
              "    <div class=\"colab-df-container\">\n",
              "      <div>\n",
              "<style scoped>\n",
              "    .dataframe tbody tr th:only-of-type {\n",
              "        vertical-align: middle;\n",
              "    }\n",
              "\n",
              "    .dataframe tbody tr th {\n",
              "        vertical-align: top;\n",
              "    }\n",
              "\n",
              "    .dataframe thead th {\n",
              "        text-align: right;\n",
              "    }\n",
              "</style>\n",
              "<table border=\"1\" class=\"dataframe\">\n",
              "  <thead>\n",
              "    <tr style=\"text-align: right;\">\n",
              "      <th></th>\n",
              "      <th>0</th>\n",
              "      <th>1</th>\n",
              "    </tr>\n",
              "  </thead>\n",
              "  <tbody>\n",
              "    <tr>\n",
              "      <th>floor-level</th>\n",
              "      <td>70.861121</td>\n",
              "      <td>71.921474</td>\n",
              "    </tr>\n",
              "    <tr>\n",
              "      <th>floor-height</th>\n",
              "      <td>59.585827</td>\n",
              "      <td>54.050008</td>\n",
              "    </tr>\n",
              "    <tr>\n",
              "      <th>photo-supply</th>\n",
              "      <td>40.683355</td>\n",
              "      <td>36.892180</td>\n",
              "    </tr>\n",
              "    <tr>\n",
              "      <th>solar-water-heating-flag</th>\n",
              "      <td>38.888778</td>\n",
              "      <td>34.698827</td>\n",
              "    </tr>\n",
              "    <tr>\n",
              "      <th>roof-energy-eff</th>\n",
              "      <td>17.357055</td>\n",
              "      <td>16.481990</td>\n",
              "    </tr>\n",
              "    <tr>\n",
              "      <th>roof-env-eff</th>\n",
              "      <td>17.357055</td>\n",
              "      <td>16.481990</td>\n",
              "    </tr>\n",
              "    <tr>\n",
              "      <th>main-heating-controls</th>\n",
              "      <td>16.254202</td>\n",
              "      <td>14.652164</td>\n",
              "    </tr>\n",
              "    <tr>\n",
              "      <th>glazed-type</th>\n",
              "      <td>10.984490</td>\n",
              "      <td>11.092910</td>\n",
              "    </tr>\n",
              "    <tr>\n",
              "      <th>energy-tariff</th>\n",
              "      <td>9.135456</td>\n",
              "      <td>6.602416</td>\n",
              "    </tr>\n",
              "    <tr>\n",
              "      <th>mains-gas-flag</th>\n",
              "      <td>7.622874</td>\n",
              "      <td>8.527088</td>\n",
              "    </tr>\n",
              "    <tr>\n",
              "      <th>construction-age-band</th>\n",
              "      <td>7.538585</td>\n",
              "      <td>8.374794</td>\n",
              "    </tr>\n",
              "    <tr>\n",
              "      <th>number-habitable-rooms</th>\n",
              "      <td>7.396737</td>\n",
              "      <td>8.437121</td>\n",
              "    </tr>\n",
              "    <tr>\n",
              "      <th>number-heated-rooms</th>\n",
              "      <td>7.396737</td>\n",
              "      <td>8.437121</td>\n",
              "    </tr>\n",
              "    <tr>\n",
              "      <th>extension-count</th>\n",
              "      <td>7.396737</td>\n",
              "      <td>8.437121</td>\n",
              "    </tr>\n",
              "    <tr>\n",
              "      <th>mechanical-ventilation</th>\n",
              "      <td>7.396737</td>\n",
              "      <td>8.437121</td>\n",
              "    </tr>\n",
              "    <tr>\n",
              "      <th>glazed-area</th>\n",
              "      <td>7.396737</td>\n",
              "      <td>8.437121</td>\n",
              "    </tr>\n",
              "    <tr>\n",
              "      <th>multi-glaze-proportion</th>\n",
              "      <td>7.362701</td>\n",
              "      <td>8.152857</td>\n",
              "    </tr>\n",
              "    <tr>\n",
              "      <th>tenure</th>\n",
              "      <td>6.710619</td>\n",
              "      <td>7.005371</td>\n",
              "    </tr>\n",
              "    <tr>\n",
              "      <th>wind-turbine-count</th>\n",
              "      <td>4.759278</td>\n",
              "      <td>6.061123</td>\n",
              "    </tr>\n",
              "    <tr>\n",
              "      <th>low-energy-lighting</th>\n",
              "      <td>2.807236</td>\n",
              "      <td>3.365906</td>\n",
              "    </tr>\n",
              "    <tr>\n",
              "      <th>built-form</th>\n",
              "      <td>2.653175</td>\n",
              "      <td>2.260964</td>\n",
              "    </tr>\n",
              "    <tr>\n",
              "      <th>number-open-fireplaces</th>\n",
              "      <td>2.047942</td>\n",
              "      <td>1.681598</td>\n",
              "    </tr>\n",
              "    <tr>\n",
              "      <th>main-fuel</th>\n",
              "      <td>0.505929</td>\n",
              "      <td>0.520291</td>\n",
              "    </tr>\n",
              "    <tr>\n",
              "      <th>mainheat-energy-eff</th>\n",
              "      <td>0.359876</td>\n",
              "      <td>0.179663</td>\n",
              "    </tr>\n",
              "    <tr>\n",
              "      <th>mainheat-env-eff</th>\n",
              "      <td>0.359676</td>\n",
              "      <td>0.179392</td>\n",
              "    </tr>\n",
              "    <tr>\n",
              "      <th>hot-water-env-eff</th>\n",
              "      <td>0.359276</td>\n",
              "      <td>0.179799</td>\n",
              "    </tr>\n",
              "    <tr>\n",
              "      <th>hot-water-energy-eff</th>\n",
              "      <td>0.333148</td>\n",
              "      <td>0.172211</td>\n",
              "    </tr>\n",
              "    <tr>\n",
              "      <th>mainheatc-energy-eff</th>\n",
              "      <td>0.217127</td>\n",
              "      <td>0.140370</td>\n",
              "    </tr>\n",
              "    <tr>\n",
              "      <th>mainheatc-env-eff</th>\n",
              "      <td>0.217127</td>\n",
              "      <td>0.140370</td>\n",
              "    </tr>\n",
              "    <tr>\n",
              "      <th>lighting-energy-eff</th>\n",
              "      <td>0.146453</td>\n",
              "      <td>0.096335</td>\n",
              "    </tr>\n",
              "  </tbody>\n",
              "</table>\n",
              "</div>\n",
              "      <button class=\"colab-df-convert\" onclick=\"convertToInteractive('df-34964566-58f2-4e3e-86c0-29521a0f9f3b')\"\n",
              "              title=\"Convert this dataframe to an interactive table.\"\n",
              "              style=\"display:none;\">\n",
              "        \n",
              "  <svg xmlns=\"http://www.w3.org/2000/svg\" height=\"24px\"viewBox=\"0 0 24 24\"\n",
              "       width=\"24px\">\n",
              "    <path d=\"M0 0h24v24H0V0z\" fill=\"none\"/>\n",
              "    <path d=\"M18.56 5.44l.94 2.06.94-2.06 2.06-.94-2.06-.94-.94-2.06-.94 2.06-2.06.94zm-11 1L8.5 8.5l.94-2.06 2.06-.94-2.06-.94L8.5 2.5l-.94 2.06-2.06.94zm10 10l.94 2.06.94-2.06 2.06-.94-2.06-.94-.94-2.06-.94 2.06-2.06.94z\"/><path d=\"M17.41 7.96l-1.37-1.37c-.4-.4-.92-.59-1.43-.59-.52 0-1.04.2-1.43.59L10.3 9.45l-7.72 7.72c-.78.78-.78 2.05 0 2.83L4 21.41c.39.39.9.59 1.41.59.51 0 1.02-.2 1.41-.59l7.78-7.78 2.81-2.81c.8-.78.8-2.07 0-2.86zM5.41 20L4 18.59l7.72-7.72 1.47 1.35L5.41 20z\"/>\n",
              "  </svg>\n",
              "      </button>\n",
              "      \n",
              "  <style>\n",
              "    .colab-df-container {\n",
              "      display:flex;\n",
              "      flex-wrap:wrap;\n",
              "      gap: 12px;\n",
              "    }\n",
              "\n",
              "    .colab-df-convert {\n",
              "      background-color: #E8F0FE;\n",
              "      border: none;\n",
              "      border-radius: 50%;\n",
              "      cursor: pointer;\n",
              "      display: none;\n",
              "      fill: #1967D2;\n",
              "      height: 32px;\n",
              "      padding: 0 0 0 0;\n",
              "      width: 32px;\n",
              "    }\n",
              "\n",
              "    .colab-df-convert:hover {\n",
              "      background-color: #E2EBFA;\n",
              "      box-shadow: 0px 1px 2px rgba(60, 64, 67, 0.3), 0px 1px 3px 1px rgba(60, 64, 67, 0.15);\n",
              "      fill: #174EA6;\n",
              "    }\n",
              "\n",
              "    [theme=dark] .colab-df-convert {\n",
              "      background-color: #3B4455;\n",
              "      fill: #D2E3FC;\n",
              "    }\n",
              "\n",
              "    [theme=dark] .colab-df-convert:hover {\n",
              "      background-color: #434B5C;\n",
              "      box-shadow: 0px 1px 3px 1px rgba(0, 0, 0, 0.15);\n",
              "      filter: drop-shadow(0px 1px 2px rgba(0, 0, 0, 0.3));\n",
              "      fill: #FFFFFF;\n",
              "    }\n",
              "  </style>\n",
              "\n",
              "      <script>\n",
              "        const buttonEl =\n",
              "          document.querySelector('#df-34964566-58f2-4e3e-86c0-29521a0f9f3b button.colab-df-convert');\n",
              "        buttonEl.style.display =\n",
              "          google.colab.kernel.accessAllowed ? 'block' : 'none';\n",
              "\n",
              "        async function convertToInteractive(key) {\n",
              "          const element = document.querySelector('#df-34964566-58f2-4e3e-86c0-29521a0f9f3b');\n",
              "          const dataTable =\n",
              "            await google.colab.kernel.invokeFunction('convertToInteractive',\n",
              "                                                     [key], {});\n",
              "          if (!dataTable) return;\n",
              "\n",
              "          const docLinkHtml = 'Like what you see? Visit the ' +\n",
              "            '<a target=\"_blank\" href=https://colab.research.google.com/notebooks/data_table.ipynb>data table notebook</a>'\n",
              "            + ' to learn more about interactive tables.';\n",
              "          element.innerHTML = '';\n",
              "          dataTable['output_type'] = 'display_data';\n",
              "          await google.colab.output.renderOutput(dataTable, element);\n",
              "          const docLink = document.createElement('div');\n",
              "          docLink.innerHTML = docLinkHtml;\n",
              "          element.appendChild(docLink);\n",
              "        }\n",
              "      </script>\n",
              "    </div>\n",
              "  </div>\n",
              "  "
            ]
          },
          "metadata": {},
          "execution_count": 33
        }
      ]
    },
    {
      "cell_type": "code",
      "source": [
        "uprn_df.to_csv(\"/content/drive/MyDrive/WMCA/data_cleaning.csv\", index=False)"
      ],
      "metadata": {
        "id": "D-GY92_Lf0o9"
      },
      "execution_count": 34,
      "outputs": []
    }
  ]
}