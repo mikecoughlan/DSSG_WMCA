{
  "nbformat": 4,
  "nbformat_minor": 0,
  "metadata": {
    "colab": {
      "name": "data_cleaning.ipynb",
      "provenance": [],
      "toc_visible": true
    },
    "kernelspec": {
      "name": "python3",
      "display_name": "Python 3"
    },
    "language_info": {
      "name": "python"
    }
  },
  "cells": [
    {
      "cell_type": "code",
      "execution_count": 32,
      "metadata": {
        "id": "swHiWBg6jldI"
      },
      "outputs": [],
      "source": [
        "import pandas as pd\n",
        "import matplotlib.pyplot as plt\n",
        "import numpy as np\n",
        "from shapely.geometry import Point  #Polygon\n",
        "\n",
        "#!pip install geopandas\n",
        "import geopandas\n",
        "\n",
        "# To use geopandas.tools.sjoin\n",
        "#!sudo apt install libspatialindex-dev\n",
        "#!sudo pip3 install rtree"
      ]
    },
    {
      "cell_type": "markdown",
      "source": [
        "# WMCA + Warrington houses only"
      ],
      "metadata": {
        "id": "SrhBbOjMxVN5"
      }
    },
    {
      "cell_type": "code",
      "source": [
        "df = pd.read_csv(\"/content/drive/MyDrive/WMCA/EPC_elec_consump_fuel_poverty.csv\")"
      ],
      "metadata": {
        "colab": {
          "base_uri": "https://localhost:8080/"
        },
        "id": "UMKmqzM7thRK",
        "outputId": "d19a9fa7-8ec3-41cd-caee-068bbaf4253f"
      },
      "execution_count": 33,
      "outputs": [
        {
          "output_type": "stream",
          "name": "stderr",
          "text": [
            "/usr/local/lib/python3.7/dist-packages/IPython/core/interactiveshell.py:2882: DtypeWarning: Columns (24,68) have mixed types.Specify dtype option on import or set low_memory=False.\n",
            "  exec(code_obj, self.user_global_ns, self.user_ns)\n"
          ]
        }
      ]
    },
    {
      "cell_type": "code",
      "source": [
        "counties = ['Birmingham','Wolverhampton','Coventry','Dudley','Sandwell','Solihull','Walsall']\n",
        "            #'Cannock Chase','North Warwickshire','Nuneaton and Bedworth','Redditch','Rugby',\n",
        "            #'Shropshire','Stratford-on-Avon','Tamworth','Telford and Wrekin','Warwick']\n",
        "\n",
        "trim_df = df[df.ladnm.isin(counties)][['uprn', 'LATITUDE', 'LONGITUDE']]\n",
        "\n",
        "house_gdf = geopandas.GeoDataFrame(\n",
        "    trim_df,\n",
        "    geometry=geopandas.points_from_xy(trim_df.LONGITUDE, trim_df.LATITUDE))"
      ],
      "metadata": {
        "id": "LEvpQaSL6HUs"
      },
      "execution_count": 3,
      "outputs": []
    },
    {
      "cell_type": "code",
      "source": [
        "df = df[df.ladnm.isin(counties)]"
      ],
      "metadata": {
        "id": "Sc59g-kx1pIH"
      },
      "execution_count": 34,
      "outputs": []
    },
    {
      "cell_type": "code",
      "source": [
        "uk_shp = geopandas.read_file('/content/drive/MyDrive/WMCA/WMCA Shapefile/LAD_DEC_2021_GB_BFC.shp')\n",
        "westmidlands_shp = uk_shp[uk_shp.LAD21NM.isin(counties)] # filter shapefiles\n",
        "westmidlands_shp = westmidlands_shp.to_crs('epsg:4326') # convert to lat/lng \n",
        "westmidlands_shp_boundary = westmidlands_shp.dissolve() # combine shapefiles"
      ],
      "metadata": {
        "id": "2mVxh3eNLk5W"
      },
      "execution_count": 4,
      "outputs": []
    },
    {
      "cell_type": "code",
      "source": [
        "houseInWestMidlands = geopandas.tools.sjoin(house_gdf,westmidlands_shp_boundary, how='right')"
      ],
      "metadata": {
        "colab": {
          "base_uri": "https://localhost:8080/"
        },
        "id": "HBiBVluV6Ymk",
        "outputId": "f14f05c1-647f-453c-9792-f047fc786ecc"
      },
      "execution_count": 5,
      "outputs": [
        {
          "output_type": "stream",
          "name": "stderr",
          "text": [
            "/usr/local/lib/python3.7/dist-packages/ipykernel_launcher.py:1: UserWarning: CRS mismatch between the CRS of left geometries and the CRS of right geometries.\n",
            "Use `to_crs()` to reproject one of the input geometries to match the CRS of the other.\n",
            "\n",
            "Left CRS: None\n",
            "Right CRS: EPSG:4326\n",
            "\n",
            "  \"\"\"Entry point for launching an IPython kernel.\n"
          ]
        }
      ]
    },
    {
      "cell_type": "code",
      "source": [
        "# Check that all houses are within region of interest \n",
        "fig, ax = plt.subplots(figsize=(7,7))\n",
        "westmidlands_shp_boundary.plot(\n",
        "    ax=ax, facecolor='Grey', edgecolor='k',alpha=1,linewidth=1,cmap=\"cividis\"\n",
        "    )\n",
        "# Reduce points to prevent crashing\n",
        "plot_points = houseInWestMidlands.drop_duplicates(subset='geometry',inplace=True)\n",
        "plot_points.plot(ax=ax, color='red', markersize=2, alpha=0.2)\n",
        "ax.set_xlabel('Longitude', fontsize=10)\n",
        "ax.set_ylabel('Latitude', fontsize='medium')"
      ],
      "metadata": {
        "id": "QDc2B81_Ji4g"
      },
      "execution_count": null,
      "outputs": []
    },
    {
      "cell_type": "code",
      "source": [
        "# Map of West Midlands\n",
        "westmidlands_shp.plot(facecolor='Grey', edgecolor='k',alpha=1,linewidth=1,cmap=\"cividis\")"
      ],
      "metadata": {
        "id": "KCDLiyP9TC9l"
      },
      "execution_count": null,
      "outputs": []
    },
    {
      "cell_type": "code",
      "source": [
        "# Filter out houses outside the region of interest\n",
        "df = df[df.uprn.isin(houseInWestMidlands.uprn)]"
      ],
      "metadata": {
        "id": "W64aKhPk-U6w"
      },
      "execution_count": 6,
      "outputs": []
    },
    {
      "cell_type": "markdown",
      "source": [
        "# Dependent variable (EPC rating)"
      ],
      "metadata": {
        "id": "pZjwydxTMdfe"
      }
    },
    {
      "cell_type": "code",
      "source": [
        "df[\"current-energy-efficiency\"].hist()\n",
        "plt.show()"
      ],
      "metadata": {
        "colab": {
          "base_uri": "https://localhost:8080/",
          "height": 265
        },
        "id": "0D8efrpFMgMP",
        "outputId": "b41675bb-275e-42ca-dcd8-c59ad2f67547"
      },
      "execution_count": 35,
      "outputs": [
        {
          "output_type": "display_data",
          "data": {
            "text/plain": [
              "<Figure size 432x288 with 1 Axes>"
            ],
            "image/png": "[encoded data removed]"
          },
          "metadata": {
            "needs_background": "light"
          }
        }
      ]
    },
    {
      "cell_type": "code",
      "source": [
        "# Energy efficiency ratings should only go up to 100\n",
        "df = df[df[\"current-energy-efficiency\"] <=100]\n",
        "print(f\"Min: {df['current-energy-efficiency'].min()}\")\n",
        "print(f\"Max: {df['current-energy-efficiency'].max()}\")"
      ],
      "metadata": {
        "colab": {
          "base_uri": "https://localhost:8080/"
        },
        "id": "32TZsZcMMmag",
        "outputId": "b6e94b1c-85a0-419c-80c5-27573dca2454"
      },
      "execution_count": 36,
      "outputs": [
        {
          "output_type": "stream",
          "name": "stdout",
          "text": [
            "Min: 0\n",
            "Max: 100\n"
          ]
        }
      ]
    },
    {
      "cell_type": "code",
      "source": [
        "plt.figure(figsize=(20,5))\n",
        "\n",
        "bands = ['G', 'F', 'E', 'D', 'C', 'B','A']\n",
        "\n",
        "for i, band in enumerate(bands):\n",
        "  epc_bands = df[df[\"current-energy-rating\"] == band]\n",
        "  plt.subplot(241+i)\n",
        "  bins = len(epc_bands['current-energy-efficiency'].unique())\n",
        "  epc_bands['current-energy-efficiency'].hist(bins=bins)\n",
        "  plt.xlabel(band,fontsize=16, weight='bold')\n",
        "\n",
        "plt.tight_layout()"
      ],
      "metadata": {
        "colab": {
          "base_uri": "https://localhost:8080/",
          "height": 281
        },
        "id": "dwztq-9VSgfc",
        "outputId": "33a7442c-3cfb-45cd-c826-aeb97850ccb4"
      },
      "execution_count": 37,
      "outputs": [
        {
          "output_type": "display_data",
          "data": {
            "text/plain": [
              "<Figure size 1440x360 with 7 Axes>"
            ],
            "image/png": "[encoded data removed]"
          },
          "metadata": {
            "needs_background": "light"
          }
        }
      ]
    },
    {
      "cell_type": "markdown",
      "source": [
        "# Impute missing values\n",
        "\n",
        "For values which do not change often over time such as `built-form` (detached, terraced etc), it's safe to use the data from previous certificates where available to fill the missing values in more recent certificates.\n"
      ],
      "metadata": {
        "id": "BTBZ5OPXO0oc"
      }
    },
    {
      "cell_type": "code",
      "source": [
        "epc_grouped = df.groupby(['uprn'], as_index=False)['inspection-date'].count()\n",
        "epc_grouped_2plus = epc_grouped[epc_grouped['inspection-date'] > 1]\n",
        "epc_2plus = df.merge(epc_grouped_2plus[['uprn']], on = 'uprn', how = 'inner')"
      ],
      "metadata": {
        "id": "68cxQG6AO23q"
      },
      "execution_count": 38,
      "outputs": []
    },
    {
      "cell_type": "code",
      "source": [
        "# note this takes a while\n",
        "fill_columns = ['built-form', 'floor-level','number-habitable-rooms','floor-description',\n",
        "                'roof-description','heat-loss-corridor','walls-description','floor-height',\n",
        "                'mains-gas-flag']\n",
        "\n",
        "for c in fill_columns:\n",
        "    print(c)\n",
        "    epc_2plus[c] = epc_2plus.groupby(['uprn'], sort=False)[c].apply(lambda x: x.ffill())"
      ],
      "metadata": {
        "colab": {
          "base_uri": "https://localhost:8080/"
        },
        "id": "f8mdEQLoPVzl",
        "outputId": "1f7f0bca-6679-451b-d073-d4cb3b73f464"
      },
      "execution_count": 39,
      "outputs": [
        {
          "output_type": "stream",
          "name": "stdout",
          "text": [
            "built-form\n",
            "floor-level\n",
            "number-habitable-rooms\n",
            "floor-description\n",
            "roof-description\n",
            "heat-loss-corridor\n",
            "walls-description\n",
            "floor-height\n",
            "mains-gas-flag\n"
          ]
        }
      ]
    },
    {
      "cell_type": "code",
      "source": [
        "epc_grouped_1 = epc_grouped[epc_grouped['inspection-date'] == 1]\n",
        "epc_1 = df.merge(epc_grouped_1[['uprn']], on='uprn', how='inner')"
      ],
      "metadata": {
        "id": "zBJCL-vIPCFa"
      },
      "execution_count": 40,
      "outputs": []
    },
    {
      "cell_type": "code",
      "source": [
        "# merging filled data for buildings with more than one certificate with data for buildings with only one certificate\n",
        "epc_filled = pd.concat([epc_1,epc_2plus])"
      ],
      "metadata": {
        "id": "myqr7f_UQywZ"
      },
      "execution_count": 41,
      "outputs": []
    },
    {
      "cell_type": "code",
      "source": [
        "# checking length of filled data (should be the)\n",
        "print(f\"Missing rows: {len(df) - len(epc_filled)}\")\n",
        "print(f\"Property without UPRN: {len(df[df.uprn.isna()])}\")"
      ],
      "metadata": {
        "colab": {
          "base_uri": "https://localhost:8080/"
        },
        "id": "GIw8hWi4Q0o6",
        "outputId": "66635956-3d32-421d-d8a3-f9204dd6f6f4"
      },
      "execution_count": 42,
      "outputs": [
        {
          "output_type": "stream",
          "name": "stdout",
          "text": [
            "Missing rows: 13443\n",
            "Property without UPRN: 13443\n"
          ]
        }
      ]
    },
    {
      "cell_type": "code",
      "source": [
        "# remove rows without UPRN, doesn't exist and cannot find data\n",
        "df = df[df.uprn.isna()==False]"
      ],
      "metadata": {
        "id": "2gW4JtkJbNXf"
      },
      "execution_count": 43,
      "outputs": []
    },
    {
      "cell_type": "markdown",
      "source": [
        "# Standardising missing data labels"
      ],
      "metadata": {
        "id": "j0vaNdN9RYZq"
      }
    },
    {
      "cell_type": "code",
      "source": [
        "# replace 'NO DATA!', 'not defined' and 'not recored' with null\n",
        "df = df.replace(['NO DATA!','NODATA!'],np.nan)\n",
        "df = df.replace(['not recorded','not defined','unknown','Unknown','Not defined','Not recorded'],np.nan)\n",
        "df = df.replace(['N/A','n/a'],np.nan)\n",
        "df = df.replace(['INVALID!'],np.nan)"
      ],
      "metadata": {
        "id": "seuReTN1ReMt"
      },
      "execution_count": 44,
      "outputs": []
    },
    {
      "cell_type": "markdown",
      "source": [
        "# Data Audit\n",
        "This script takes an audit of the EPC data for WMCA. It looks at how many missing values each feature has, how many unique values the categorical features have then applies preprocessing steps to remove outliers and drop features with too many missing values. Note that [Sonia Williams](https://datasciencecampus.ons.gov.uk/projects/using-machine-learning-to-predict-energy-efficiency/) split the data into test and training before performing the following."
      ],
      "metadata": {
        "id": "fwUOyVKoT8lH"
      }
    },
    {
      "cell_type": "markdown",
      "source": [
        "## Missing values"
      ],
      "metadata": {
        "id": "3ZhvNvHyUEDS"
      }
    },
    {
      "cell_type": "code",
      "source": [
        "percent_missing = df.isnull().sum() * 100 / len(df)"
      ],
      "metadata": {
        "id": "BoynSf5aUDxG"
      },
      "execution_count": 45,
      "outputs": []
    },
    {
      "cell_type": "code",
      "source": [
        "percent_missing.sort_values(ascending=False)[:30]"
      ],
      "metadata": {
        "colab": {
          "base_uri": "https://localhost:8080/"
        },
        "id": "ySVqaHwbbniq",
        "outputId": "36515b8b-5b14-4062-fa33-4667970d7408"
      },
      "execution_count": 46,
      "outputs": [
        {
          "output_type": "execute_result",
          "data": {
            "text/plain": [
              "ladnmw                          100.000000\n",
              "sheating-energy-eff             100.000000\n",
              "sheating-env-eff                100.000000\n",
              "county                           99.871190\n",
              "doterm                           99.538805\n",
              "floor-energy-eff                 94.937261\n",
              "floor-env-eff                    94.937261\n",
              "address3                         94.880112\n",
              "flat-storey-count                93.131414\n",
              "unheated-corridor-length         85.571435\n",
              "heat-loss-corridor               73.892526\n",
              "flat-top-storey                  73.409612\n",
              "floor-level                      70.864631\n",
              "address2                         67.631660\n",
              "floor-height                     59.585064\n",
              "low-energy-fixed-light-count     59.315033\n",
              "fixed-lighting-outlets-count     52.560544\n",
              "photo-supply                     40.685367\n",
              "solar-water-heating-flag         38.887226\n",
              "roof-env-eff                     17.354673\n",
              "roof-energy-eff                  17.354673\n",
              "main-heating-controls            16.255431\n",
              "glazed-type                      10.986115\n",
              "energy-tariff                     9.136430\n",
              "mains-gas-flag                    7.624234\n",
              "construction-age-band             7.539261\n",
              "extension-count                   7.398140\n",
              "number-habitable-rooms            7.398140\n",
              "glazed-area                       7.398140\n",
              "mechanical-ventilation            7.398140\n",
              "dtype: float64"
            ]
          },
          "metadata": {},
          "execution_count": 46
        }
      ]
    },
    {
      "cell_type": "markdown",
      "source": [
        "Maybe we can map values from `photo-supply` to `solar-water-heating-flag`."
      ],
      "metadata": {
        "id": "_uSYmWkmffLq"
      }
    },
    {
      "cell_type": "code",
      "source": [
        "df.drop([\n",
        "        # Remove variables with too many missing variables\n",
        "        'sheating-env-eff', 'sheating-energy-eff', 'flat-storey-count', \n",
        "        'floor-env-eff', 'floor-energy-eff', 'unheated-corridor-length', \n",
        "        'county', 'heat-loss-corridor', 'flat-top-storey', \n",
        "        # Remove unnecessary variables\n",
        "        'oa11cd', 'lsoa11cd', 'msoa11cd', 'lsoa11nm', 'msoa11nm', \n",
        "        'local-authority-label',\n",
        "        # Remove variables with high % missing and similar variables\n",
        "        'low-energy-fixed-light-count', 'fixed-lighting-outlets-count'\n",
        "        ],\n",
        "        axis=1,\n",
        "        inplace=True)\n"
      ],
      "metadata": {
        "id": "u-qy5PMCcDj8"
      },
      "execution_count": 47,
      "outputs": []
    },
    {
      "cell_type": "markdown",
      "source": [
        "## Data sanity check"
      ],
      "metadata": {
        "id": "kL7jP6Fzisxv"
      }
    },
    {
      "cell_type": "code",
      "source": [
        "# Convert to datetime object\n",
        "df['inspection-date'] = df['inspection-date'].astype('datetime64')\n",
        "df['lodgement-datetime'] = df['lodgement-datetime'].astype('datetime64')\n",
        "\n",
        "## remove similar column\n",
        "df.drop(columns=['lodgement-date'], inplace=True)"
      ],
      "metadata": {
        "id": "IMzSzW8nhzyU"
      },
      "execution_count": 48,
      "outputs": []
    },
    {
      "cell_type": "code",
      "source": [
        "# All valid years\n",
        "df['inspection-date'].dt.year.value_counts(normalize=True)"
      ],
      "metadata": {
        "colab": {
          "base_uri": "https://localhost:8080/"
        },
        "id": "yun4jWrBhp3B",
        "outputId": "83bc58dd-6856-4af5-9afb-cf56f8662551"
      },
      "execution_count": 49,
      "outputs": [
        {
          "output_type": "execute_result",
          "data": {
            "text/plain": [
              "2014    0.118199\n",
              "2013    0.114531\n",
              "2009    0.088470\n",
              "2015    0.084768\n",
              "2016    0.077105\n",
              "2010    0.072140\n",
              "2011    0.062521\n",
              "2012    0.062021\n",
              "2021    0.061722\n",
              "2019    0.058548\n",
              "2020    0.057052\n",
              "2018    0.054500\n",
              "2017    0.047167\n",
              "2008    0.025319\n",
              "2022    0.015847\n",
              "2007    0.000071\n",
              "2006    0.000018\n",
              "2003    0.000001\n",
              "2004    0.000001\n",
              "Name: inspection-date, dtype: float64"
            ]
          },
          "metadata": {},
          "execution_count": 49
        }
      ]
    },
    {
      "cell_type": "code",
      "source": [
        "# All valid years\n",
        "df['lodgement-datetime'].dt.year.value_counts(normalize=True)"
      ],
      "metadata": {
        "colab": {
          "base_uri": "https://localhost:8080/"
        },
        "id": "4uj0vMvKaEde",
        "outputId": "3e1ee128-ea5d-43cd-d682-02732423354e"
      },
      "execution_count": 50,
      "outputs": [
        {
          "output_type": "execute_result",
          "data": {
            "text/plain": [
              "2014    0.117681\n",
              "2013    0.113594\n",
              "2009    0.088913\n",
              "2015    0.085585\n",
              "2016    0.077752\n",
              "2010    0.072348\n",
              "2011    0.062653\n",
              "2021    0.062100\n",
              "2012    0.061818\n",
              "2019    0.058759\n",
              "2020    0.056798\n",
              "2018    0.053940\n",
              "2017    0.047160\n",
              "2008    0.024217\n",
              "2022    0.016681\n",
              "Name: lodgement-datetime, dtype: float64"
            ]
          },
          "metadata": {},
          "execution_count": 50
        }
      ]
    },
    {
      "cell_type": "markdown",
      "source": [
        "## Clip values in numeric columns that are too high or negative"
      ],
      "metadata": {
        "id": "O5HBTmB4k_Rk"
      }
    },
    {
      "cell_type": "code",
      "source": [
        "num_var = df.select_dtypes(include= 'number').columns.tolist()\n",
        "\n",
        "# Not these variables\n",
        "num_var.remove('uprn')\n",
        "num_var.remove('LATITUDE')\n",
        "num_var.remove('LONGITUDE')\n",
        "\n",
        "# Fuel poverty data is fine\n",
        "num_var.remove('prop_households_fuel_poor')\n",
        "num_var.remove('num_households')\n",
        "num_var.remove('num_households_fuel_poverty')"
      ],
      "metadata": {
        "id": "HvGpOKkqi2hz"
      },
      "execution_count": 51,
      "outputs": []
    },
    {
      "cell_type": "code",
      "source": [
        "audit_num = df[num_var].describe(percentiles = [0.25,0.5,0.75,0.9,0.95,0.99])"
      ],
      "metadata": {
        "id": "R69raybglKwv"
      },
      "execution_count": 52,
      "outputs": []
    },
    {
      "cell_type": "code",
      "source": [
        "# Clips the variables of the EPC data between 0 and the upper bound of the 99% confidence interval\n",
        "for var in num_var:\n",
        "  df[var].clip(lower=0.0, upper=audit_num[var]['99%'], inplace=True)"
      ],
      "metadata": {
        "id": "oKsHwZoflvA8"
      },
      "execution_count": 53,
      "outputs": []
    },
    {
      "cell_type": "markdown",
      "source": [
        "## Reduce levels in categorical fields\n",
        "We will need to group categories for those with many levels using CHAID and other methods in the next notebook."
      ],
      "metadata": {
        "id": "1CrAnQ2imoKh"
      }
    },
    {
      "cell_type": "code",
      "source": [
        "cat_var = df.select_dtypes(include= ['object','category']).columns.tolist()\n",
        "\n",
        "# Not these variables\n",
        "cat_var.remove('lmk-key')\n",
        "cat_var.remove('address')\n",
        "cat_var.remove('postcode')"
      ],
      "metadata": {
        "id": "NBOnKpvQmn6E"
      },
      "execution_count": 54,
      "outputs": []
    },
    {
      "cell_type": "code",
      "source": [
        "df[cat_var].nunique().sort_values(ascending = False)[:30]"
      ],
      "metadata": {
        "colab": {
          "base_uri": "https://localhost:8080/"
        },
        "id": "R5BHIkram3OY",
        "outputId": "a2134966-1864-4a87-ff6c-ee1fe93ad03c"
      },
      "execution_count": 55,
      "outputs": [
        {
          "output_type": "execute_result",
          "data": {
            "text/plain": [
              "address1                    684694\n",
              "address2                     22240\n",
              "address3                      2995\n",
              "walls-description              613\n",
              "floor-description              404\n",
              "roof-description               300\n",
              "posttown                       236\n",
              "lighting-description           185\n",
              "mainheat-description           156\n",
              "main-heating-controls          111\n",
              "hotwater-description            93\n",
              "mainheatcont-description        65\n",
              "floor-level                     53\n",
              "windows-description             45\n",
              "constituency-label              44\n",
              "constituency                    44\n",
              "secondheat-description          40\n",
              "main-fuel                       38\n",
              "construction-age-band           29\n",
              "local-authority                 23\n",
              "transaction-type                17\n",
              "energy-tariff                    9\n",
              "glazed-type                      8\n",
              "current-energy-rating            7\n",
              "tenure                           7\n",
              "ladcd                            7\n",
              "ladnm                            7\n",
              "potential-energy-rating          7\n",
              "glazed-area                      6\n",
              "built-form                       6\n",
              "dtype: int64"
            ]
          },
          "metadata": {},
          "execution_count": 55
        }
      ]
    },
    {
      "cell_type": "code",
      "source": [
        "df.to_csv(\"/content/drive/MyDrive/WMCA/data_cleaning.csv\", index=False)"
      ],
      "metadata": {
        "id": "D-GY92_Lf0o9"
      },
      "execution_count": 56,
      "outputs": []
    }
  ]
}