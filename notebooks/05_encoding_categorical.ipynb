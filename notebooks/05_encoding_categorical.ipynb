{
  "nbformat": 4,
  "nbformat_minor": 0,
  "metadata": {
    "colab": {
      "name": "encoding_categorical.ipynb",
      "provenance": []
    },
    "kernelspec": {
      "name": "python3",
      "display_name": "Python 3"
    },
    "language_info": {
      "name": "python"
    }
  },
  "cells": [
    {
      "cell_type": "code",
      "execution_count": 16,
      "metadata": {
        "id": "AhN9UP4KVSKu"
      },
      "outputs": [],
      "source": [
        "import pandas as pd\n",
        "import numpy as np\n",
        "import datetime as dt\n",
        "\n",
        "from sklearn.preprocessing import LabelEncoder\n",
        "from sklearn_pandas import CategoricalImputer\n",
        "from sklearn.preprocessing import OneHotEncoder"
      ]
    },
    {
      "cell_type": "code",
      "source": [
        "df = pd.read_csv(\"/content/drive/MyDrive/WMCA/chaid_data.csv\")\n",
        "df.drop(columns=[\"current-energy-rating\", \"current-energy-efficiency\",\n",
        "                'address'], inplace=True)"
      ],
      "metadata": {
        "id": "RJ_7B9h3VcCU"
      },
      "execution_count": 17,
      "outputs": []
    },
    {
      "cell_type": "code",
      "source": [
        "# Convert to ordinal for regression\n",
        "df['inspection-date'] = df['inspection-date'].astype('datetime64').map(dt.datetime.toordinal)\n",
        "df['lodgement-datetime'] = df['lodgement-datetime'].astype('datetime64').map(dt.datetime.toordinal)"
      ],
      "metadata": {
        "id": "PZxhCfyI5wrJ"
      },
      "execution_count": 18,
      "outputs": []
    },
    {
      "cell_type": "code",
      "source": [
        "# Keep missing values as seperate category\n",
        "bool_var = ['solar-water-heating-flag', 'photo-supply-binary', 'mains-gas-flag']\n",
        "df[bool_var] = df[bool_var].replace(np.nan, 'MISSING')\n",
        "df[bool_var] = df[bool_var].astype(str)\n",
        "\n",
        "# One hot encode non-ordinal variables\n",
        "for var in bool_var:\n",
        "  enc = OneHotEncoder(handle_unknown='ignore')\n",
        "  df[var] = enc.fit_transform(np.array(df[var]).reshape(-1,1)).toarray()"
      ],
      "metadata": {
        "id": "IX9xz42wzkRh"
      },
      "execution_count": 19,
      "outputs": []
    },
    {
      "cell_type": "markdown",
      "source": [
        "Impute with iterator (merge with other)"
      ],
      "metadata": {
        "id": "5x10MleO5ku0"
      }
    },
    {
      "cell_type": "code",
      "source": [
        "cat_var = df.select_dtypes(include= ['object']).columns.tolist()\n",
        "\n",
        "percent_missing = df[cat_var].isnull().sum() * 100 / len(df)\n",
        "percent_missing.sort_values(ascending=False, inplace=True)\n",
        "print(percent_missing)"
      ],
      "metadata": {
        "colab": {
          "base_uri": "https://localhost:8080/"
        },
        "id": "S8sSHDjhtM7F",
        "outputId": "72a3a961-b733-4fe1-89f3-62f468be7e71"
      },
      "execution_count": 20,
      "outputs": [
        {
          "output_type": "stream",
          "name": "stdout",
          "text": [
            "floor-level                 80.628631\n",
            "roof-energy-eff             16.481990\n",
            "roof-env-eff                16.481990\n",
            "glazed-type                 11.092910\n",
            "glazed-area                  8.437256\n",
            "mechanical-ventilation       8.437121\n",
            "construction-age-band        8.374794\n",
            "tenure                       7.603029\n",
            "energy-tariff                6.602416\n",
            "built-form                   2.260964\n",
            "main-fuel                    0.890186\n",
            "hot-water-env-eff            0.179799\n",
            "mainheat-energy-eff          0.179663\n",
            "mainheat-env-eff             0.179392\n",
            "hot-water-energy-eff         0.172211\n",
            "mainheatc-env-eff            0.140370\n",
            "mainheatc-energy-eff         0.140370\n",
            "lighting-energy-eff          0.096335\n",
            "walls-energy-eff             0.073437\n",
            "walls-env-eff                0.073437\n",
            "lighting-env-eff             0.070592\n",
            "windows-energy-eff           0.069101\n",
            "windows-env-eff              0.069101\n",
            "transaction-type             0.048235\n",
            "windows-description          0.026421\n",
            "roof-description             0.004200\n",
            "walls-description            0.001626\n",
            "floor-description            0.001490\n",
            "hotwater-description         0.000135\n",
            "mainheat-description         0.000135\n",
            "lighting-description         0.000135\n",
            "mainheatcont-description     0.000000\n",
            "property-type                0.000000\n",
            "postcode                     0.000000\n",
            "constituency                 0.000000\n",
            "local-authority              0.000000\n",
            "msoa_code                    0.000000\n",
            "lsoa_code                    0.000000\n",
            "secondheat-description       0.000000\n",
            "dtype: float64\n"
          ]
        }
      ]
    },
    {
      "cell_type": "code",
      "source": [
        "# High missing values \n",
        "df.drop(columns=['floor-level'], inplace=True)\n",
        "cat_var.remove('floor-level')"
      ],
      "metadata": {
        "id": "Ngz1oBUs6dat"
      },
      "execution_count": 21,
      "outputs": []
    },
    {
      "cell_type": "code",
      "source": [
        "# Impute small amount of missing\n",
        "for var in percent_missing.index[percent_missing <1]:\n",
        "  imputer = CategoricalImputer()\n",
        "  df[var] = imputer.fit_transform(df[var])\n",
        "\n",
        "# Fill remaining missing values\n",
        "df[cat_var] = df[cat_var].replace(np.nan, 'MISSING')"
      ],
      "metadata": {
        "id": "bMpDeHzYvMtj"
      },
      "execution_count": 22,
      "outputs": []
    },
    {
      "cell_type": "code",
      "source": [
        "ordinal_var = [col for col in df.columns if '-eff' in col] + ['construction-age-band', 'glazed-area']\n",
        "\n",
        "# Change categorical variable to numbers\n",
        "for var in ordinal_var:\n",
        "  label_encoder = LabelEncoder()\n",
        "  df[var] = label_encoder.fit_transform(df[var]) "
      ],
      "metadata": {
        "id": "f7wAjtNW4mfO"
      },
      "execution_count": 24,
      "outputs": []
    },
    {
      "cell_type": "code",
      "source": [
        "non_ordinal_var = [col for col in df.columns if col not in ordinal_var]\n",
        "# One hot encode non-ordinal variables\n",
        "for var in non_ordinal_var:\n",
        "  # Crashes :(\n",
        "  # enc = OneHotEncoder(handle_unknown='ignore')\n",
        "  # df[var] = enc.fit_transform(np.array(df[var]).reshape(-1,1)).toarray()\n",
        "\n",
        "  label_encoder = LabelEncoder()\n",
        "  df[var] = label_encoder.fit_transform(df[var]) "
      ],
      "metadata": {
        "id": "AAJbzxIOpY-5"
      },
      "execution_count": 25,
      "outputs": []
    },
    {
      "cell_type": "code",
      "source": [
        "df.to_csv(\"/content/drive/MyDrive/WMCA/encoding_categorical.csv\", index=False)"
      ],
      "metadata": {
        "id": "Kx1pQS0UnPWn"
      },
      "execution_count": 26,
      "outputs": []
    }
  ]
}