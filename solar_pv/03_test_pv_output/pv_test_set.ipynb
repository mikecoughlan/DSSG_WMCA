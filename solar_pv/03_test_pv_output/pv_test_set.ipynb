{
 "cells": [
  {
   "cell_type": "code",
   "execution_count": 14,
   "metadata": {},
   "outputs": [],
   "source": [
    "import pandas as pd\n",
    "pd.set_option('display.float_format', lambda x: '%.3f' % x)\n",
    "import numpy as np\n",
    "from fuzzywuzzy import fuzz\n",
    "import geopandas as gpd\n",
    "\n",
    "MCS_DATA_PATH = \"../../../data/external/Solar PV installations west midlands.xlsx\"\n",
    "test_df = pd.read_excel(MCS_DATA_PATH, sheet_name=\"Sheet3\")\n",
    "\n",
    "# Standardise postcode for grouping \n",
    "test_df['Postcode'] = test_df['Postcode'].str.upper()\n",
    "test_df = test_df[test_df['Postcode'].isna()==False]\n",
    "\n",
    "# Add full address\n",
    "test_add_cols = ['Address Line 1', 'Address Line 2', 'Address Line 3']\n",
    "test_df[test_add_cols] = test_df[test_add_cols].fillna('')\n",
    "test_df['full_address'] = test_df[test_add_cols].apply(lambda row: ' '.join(row.values.astype(str)), axis=1)"
   ]
  },
  {
   "cell_type": "code",
   "execution_count": 2,
   "metadata": {},
   "outputs": [],
   "source": [
    "def add_full_address(db):\n",
    "    \"\"\"\n",
    "    Add 'full_address' column for predicted solar pv files\n",
    "\n",
    "        \"\"\"\n",
    "    db['buildingNumber'] = db['buildingNumber'].astype('Int64').astype(str)\n",
    "    db['buildingNumber'] = db['buildingNumber'].str.replace(\"<NA>\", \"\")\n",
    "    db['postcode'] = db['postcode'].str.replace(r\"\\s\", \"\")\n",
    "\n",
    "    results_add_cols = ['buildingNumber', 'thoroughfare']\n",
    "    db[results_add_cols] = db[results_add_cols].fillna('')\n",
    "    db['full_address'] = db[results_add_cols].apply(lambda row: ' '.join(row.values.astype(str)), axis=1)\n",
    "    db = db[db['full_address'] !='']\n",
    "\n",
    "    return db"
   ]
  },
  {
   "cell_type": "code",
   "execution_count": 3,
   "metadata": {},
   "outputs": [],
   "source": [
    "def get_test_set(test_df, train_df):\n",
    "    \"\"\"\n",
    "    Match houses from MCS data to houses from OSMap data\n",
    "\n",
    "    Input\n",
    "    test_df(DataFrame)\n",
    "    train_df(DataFrame)\n",
    "\n",
    "    Output\n",
    "    matched_uprn(DataFrame): PV outputs for matching UPRNs \n",
    "    \n",
    "    \"\"\"\n",
    "    unq_postcode = list(train_df.postcode.unique())\n",
    "\n",
    "    uprn = {}\n",
    "    mapped_add = {}\n",
    "    score = {}\n",
    "    for postcode, grp in test_df.groupby('Postcode'): \n",
    "        if postcode in unq_postcode:\n",
    "            sub_results = train_df[train_df.postcode==postcode]\n",
    "            for i in grp.index:\n",
    "                if sub_results['full_address'].shape[0]:\n",
    "                    fuzz_score = [fuzz.partial_ratio(grp['full_address'][i], add) for add in sub_results['full_address']]\n",
    "                    idx = sub_results.index[np.argmax(np.array(fuzz_score))]\n",
    "                    if max(fuzz_score) > 80:\n",
    "                        uprn[i] = sub_results['uprn'][idx]\n",
    "                        mapped_add[i] = sub_results['full_address'][idx]\n",
    "                        score[i] = max(fuzz_score)\n",
    "\n",
    "    matched_uprn = test_df.loc[uprn.keys()]\n",
    "    matched_uprn['uprn'] = uprn.values()\n",
    "    matched_uprn['mapped_address'] = mapped_add.values()\n",
    "    matched_uprn['score'] = score.values()\n",
    "\n",
    "    if len(matched_uprn) > 0:\n",
    "        matched_uprn = matched_uprn.merge(\n",
    "            train_df, \n",
    "            how='left', on='uprn'\n",
    "            )\n",
    "    else:\n",
    "        print(\"No matches\")\n",
    "\n",
    "    return matched_uprn"
   ]
  },
  {
   "cell_type": "code",
   "execution_count": 15,
   "metadata": {},
   "outputs": [
    {
     "name": "stderr",
     "output_type": "stream",
     "text": [
      "C:\\Users\\lilia\\AppData\\Local\\Temp\\ipykernel_20960\\2224345721.py:8: FutureWarning: The default value of regex will change from True to False in a future version.\n",
      "  db['postcode'] = db['postcode'].str.replace(r\"\\s\", \"\")\n"
     ]
    },
    {
     "data": {
      "text/html": [
       "<div>\n",
       "<style scoped>\n",
       "    .dataframe tbody tr th:only-of-type {\n",
       "        vertical-align: middle;\n",
       "    }\n",
       "\n",
       "    .dataframe tbody tr th {\n",
       "        vertical-align: top;\n",
       "    }\n",
       "\n",
       "    .dataframe thead th {\n",
       "        text-align: right;\n",
       "    }\n",
       "</style>\n",
       "<table border=\"1\" class=\"dataframe\">\n",
       "  <thead>\n",
       "    <tr style=\"text-align: right;\">\n",
       "      <th></th>\n",
       "      <th>Estimated Annual Generation</th>\n",
       "      <th>pv_output</th>\n",
       "    </tr>\n",
       "  </thead>\n",
       "  <tbody>\n",
       "    <tr>\n",
       "      <th>count</th>\n",
       "      <td>542.000</td>\n",
       "      <td>542.000</td>\n",
       "    </tr>\n",
       "    <tr>\n",
       "      <th>mean</th>\n",
       "      <td>2816.829</td>\n",
       "      <td>18450.814</td>\n",
       "    </tr>\n",
       "    <tr>\n",
       "      <th>std</th>\n",
       "      <td>3091.304</td>\n",
       "      <td>74789.452</td>\n",
       "    </tr>\n",
       "    <tr>\n",
       "      <th>min</th>\n",
       "      <td>1.820</td>\n",
       "      <td>2072.375</td>\n",
       "    </tr>\n",
       "    <tr>\n",
       "      <th>25%</th>\n",
       "      <td>1749.553</td>\n",
       "      <td>5144.183</td>\n",
       "    </tr>\n",
       "    <tr>\n",
       "      <th>50%</th>\n",
       "      <td>2564.500</td>\n",
       "      <td>6622.436</td>\n",
       "    </tr>\n",
       "    <tr>\n",
       "      <th>75%</th>\n",
       "      <td>3235.000</td>\n",
       "      <td>9641.085</td>\n",
       "    </tr>\n",
       "    <tr>\n",
       "      <th>max</th>\n",
       "      <td>42090.000</td>\n",
       "      <td>1597485.425</td>\n",
       "    </tr>\n",
       "  </tbody>\n",
       "</table>\n",
       "</div>"
      ],
      "text/plain": [
       "       Estimated Annual Generation   pv_output\n",
       "count                      542.000     542.000\n",
       "mean                      2816.829   18450.814\n",
       "std                       3091.304   74789.452\n",
       "min                          1.820    2072.375\n",
       "25%                       1749.553    5144.183\n",
       "50%                       2564.500    6622.436\n",
       "75%                       3235.000    9641.085\n",
       "max                      42090.000 1597485.425"
      ]
     },
     "execution_count": 15,
     "metadata": {},
     "output_type": "execute_result"
    }
   ],
   "source": [
    "# Estimated solar PV output for buildings with no DSM\n",
    "# Method: pv_lib\n",
    "pvlib_building = pd.read_csv(\"../02_calc_pv_output/output/building_pv.csv\")\n",
    "pvlib_building = add_full_address(pvlib_building)\n",
    "data = get_test_set(test_df, pvlib_building)\n",
    "data[['Estimated Annual Generation', 'pv_output']].describe()\n"
   ]
  },
  {
   "cell_type": "code",
   "execution_count": 20,
   "metadata": {},
   "outputs": [
    {
     "data": {
      "image/png": "[encoded data removed]",
      "text/plain": [
       "<Figure size 432x288 with 1 Axes>"
      ]
     },
     "metadata": {
      "needs_background": "light"
     },
     "output_type": "display_data"
    }
   ],
   "source": [
    "import matplotlib.pyplot as plt\n",
    "plt.hist(data['pv_output'] - data['Estimated Annual Generation'], bins=10)\n",
    "plt.xlabel('Solar PV estimation difference')\n",
    "plt.ylabel('Frequency')\n",
    "plt.title('Pvlib vs MCS Solar PV Estimation')\n",
    "plt.show()"
   ]
  },
  {
   "cell_type": "code",
   "execution_count": null,
   "metadata": {},
   "outputs": [],
   "source": []
  },
  {
   "cell_type": "code",
   "execution_count": 21,
   "metadata": {},
   "outputs": [
    {
     "name": "stderr",
     "output_type": "stream",
     "text": [
      "C:\\Users\\lilia\\AppData\\Local\\Temp\\ipykernel_20960\\2224345721.py:8: FutureWarning: The default value of regex will change from True to False in a future version.\n",
      "  db['postcode'] = db['postcode'].str.replace(r\"\\s\", \"\")\n"
     ]
    },
    {
     "name": "stdout",
     "output_type": "stream",
     "text": [
      "No matches\n"
     ]
    }
   ],
   "source": [
    "# Estimated solar panel output for roof segments\n",
    "# Method: pvlib\n",
    "pvlib_roof_segment = pd.read_csv(\"../02_calc_pv_output/output/roof_segment_pv.csv\")\n",
    "pvlib_roof_segment = add_full_address(pvlib_roof_segment)\n",
    "data = get_test_set(test_df, pvlib_roof_segment)"
   ]
  },
  {
   "cell_type": "code",
   "execution_count": 22,
   "metadata": {},
   "outputs": [
    {
     "name": "stderr",
     "output_type": "stream",
     "text": [
      "C:\\Users\\lilia\\AppData\\Local\\Temp\\ipykernel_20960\\2224345721.py:8: FutureWarning: The default value of regex will change from True to False in a future version.\n",
      "  db['postcode'] = db['postcode'].str.replace(r\"\\s\", \"\")\n"
     ]
    },
    {
     "name": "stdout",
     "output_type": "stream",
     "text": [
      "No matches\n"
     ]
    }
   ],
   "source": [
    "# Estimated solar PV output for roof segments\n",
    "# Method: MCS\n",
    "MCS_pv_output = pd.read_csv(\"../02_calc_pv_output/output/MCS_pv_output.csv\")\n",
    "MCS_pv_output = add_full_address(MCS_pv_output)\n",
    "data = get_test_set(test_df, MCS_pv_output)"
   ]
  },
  {
   "cell_type": "code",
   "execution_count": 90,
   "metadata": {},
   "outputs": [],
   "source": [
    "pv_output['parentUPRN'] = pv_output['uprn'].map(mapping)"
   ]
  },
  {
   "cell_type": "code",
   "execution_count": 29,
   "metadata": {},
   "outputs": [
    {
     "data": {
      "text/plain": [
       "count         2.000\n",
       "mean     902144.776\n",
       "std      386255.180\n",
       "min      629021.119\n",
       "25%      765582.948\n",
       "50%      902144.776\n",
       "75%     1038706.605\n",
       "max     1175268.434\n",
       "Name: pv_output, dtype: float64"
      ]
     },
     "execution_count": 29,
     "metadata": {},
     "output_type": "execute_result"
    }
   ],
   "source": [
    "nested_buildings = pvlib_roof_segment[pvlib_roof_segment['parentUPRN'].isna()==False]\n",
    "nested_buildings.groupby('parentUPRN').sum()['pv_output'].describe()"
   ]
  },
  {
   "cell_type": "code",
   "execution_count": 106,
   "metadata": {},
   "outputs": [
    {
     "data": {
      "text/plain": [
       "count       441.000000\n",
       "mean      36829.340972\n",
       "std       38288.158250\n",
       "min        2010.391400\n",
       "25%       12739.773021\n",
       "50%       26551.113135\n",
       "75%       43270.215642\n",
       "max      273287.769168\n",
       "Name: AC, dtype: float64"
      ]
     },
     "execution_count": 106,
     "metadata": {},
     "output_type": "execute_result"
    }
   ],
   "source": [
    "unnested_buildings = pv_output[pv_output['parentUPRN'].isna()==True]\n",
    "unnested_buildings.groupby('uprn').sum()['AC'].describe()"
   ]
  },
  {
   "cell_type": "code",
   "execution_count": 83,
   "metadata": {},
   "outputs": [
    {
     "data": {
      "text/plain": [
       "count       475.000000\n",
       "mean      50141.708143\n",
       "std       66379.975122\n",
       "min        2010.391400\n",
       "25%       13017.885623\n",
       "50%       28512.724403\n",
       "75%       46910.120384\n",
       "max      273287.769168\n",
       "Name: AC, dtype: float64"
      ]
     },
     "execution_count": 83,
     "metadata": {},
     "output_type": "execute_result"
    }
   ],
   "source": [
    "pv_output.groupby('uprn').sum()['AC'].describe()"
   ]
  },
  {
   "cell_type": "code",
   "execution_count": 70,
   "metadata": {},
   "outputs": [
    {
     "data": {
      "text/plain": [
       "count    6.028200e+04\n",
       "mean     2.439131e+07\n",
       "std      5.987197e+09\n",
       "min      0.000000e+00\n",
       "25%      1.200000e+03\n",
       "50%      2.439000e+03\n",
       "75%      3.286400e+03\n",
       "max      1.470000e+12\n",
       "Name: Estimated Annual Generation, dtype: float64"
      ]
     },
     "execution_count": 70,
     "metadata": {},
     "output_type": "execute_result"
    }
   ],
   "source": [
    "test_df['Estimated Annual Generation'].describe()"
   ]
  }
 ],
 "metadata": {
  "kernelspec": {
   "display_name": "Python 3.9.4 64-bit",
   "language": "python",
   "name": "python3"
  },
  "language_info": {
   "codemirror_mode": {
    "name": "ipython",
    "version": 3
   },
   "file_extension": ".py",
   "mimetype": "text/x-python",
   "name": "python",
   "nbconvert_exporter": "python",
   "pygments_lexer": "ipython3",
   "version": "3.9.4"
  },
  "orig_nbformat": 4,
  "vscode": {
   "interpreter": {
    "hash": "a71bc2f0fdff3760b45ea6dafb563485b76fcb756cae0bed9e259635e4639181"
   }
  }
 },
 "nbformat": 4,
 "nbformat_minor": 2
}
