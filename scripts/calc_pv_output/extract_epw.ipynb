{
 "cells": [
  {
   "cell_type": "code",
   "execution_count": 2,
   "metadata": {},
   "outputs": [
    {
     "name": "stderr",
     "output_type": "stream",
     "text": [
      "c:\\Users\\lilia\\AppData\\Local\\Programs\\Python\\Python39\\lib\\site-packages\\geopandas\\_compat.py:111: UserWarning: The Shapely GEOS version (3.10.2-CAPI-1.16.0) is incompatible with the GEOS version PyGEOS was compiled with (3.10.1-CAPI-1.16.0). Conversions between both will be slow.\n",
      "  warnings.warn(\n"
     ]
    }
   ],
   "source": [
    "import geopandas as gpd\n",
    "import numpy as np\n",
    "import pandas as pd\n",
    "import pvlib\n",
    "from pvlib.pvsystem import PVSystem, Array, FixedMount\n",
    "from pvlib.location import Location\n",
    "from pvlib.modelchain import ModelChain\n",
    "import time\n",
    "\n",
    "sandia_modules = pvlib.pvsystem.retrieve_sam('SandiaMod')\n",
    "sapm_inverters = pvlib.pvsystem.retrieve_sam('cecinverter')\n",
    "module = sandia_modules['Canadian_Solar_CS5P_220M___2009_']\n",
    "inverter = sapm_inverters['ABB__MICRO_0_25_I_OUTD_US_208__208V_']\n",
    "temperature_model_parameters = pvlib.temperature.TEMPERATURE_MODEL_PARAMETERS['sapm']['open_rack_glass_glass']"
   ]
  },
  {
   "cell_type": "code",
   "execution_count": 4,
   "metadata": {},
   "outputs": [],
   "source": [
    "def get_weather(lat, lng):\n",
    "    print('Getting weather...')\n",
    "    start = time.time()\n",
    "\n",
    "    weather = pvlib.iotools.get_pvgis_tmy(lat, lng,\n",
    "                                        map_variables=True)[0]\n",
    "    weather.index.name = \"utc_time\"\n",
    "    \n",
    "    end = time.time()\n",
    "    print(f'Completed getting weather in {end-start}s')\n",
    "    return weather"
   ]
  },
  {
   "cell_type": "code",
   "execution_count": 21,
   "metadata": {},
   "outputs": [],
   "source": [
    "def calculate_PV(location, weather, slope, aspect):\n",
    "    mount = FixedMount(surface_tilt=slope, surface_azimuth=aspect)\n",
    "    array = Array(\n",
    "        mount=mount,\n",
    "        module_parameters=module,\n",
    "        temperature_model_parameters=temperature_model_parameters,\n",
    "    )\n",
    "    system = PVSystem(arrays=[array], inverter_parameters=inverter)\n",
    "    mc = ModelChain(system, location)\n",
    "    mc.run_model(weather)\n",
    "    annual_energy = mc.results.ac.sum()\n",
    "\n",
    "    return annual_energy"
   ]
  },
  {
   "cell_type": "code",
   "execution_count": 27,
   "metadata": {},
   "outputs": [],
   "source": [
    "def avg_pv_output(lat, lng, alt, weather, timezone='Etc/GMT+1'):\n",
    "    print('Calculating solar output...')\n",
    "    start = time.time()\n",
    "    \n",
    "    location = Location(\n",
    "        lat,\n",
    "        lng,\n",
    "        name='',\n",
    "        altitude=alt,\n",
    "        tz=timezone,\n",
    "    )\n",
    "\n",
    "    slope_vals = np.arange(10, 61, 10)\n",
    "    aspect_vals = np.arange(0, 361 , 15)\n",
    "\n",
    "    total_energy, counter = 0, 0\n",
    "\n",
    "    for slope in slope_vals:\n",
    "        for aspect in aspect_vals:\n",
    "            total_energy += calculate_PV(location, weather, slope, aspect)\n",
    "            counter += 1\n",
    "\n",
    "    avg_energy = total_energy/counter\n",
    "\n",
    "    end = time.time()\n",
    "    print(f\"Completed calculating PV output of {avg_energy} in {end-start}s\")\n",
    "    return avg_energy"
   ]
  },
  {
   "cell_type": "code",
   "execution_count": null,
   "metadata": {},
   "outputs": [],
   "source": [
    "def roof_segment_output(db, lat, lng, weather, timezone='Etc/GMT+1'):\n",
    "    print('Calculating solar output...')\n",
    "    start = time.time()\n",
    "\n",
    "    energies = []\n",
    "    \n",
    "    for row in db:\n",
    "        location = Location(\n",
    "            lat,\n",
    "            lng,\n",
    "            name='',\n",
    "            altitude=row['height_mean'],\n",
    "            tz=timezone\n",
    "        )\n",
    "        annual_energy = calculate_PV(location, weather, row['slope'], row['aspect'])\n",
    "\n",
    "        energies.append(annual_energy)\n",
    "\n",
    "    end = time.time()\n",
    "    print(f\"Completed calculating PV output of {annual_energy} in {end-start}s\")\n",
    "\n",
    "    return energies"
   ]
  },
  {
   "cell_type": "code",
   "execution_count": 49,
   "metadata": {},
   "outputs": [
    {
     "data": {
      "text/plain": [
       "Index(['gml_id', 'fid', 'featureCode', 'versionDate', 'calculatedAreaValue',\n",
       "       'RelH2', 'RelHMax', 'AbsHMin', 'height_mean', 'AbsH2', 'lastUpdateDate',\n",
       "       'entryDate', 'uprn', 'country', 'multiOccCount', 'buildingNumber',\n",
       "       'thoroughfare', 'postTown', 'postcode', 'level', 'shading_mean',\n",
       "       'geometry', 'lng', 'lat', 'pv_output'],\n",
       "      dtype='object')"
      ]
     },
     "execution_count": 49,
     "metadata": {},
     "output_type": "execute_result"
    }
   ],
   "source": [
    "db.columns"
   ]
  },
  {
   "cell_type": "code",
   "execution_count": 42,
   "metadata": {},
   "outputs": [
    {
     "data": {
      "text/plain": [
       "Int64Index([2006, 2014, 2011, 2015, 2013, 2016, 2012, 2008, 2007], dtype='int64', name='utc_time')"
      ]
     },
     "execution_count": 42,
     "metadata": {},
     "output_type": "execute_result"
    }
   ],
   "source": [
    "weather.index.year.unique()"
   ]
  },
  {
   "cell_type": "code",
   "execution_count": 28,
   "metadata": {},
   "outputs": [
    {
     "name": "stderr",
     "output_type": "stream",
     "text": [
      "C:\\Users\\lilia\\AppData\\Local\\Temp\\ipykernel_19948\\1030467422.py:3: UserWarning: Geometry is in a geographic CRS. Results from 'centroid' are likely incorrect. Use 'GeoSeries.to_crs()' to re-project geometries to a projected CRS before this operation.\n",
      "\n",
      "  db['lng'] = db.geometry.centroid.x\n",
      "C:\\Users\\lilia\\AppData\\Local\\Temp\\ipykernel_19948\\1030467422.py:4: UserWarning: Geometry is in a geographic CRS. Results from 'centroid' are likely incorrect. Use 'GeoSeries.to_crs()' to re-project geometries to a projected CRS before this operation.\n",
      "\n",
      "  db['lat'] = db.geometry.centroid.y\n"
     ]
    },
    {
     "name": "stdout",
     "output_type": "stream",
     "text": [
      "Getting weather...\n",
      "Completed getting weather in 1.3796000480651855s\n",
      "Calculating solar output...\n",
      "Completed calculating PV output of 167278.84680863176 in 36.761898040771484s\n"
     ]
    }
   ],
   "source": [
    "db = gpd.read_file('../../data/output/proxy_data/SJ9000.gml', driver='GML')\n",
    "db = db.to_crs(4326)\n",
    "db['lng'] = db.geometry.centroid.x\n",
    "db['lat'] = db.geometry.centroid.y\n",
    "db.rename(columns={'AbsHMax':'height_mean'}, inplace=True)\n",
    "\n",
    "latitude = db['lat'].mean()\n",
    "longitude = db['lng'].mean()\n",
    "weather = get_weather(latitude, longitude)\n",
    "avg_alt = 103\n",
    "\n",
    "pv_output = avg_pv_output(latitude, longitude, avg_alt, weather)\n",
    "db['pv_output'] = db['shading_mean'] * pv_output\n"
   ]
  },
  {
   "cell_type": "code",
   "execution_count": 18,
   "metadata": {},
   "outputs": [],
   "source": [
    "output_db = gpd.read_file('../../data/output/solar_pv/SJ9000_results.gml', driver='GML')\n"
   ]
  },
  {
   "cell_type": "code",
   "execution_count": 32,
   "metadata": {},
   "outputs": [
    {
     "data": {
      "text/plain": [
       "Text(0.5, 0, 'PV Output (Whr/year/m²)')"
      ]
     },
     "execution_count": 32,
     "metadata": {},
     "output_type": "execute_result"
    },
    {
     "data": {
      "image/png": "[encoded data removed]",
      "text/plain": [
       "<Figure size 432x288 with 1 Axes>"
      ]
     },
     "metadata": {
      "needs_background": "light"
     },
     "output_type": "display_data"
    }
   ],
   "source": [
    "ax = output_db['pv_output'].hist()\n",
    "ax.set_title(\"Annual solar PV output for flat roof and optimal aspect\")\n",
    "ax.set_ylabel(\"Number of houses\")\n",
    "ax.set_xlabel(\"PV Output (Whr/year/m\\u00b2)\")"
   ]
  },
  {
   "cell_type": "code",
   "execution_count": 33,
   "metadata": {},
   "outputs": [
    {
     "data": {
      "text/plain": [
       "Text(0.5, 0, 'PV Output (Whr/year/m²)')"
      ]
     },
     "execution_count": 33,
     "metadata": {},
     "output_type": "execute_result"
    },
    {
     "data": {
      "image/png": "[encoded data removed]",
      "text/plain": [
       "<Figure size 432x288 with 1 Axes>"
      ]
     },
     "metadata": {
      "needs_background": "light"
     },
     "output_type": "display_data"
    }
   ],
   "source": [
    "ax = db['pv_output'].hist()\n",
    "ax.set_title(\"Annual solar PV output for range of slopes and aspects\")\n",
    "ax.set_ylabel(\"Number of houses\")\n",
    "ax.set_xlabel(\"PV Output (Whr/year/m\\u00b2)\")"
   ]
  },
  {
   "cell_type": "code",
   "execution_count": 41,
   "metadata": {},
   "outputs": [
    {
     "name": "stderr",
     "output_type": "stream",
     "text": [
      "c:\\Users\\lilia\\AppData\\Local\\Programs\\Python\\Python39\\lib\\site-packages\\geopandas\\io\\file.py:362: FutureWarning: pandas.Int64Index is deprecated and will be removed from pandas in a future version. Use pandas.Index with the appropriate dtype instead.\n",
      "  pd.Int64Index,\n"
     ]
    }
   ],
   "source": [
    "joined_db.to_file('output_osmp/SJ9000_results.gml', driver='GML')"
   ]
  }
 ],
 "metadata": {
  "kernelspec": {
   "display_name": "Python 3.9.4 64-bit",
   "language": "python",
   "name": "python3"
  },
  "language_info": {
   "codemirror_mode": {
    "name": "ipython",
    "version": 3
   },
   "file_extension": ".py",
   "mimetype": "text/x-python",
   "name": "python",
   "nbconvert_exporter": "python",
   "pygments_lexer": "ipython3",
   "version": "3.9.4"
  },
  "orig_nbformat": 4,
  "vscode": {
   "interpreter": {
    "hash": "a71bc2f0fdff3760b45ea6dafb563485b76fcb756cae0bed9e259635e4639181"
   }
  }
 },
 "nbformat": 4,
 "nbformat_minor": 2
}
