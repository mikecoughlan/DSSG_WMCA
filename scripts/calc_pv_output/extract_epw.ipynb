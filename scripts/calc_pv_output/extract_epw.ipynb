{
 "cells": [
  {
   "cell_type": "code",
   "execution_count": 1,
   "metadata": {},
   "outputs": [
    {
     "name": "stderr",
     "output_type": "stream",
     "text": [
      "c:\\Users\\lilia\\AppData\\Local\\Programs\\Python\\Python39\\lib\\site-packages\\geopandas\\_compat.py:111: UserWarning: The Shapely GEOS version (3.10.2-CAPI-1.16.0) is incompatible with the GEOS version PyGEOS was compiled with (3.10.1-CAPI-1.16.0). Conversions between both will be slow.\n",
      "  warnings.warn(\n"
     ]
    }
   ],
   "source": [
    "import geopandas as gpd\n",
    "import numpy as np\n",
    "import pandas as pd\n",
    "import pvlib\n",
    "from pvlib.pvsystem import PVSystem, Array, FixedMount\n",
    "from pvlib.location import Location\n",
    "from pvlib.modelchain import ModelChain\n",
    "import time\n",
    "\n",
    "sandia_modules = pvlib.pvsystem.retrieve_sam('SandiaMod')\n",
    "sapm_inverters = pvlib.pvsystem.retrieve_sam('cecinverter')\n",
    "module = sandia_modules['Canadian_Solar_CS5P_220M___2009_']\n",
    "inverter = sapm_inverters['ABB__MICRO_0_25_I_OUTD_US_208__208V_']\n",
    "temperature_model_parameters = pvlib.temperature.TEMPERATURE_MODEL_PARAMETERS['sapm']['open_rack_glass_glass']"
   ]
  },
  {
   "cell_type": "code",
   "execution_count": 5,
   "metadata": {},
   "outputs": [],
   "source": [
    "def get_weather(lat, lng):\n",
    "    print('Getting weather...')\n",
    "    start = time.time()\n",
    "\n",
    "    weather = pvlib.iotools.get_pvgis_tmy(lat, lng,\n",
    "                                        map_variables=True)[0]\n",
    "    weather.index.name = \"utc_time\"\n",
    "    \n",
    "    end = time.time()\n",
    "    print(f'Completed getting weather in {end-start}s')\n",
    "    return weather"
   ]
  },
  {
   "cell_type": "code",
   "execution_count": 6,
   "metadata": {},
   "outputs": [],
   "source": [
    "def calculate_PV(db):\n",
    "    coordinates = list(zip(db['lat'], db['lng'], db['height_mean'], db['slope_mean'], db['aspect_mean'], db['shading_mean']))\n",
    "    timezone = 'Etc/GMT+1'\n",
    "\n",
    "    energies = []\n",
    "    for location in coordinates:\n",
    "        print('Calculating solar output...')\n",
    "        latitude, longitude, height, slope, aspect, shading = location\n",
    "        location = Location(\n",
    "            latitude,\n",
    "            longitude,\n",
    "            name='',\n",
    "            altitude=height,\n",
    "            tz=timezone,\n",
    "        )\n",
    "        mount = FixedMount(surface_tilt=slope, surface_azimuth=aspect)\n",
    "        array = Array(\n",
    "            mount=mount,\n",
    "            module_parameters=module,\n",
    "            temperature_model_parameters=temperature_model_parameters,\n",
    "        )\n",
    "        system = PVSystem(arrays=[array], inverter_parameters=inverter)\n",
    "        mc = ModelChain(system, location)\n",
    "        mc.run_model(weather)\n",
    "        annual_energy = mc.results.ac.sum()\n",
    "        energies.append(annual_energy * shading)\n",
    "\n",
    "        print(f\"Completed calculating PV output {end-start}s\")\n",
    "    \n",
    "    db['pv_output'] = energies\n",
    "    return db"
   ]
  },
  {
   "cell_type": "code",
   "execution_count": 7,
   "metadata": {},
   "outputs": [
    {
     "name": "stderr",
     "output_type": "stream",
     "text": [
      "C:\\Users\\lilia\\AppData\\Local\\Temp\\ipykernel_14896\\1394035029.py:3: UserWarning: Geometry is in a geographic CRS. Results from 'centroid' are likely incorrect. Use 'GeoSeries.to_crs()' to re-project geometries to a projected CRS before this operation.\n",
      "\n",
      "  db['lng'] = db.geometry.centroid.x\n",
      "C:\\Users\\lilia\\AppData\\Local\\Temp\\ipykernel_14896\\1394035029.py:4: UserWarning: Geometry is in a geographic CRS. Results from 'centroid' are likely incorrect. Use 'GeoSeries.to_crs()' to re-project geometries to a projected CRS before this operation.\n",
      "\n",
      "  db['lat'] = db.geometry.centroid.y\n"
     ]
    },
    {
     "data": {
      "text/html": [
       "<div>\n",
       "<style scoped>\n",
       "    .dataframe tbody tr th:only-of-type {\n",
       "        vertical-align: middle;\n",
       "    }\n",
       "\n",
       "    .dataframe tbody tr th {\n",
       "        vertical-align: top;\n",
       "    }\n",
       "\n",
       "    .dataframe thead th {\n",
       "        text-align: right;\n",
       "    }\n",
       "</style>\n",
       "<table border=\"1\" class=\"dataframe\">\n",
       "  <thead>\n",
       "    <tr style=\"text-align: right;\">\n",
       "      <th></th>\n",
       "      <th>gml_id</th>\n",
       "      <th>fid</th>\n",
       "      <th>slope</th>\n",
       "      <th>fid_2</th>\n",
       "      <th>aspect</th>\n",
       "      <th>slope_mean</th>\n",
       "      <th>aspect_mean</th>\n",
       "      <th>height_mean</th>\n",
       "      <th>shading_mean</th>\n",
       "      <th>AREA</th>\n",
       "      <th>geometry</th>\n",
       "      <th>lng</th>\n",
       "      <th>lat</th>\n",
       "    </tr>\n",
       "  </thead>\n",
       "  <tbody>\n",
       "    <tr>\n",
       "      <th>0</th>\n",
       "      <td>sp0585_DSM_1M.77</td>\n",
       "      <td>18</td>\n",
       "      <td>1</td>\n",
       "      <td>61</td>\n",
       "      <td>3</td>\n",
       "      <td>0.650338</td>\n",
       "      <td>181.044024</td>\n",
       "      <td>167.892334</td>\n",
       "      <td>0.916667</td>\n",
       "      <td>22.149597</td>\n",
       "      <td>MULTIPOLYGON (((-1.92678 52.47099, -1.92678 52...</td>\n",
       "      <td>-1.926724</td>\n",
       "      <td>52.470977</td>\n",
       "    </tr>\n",
       "  </tbody>\n",
       "</table>\n",
       "</div>"
      ],
      "text/plain": [
       "             gml_id  fid  slope  fid_2  aspect  slope_mean  aspect_mean  \\\n",
       "0  sp0585_DSM_1M.77   18      1     61       3    0.650338   181.044024   \n",
       "\n",
       "   height_mean  shading_mean       AREA  \\\n",
       "0   167.892334      0.916667  22.149597   \n",
       "\n",
       "                                            geometry       lng        lat  \n",
       "0  MULTIPOLYGON (((-1.92678 52.47099, -1.92678 52... -1.926724  52.470977  "
      ]
     },
     "execution_count": 7,
     "metadata": {},
     "output_type": "execute_result"
    }
   ],
   "source": [
    "db = gpd.read_file('output/sp0585_DSM_1M.gml', driver='GML')\n",
    "db = db.to_crs(4326)\n",
    "db['lng'] = db.geometry.centroid.x\n",
    "db['lat'] = db.geometry.centroid.y\n",
    "# db['pv_output'] = calculate_PV(db)\n",
    "db.head()"
   ]
  },
  {
   "cell_type": "code",
   "execution_count": 8,
   "metadata": {},
   "outputs": [
    {
     "name": "stderr",
     "output_type": "stream",
     "text": [
      "C:\\Users\\lilia\\AppData\\Local\\Temp\\ipykernel_14896\\3002544429.py:3: UserWarning: Geometry is in a geographic CRS. Results from 'centroid' are likely incorrect. Use 'GeoSeries.to_crs()' to re-project geometries to a projected CRS before this operation.\n",
      "\n",
      "  db['lng'] = db.geometry.centroid.x\n",
      "C:\\Users\\lilia\\AppData\\Local\\Temp\\ipykernel_14896\\3002544429.py:4: UserWarning: Geometry is in a geographic CRS. Results from 'centroid' are likely incorrect. Use 'GeoSeries.to_crs()' to re-project geometries to a projected CRS before this operation.\n",
      "\n",
      "  db['lat'] = db.geometry.centroid.y\n"
     ]
    },
    {
     "name": "stdout",
     "output_type": "stream",
     "text": [
      "Adding columns...\n",
      "Completed adding columns in 0.0249326229095459s\n",
      "Getting weather...\n",
      "Completed getting weather in 3.029014825820923s\n"
     ]
    }
   ],
   "source": [
    "db = gpd.read_file('output_osmp/SJ9000.gml', driver='GML')\n",
    "db = db.to_crs(4326)\n",
    "db['lng'] = db.geometry.centroid.x\n",
    "db['lat'] = db.geometry.centroid.y\n",
    "db.rename(columns={'AbsHMax':'height_mean'}, inplace=True)\n",
    "\n",
    "print('Adding columns...')\n",
    "start = time.time()\n",
    "if 'slope_mean' not in db:\n",
    "    db['slope_mean'] = [0] * len(db)\n",
    "if 'aspect_mean' not in db:\n",
    "    db['aspect_mean'] = [180] * len(db)\n",
    "end = time.time()\n",
    "print(f'Completed adding columns in {end-start}s')\n",
    "\n",
    "latitude = db['lat'].mean()\n",
    "longitude = db['lng'].mean()\n",
    "weather = get_weather(latitude, longitude)"
   ]
  },
  {
   "cell_type": "code",
   "execution_count": 10,
   "metadata": {},
   "outputs": [
    {
     "data": {
      "text/plain": [
       "Index(['gml_id', 'fid', 'featureCode', 'versionDate', 'calculatedAreaValue',\n",
       "       'RelH2', 'RelHMax', 'AbsHMin', 'height_mean', 'AbsH2', 'lastUpdateDate',\n",
       "       'entryDate', 'uprn', 'country', 'multiOccCount', 'buildingNumber',\n",
       "       'thoroughfare', 'postTown', 'postcode', 'level', 'shading_mean',\n",
       "       'geometry', 'lng', 'lat', 'slope_mean', 'aspect_mean'],\n",
       "      dtype='object')"
      ]
     },
     "execution_count": 10,
     "metadata": {},
     "output_type": "execute_result"
    }
   ],
   "source": [
    "db.columns"
   ]
  },
  {
   "cell_type": "code",
   "execution_count": 105,
   "metadata": {},
   "outputs": [
    {
     "name": "stdout",
     "output_type": "stream",
     "text": [
      "Begin batch...\n"
     ]
    }
   ],
   "source": [
    "print('Begin batch...')\n",
    "start =time.time()\n",
    "\n",
    "import multiprocessing as mp\n",
    "# from pathos.pools import ParallelPool as Pool\n",
    "from pathos.pools import ParallelPool as Pool\n",
    "\n",
    "cores = mp.cpu_count()\n",
    "\n",
    "df_split = np.array_split(db, cores, axis=0)\n",
    "\n",
    "# create the multiprocessing pool\n",
    "pool = Pool(cores)\n",
    "\n",
    "# process the DataFrame by mapping function to each df across the pool\n",
    "db_out = np.vstack(pool.map(calculate_PV, df_split))\n",
    "\n",
    "# close down the pool and join\n",
    "pool.close()\n",
    "pool.join()\n",
    "pool.clear()\n",
    "\n",
    "end = time.time()\n",
    "print(f\"Completed batch in {end-start}s\")\n",
    "\n",
    "db_out.head()"
   ]
  },
  {
   "cell_type": "code",
   "execution_count": 40,
   "metadata": {},
   "outputs": [
    {
     "name": "stdout",
     "output_type": "stream",
     "text": [
      "Calcuating PV output...\n",
      "Completed calculating PV output in 890.1219239234924s\n",
      "Calcuating PV output...\n",
      "Completed calculating PV output in 870.1520748138428s\n",
      "Calcuating PV output...\n",
      "Completed calculating PV output in 890.803005695343s\n",
      "Calcuating PV output...\n",
      "Completed calculating PV output in 843.7936589717865s\n",
      "Calcuating PV output...\n",
      "Completed calculating PV output in 917.1566498279572s\n",
      "Calcuating PV output...\n",
      "Completed calculating PV output in 889.4253227710724s\n",
      "Calcuating PV output...\n",
      "Completed calculating PV output in 854.667886018753s\n",
      "Calcuating PV output...\n",
      "Completed calculating PV output in 887.2818069458008s\n",
      "Calcuating PV output...\n",
      "Completed calculating PV output in 872.7420446872711s\n",
      "Calcuating PV output...\n",
      "Completed calculating PV output in 849.3490014076233s\n",
      "Calcuating PV output...\n",
      "Completed calculating PV output in 848.4422409534454s\n",
      "Calcuating PV output...\n",
      "Completed calculating PV output in 866.8500733375549s\n",
      "Calcuating PV output...\n",
      "Completed calculating PV output in 857.663083076477s\n",
      "Calcuating PV output...\n",
      "Completed calculating PV output in 866.3250424861908s\n",
      "Calcuating PV output...\n",
      "Completed calculating PV output in 838.0720760822296s\n",
      "Calcuating PV output...\n",
      "Completed calculating PV output in 878.4488017559052s\n",
      "Calcuating PV output...\n",
      "Completed calculating PV output in 875.027791261673s\n",
      "Calcuating PV output...\n",
      "Completed calculating PV output in 896.0318360328674s\n",
      "Calcuating PV output...\n",
      "Completed calculating PV output in 892.9515459537506s\n",
      "Calcuating PV output...\n",
      "Completed calculating PV output in 931.7644808292389s\n",
      "Calcuating PV output...\n",
      "Completed calculating PV output in 875.1894102096558s\n",
      "Calcuating PV output...\n",
      "Completed calculating PV output in 859.9842576980591s\n",
      "Calcuating PV output...\n",
      "Completed calculating PV output in 852.9857602119446s\n",
      "Calcuating PV output...\n",
      "Completed calculating PV output in 846.1333093643188s\n",
      "Calcuating PV output...\n",
      "Completed calculating PV output in 849.8963692188263s\n",
      "Calcuating PV output...\n",
      "Completed calculating PV output in 856.6133835315704s\n",
      "Calcuating PV output...\n",
      "Completed calculating PV output in 845.2126805782318s\n",
      "Calcuating PV output...\n",
      "Completed calculating PV output in 855.7651987075806s\n",
      "Calcuating PV output...\n",
      "Completed calculating PV output in 806.2583372592926s\n",
      "Calcuating PV output...\n"
     ]
    },
    {
     "ename": "KeyboardInterrupt",
     "evalue": "",
     "output_type": "error",
     "traceback": [
      "\u001b[1;31m---------------------------------------------------------------------------\u001b[0m",
      "\u001b[1;31mKeyboardInterrupt\u001b[0m                         Traceback (most recent call last)",
      "\u001b[1;32mc:\\Users\\lilia\\Documents\\GitHub\\WMCA\\scripts\\extract_epw.ipynb Cell 5\u001b[0m in \u001b[0;36m<cell line: 4>\u001b[1;34m()\u001b[0m\n\u001b[0;32m      <a href='vscode-notebook-cell:/c%3A/Users/lilia/Documents/GitHub/WMCA/scripts/extract_epw.ipynb#ch0000031?line=1'>2</a>\u001b[0m joined_db \u001b[39m=\u001b[39m gpd\u001b[39m.\u001b[39mGeoDataFrame(columns \u001b[39m=\u001b[39m db\u001b[39m.\u001b[39mcolumns, geometry\u001b[39m=\u001b[39m\u001b[39m'\u001b[39m\u001b[39mgeometry\u001b[39m\u001b[39m'\u001b[39m)\n\u001b[0;32m      <a href='vscode-notebook-cell:/c%3A/Users/lilia/Documents/GitHub/WMCA/scripts/extract_epw.ipynb#ch0000031?line=3'>4</a>\u001b[0m \u001b[39mfor\u001b[39;00m df \u001b[39min\u001b[39;00m split_db:\n\u001b[1;32m----> <a href='vscode-notebook-cell:/c%3A/Users/lilia/Documents/GitHub/WMCA/scripts/extract_epw.ipynb#ch0000031?line=4'>5</a>\u001b[0m     df[\u001b[39m'\u001b[39m\u001b[39mpv_output\u001b[39m\u001b[39m'\u001b[39m] \u001b[39m=\u001b[39m calculate_PV(df)\n\u001b[0;32m      <a href='vscode-notebook-cell:/c%3A/Users/lilia/Documents/GitHub/WMCA/scripts/extract_epw.ipynb#ch0000031?line=5'>6</a>\u001b[0m     joined_db \u001b[39m=\u001b[39m gpd\u001b[39m.\u001b[39mGeoDataFrame(pd\u001b[39m.\u001b[39mconcat([joined_db, df], ignore_index\u001b[39m=\u001b[39m\u001b[39mTrue\u001b[39;00m))\n",
      "\u001b[1;32mc:\\Users\\lilia\\Documents\\GitHub\\WMCA\\scripts\\extract_epw.ipynb Cell 5\u001b[0m in \u001b[0;36mcalculate_PV\u001b[1;34m(db)\u001b[0m\n\u001b[0;32m     <a href='vscode-notebook-cell:/c%3A/Users/lilia/Documents/GitHub/WMCA/scripts/extract_epw.ipynb#ch0000031?line=17'>18</a>\u001b[0m \u001b[39mfor\u001b[39;00m location \u001b[39min\u001b[39;00m coordinates:\n\u001b[0;32m     <a href='vscode-notebook-cell:/c%3A/Users/lilia/Documents/GitHub/WMCA/scripts/extract_epw.ipynb#ch0000031?line=18'>19</a>\u001b[0m     latitude, longitude, height, slope, aspect, shading \u001b[39m=\u001b[39m location\n\u001b[1;32m---> <a href='vscode-notebook-cell:/c%3A/Users/lilia/Documents/GitHub/WMCA/scripts/extract_epw.ipynb#ch0000031?line=19'>20</a>\u001b[0m     weather \u001b[39m=\u001b[39m pvlib\u001b[39m.\u001b[39;49miotools\u001b[39m.\u001b[39;49mget_pvgis_tmy(latitude, longitude,\n\u001b[0;32m     <a href='vscode-notebook-cell:/c%3A/Users/lilia/Documents/GitHub/WMCA/scripts/extract_epw.ipynb#ch0000031?line=20'>21</a>\u001b[0m                                         map_variables\u001b[39m=\u001b[39;49m\u001b[39mTrue\u001b[39;49;00m)[\u001b[39m0\u001b[39m]\n\u001b[0;32m     <a href='vscode-notebook-cell:/c%3A/Users/lilia/Documents/GitHub/WMCA/scripts/extract_epw.ipynb#ch0000031?line=21'>22</a>\u001b[0m     weather\u001b[39m.\u001b[39mindex\u001b[39m.\u001b[39mname \u001b[39m=\u001b[39m \u001b[39m\"\u001b[39m\u001b[39mutc_time\u001b[39m\u001b[39m\"\u001b[39m\n\u001b[0;32m     <a href='vscode-notebook-cell:/c%3A/Users/lilia/Documents/GitHub/WMCA/scripts/extract_epw.ipynb#ch0000031?line=22'>23</a>\u001b[0m     tmys\u001b[39m.\u001b[39mappend(weather)\n",
      "File \u001b[1;32mc:\\Users\\lilia\\AppData\\Local\\Programs\\Python\\Python39\\lib\\site-packages\\pvlib\\iotools\\pvgis.py:455\u001b[0m, in \u001b[0;36mget_pvgis_tmy\u001b[1;34m(latitude, longitude, outputformat, usehorizon, userhorizon, startyear, endyear, url, map_variables, timeout)\u001b[0m\n\u001b[0;32m    453\u001b[0m \u001b[39mif\u001b[39;00m endyear \u001b[39mis\u001b[39;00m \u001b[39mnot\u001b[39;00m \u001b[39mNone\u001b[39;00m:\n\u001b[0;32m    454\u001b[0m     params[\u001b[39m'\u001b[39m\u001b[39mendyear\u001b[39m\u001b[39m'\u001b[39m] \u001b[39m=\u001b[39m endyear\n\u001b[1;32m--> 455\u001b[0m res \u001b[39m=\u001b[39m requests\u001b[39m.\u001b[39;49mget(url \u001b[39m+\u001b[39;49m \u001b[39m'\u001b[39;49m\u001b[39mtmy\u001b[39;49m\u001b[39m'\u001b[39;49m, params\u001b[39m=\u001b[39;49mparams, timeout\u001b[39m=\u001b[39;49mtimeout)\n\u001b[0;32m    456\u001b[0m \u001b[39m# PVGIS returns really well formatted error messages in JSON for HTTP/1.1\u001b[39;00m\n\u001b[0;32m    457\u001b[0m \u001b[39m# 400 BAD REQUEST so try to return that if possible, otherwise raise the\u001b[39;00m\n\u001b[0;32m    458\u001b[0m \u001b[39m# HTTP/1.1 error caught by requests\u001b[39;00m\n\u001b[0;32m    459\u001b[0m \u001b[39mif\u001b[39;00m \u001b[39mnot\u001b[39;00m res\u001b[39m.\u001b[39mok:\n",
      "File \u001b[1;32mc:\\Users\\lilia\\AppData\\Local\\Programs\\Python\\Python39\\lib\\site-packages\\requests\\api.py:76\u001b[0m, in \u001b[0;36mget\u001b[1;34m(url, params, **kwargs)\u001b[0m\n\u001b[0;32m     65\u001b[0m \u001b[39mr\u001b[39m\u001b[39m\"\"\"Sends a GET request.\u001b[39;00m\n\u001b[0;32m     66\u001b[0m \n\u001b[0;32m     67\u001b[0m \u001b[39m:param url: URL for the new :class:`Request` object.\u001b[39;00m\n\u001b[1;32m   (...)\u001b[0m\n\u001b[0;32m     72\u001b[0m \u001b[39m:rtype: requests.Response\u001b[39;00m\n\u001b[0;32m     73\u001b[0m \u001b[39m\"\"\"\u001b[39;00m\n\u001b[0;32m     75\u001b[0m kwargs\u001b[39m.\u001b[39msetdefault(\u001b[39m'\u001b[39m\u001b[39mallow_redirects\u001b[39m\u001b[39m'\u001b[39m, \u001b[39mTrue\u001b[39;00m)\n\u001b[1;32m---> 76\u001b[0m \u001b[39mreturn\u001b[39;00m request(\u001b[39m'\u001b[39m\u001b[39mget\u001b[39m\u001b[39m'\u001b[39m, url, params\u001b[39m=\u001b[39mparams, \u001b[39m*\u001b[39m\u001b[39m*\u001b[39mkwargs)\n",
      "File \u001b[1;32mc:\\Users\\lilia\\AppData\\Local\\Programs\\Python\\Python39\\lib\\site-packages\\requests\\api.py:61\u001b[0m, in \u001b[0;36mrequest\u001b[1;34m(method, url, **kwargs)\u001b[0m\n\u001b[0;32m     57\u001b[0m \u001b[39m# By using the 'with' statement we are sure the session is closed, thus we\u001b[39;00m\n\u001b[0;32m     58\u001b[0m \u001b[39m# avoid leaving sockets open which can trigger a ResourceWarning in some\u001b[39;00m\n\u001b[0;32m     59\u001b[0m \u001b[39m# cases, and look like a memory leak in others.\u001b[39;00m\n\u001b[0;32m     60\u001b[0m \u001b[39mwith\u001b[39;00m sessions\u001b[39m.\u001b[39mSession() \u001b[39mas\u001b[39;00m session:\n\u001b[1;32m---> 61\u001b[0m     \u001b[39mreturn\u001b[39;00m session\u001b[39m.\u001b[39mrequest(method\u001b[39m=\u001b[39mmethod, url\u001b[39m=\u001b[39murl, \u001b[39m*\u001b[39m\u001b[39m*\u001b[39mkwargs)\n",
      "File \u001b[1;32mc:\\Users\\lilia\\AppData\\Local\\Programs\\Python\\Python39\\lib\\site-packages\\requests\\sessions.py:542\u001b[0m, in \u001b[0;36mSession.request\u001b[1;34m(self, method, url, params, data, headers, cookies, files, auth, timeout, allow_redirects, proxies, hooks, stream, verify, cert, json)\u001b[0m\n\u001b[0;32m    537\u001b[0m send_kwargs \u001b[39m=\u001b[39m {\n\u001b[0;32m    538\u001b[0m     \u001b[39m'\u001b[39m\u001b[39mtimeout\u001b[39m\u001b[39m'\u001b[39m: timeout,\n\u001b[0;32m    539\u001b[0m     \u001b[39m'\u001b[39m\u001b[39mallow_redirects\u001b[39m\u001b[39m'\u001b[39m: allow_redirects,\n\u001b[0;32m    540\u001b[0m }\n\u001b[0;32m    541\u001b[0m send_kwargs\u001b[39m.\u001b[39mupdate(settings)\n\u001b[1;32m--> 542\u001b[0m resp \u001b[39m=\u001b[39m \u001b[39mself\u001b[39m\u001b[39m.\u001b[39msend(prep, \u001b[39m*\u001b[39m\u001b[39m*\u001b[39msend_kwargs)\n\u001b[0;32m    544\u001b[0m \u001b[39mreturn\u001b[39;00m resp\n",
      "File \u001b[1;32mc:\\Users\\lilia\\AppData\\Local\\Programs\\Python\\Python39\\lib\\site-packages\\requests\\sessions.py:655\u001b[0m, in \u001b[0;36mSession.send\u001b[1;34m(self, request, **kwargs)\u001b[0m\n\u001b[0;32m    652\u001b[0m start \u001b[39m=\u001b[39m preferred_clock()\n\u001b[0;32m    654\u001b[0m \u001b[39m# Send the request\u001b[39;00m\n\u001b[1;32m--> 655\u001b[0m r \u001b[39m=\u001b[39m adapter\u001b[39m.\u001b[39msend(request, \u001b[39m*\u001b[39m\u001b[39m*\u001b[39mkwargs)\n\u001b[0;32m    657\u001b[0m \u001b[39m# Total elapsed time of the request (approximately)\u001b[39;00m\n\u001b[0;32m    658\u001b[0m elapsed \u001b[39m=\u001b[39m preferred_clock() \u001b[39m-\u001b[39m start\n",
      "File \u001b[1;32mc:\\Users\\lilia\\AppData\\Local\\Programs\\Python\\Python39\\lib\\site-packages\\requests\\adapters.py:439\u001b[0m, in \u001b[0;36mHTTPAdapter.send\u001b[1;34m(self, request, stream, timeout, verify, cert, proxies)\u001b[0m\n\u001b[0;32m    437\u001b[0m \u001b[39mtry\u001b[39;00m:\n\u001b[0;32m    438\u001b[0m     \u001b[39mif\u001b[39;00m \u001b[39mnot\u001b[39;00m chunked:\n\u001b[1;32m--> 439\u001b[0m         resp \u001b[39m=\u001b[39m conn\u001b[39m.\u001b[39;49murlopen(\n\u001b[0;32m    440\u001b[0m             method\u001b[39m=\u001b[39;49mrequest\u001b[39m.\u001b[39;49mmethod,\n\u001b[0;32m    441\u001b[0m             url\u001b[39m=\u001b[39;49murl,\n\u001b[0;32m    442\u001b[0m             body\u001b[39m=\u001b[39;49mrequest\u001b[39m.\u001b[39;49mbody,\n\u001b[0;32m    443\u001b[0m             headers\u001b[39m=\u001b[39;49mrequest\u001b[39m.\u001b[39;49mheaders,\n\u001b[0;32m    444\u001b[0m             redirect\u001b[39m=\u001b[39;49m\u001b[39mFalse\u001b[39;49;00m,\n\u001b[0;32m    445\u001b[0m             assert_same_host\u001b[39m=\u001b[39;49m\u001b[39mFalse\u001b[39;49;00m,\n\u001b[0;32m    446\u001b[0m             preload_content\u001b[39m=\u001b[39;49m\u001b[39mFalse\u001b[39;49;00m,\n\u001b[0;32m    447\u001b[0m             decode_content\u001b[39m=\u001b[39;49m\u001b[39mFalse\u001b[39;49;00m,\n\u001b[0;32m    448\u001b[0m             retries\u001b[39m=\u001b[39;49m\u001b[39mself\u001b[39;49m\u001b[39m.\u001b[39;49mmax_retries,\n\u001b[0;32m    449\u001b[0m             timeout\u001b[39m=\u001b[39;49mtimeout\n\u001b[0;32m    450\u001b[0m         )\n\u001b[0;32m    452\u001b[0m     \u001b[39m# Send the request.\u001b[39;00m\n\u001b[0;32m    453\u001b[0m     \u001b[39melse\u001b[39;00m:\n\u001b[0;32m    454\u001b[0m         \u001b[39mif\u001b[39;00m \u001b[39mhasattr\u001b[39m(conn, \u001b[39m'\u001b[39m\u001b[39mproxy_pool\u001b[39m\u001b[39m'\u001b[39m):\n",
      "File \u001b[1;32mc:\\Users\\lilia\\AppData\\Local\\Programs\\Python\\Python39\\lib\\site-packages\\urllib3\\connectionpool.py:699\u001b[0m, in \u001b[0;36mHTTPConnectionPool.urlopen\u001b[1;34m(self, method, url, body, headers, retries, redirect, assert_same_host, timeout, pool_timeout, release_conn, chunked, body_pos, **response_kw)\u001b[0m\n\u001b[0;32m    696\u001b[0m     \u001b[39mself\u001b[39m\u001b[39m.\u001b[39m_prepare_proxy(conn)\n\u001b[0;32m    698\u001b[0m \u001b[39m# Make the request on the httplib connection object.\u001b[39;00m\n\u001b[1;32m--> 699\u001b[0m httplib_response \u001b[39m=\u001b[39m \u001b[39mself\u001b[39;49m\u001b[39m.\u001b[39;49m_make_request(\n\u001b[0;32m    700\u001b[0m     conn,\n\u001b[0;32m    701\u001b[0m     method,\n\u001b[0;32m    702\u001b[0m     url,\n\u001b[0;32m    703\u001b[0m     timeout\u001b[39m=\u001b[39;49mtimeout_obj,\n\u001b[0;32m    704\u001b[0m     body\u001b[39m=\u001b[39;49mbody,\n\u001b[0;32m    705\u001b[0m     headers\u001b[39m=\u001b[39;49mheaders,\n\u001b[0;32m    706\u001b[0m     chunked\u001b[39m=\u001b[39;49mchunked,\n\u001b[0;32m    707\u001b[0m )\n\u001b[0;32m    709\u001b[0m \u001b[39m# If we're going to release the connection in ``finally:``, then\u001b[39;00m\n\u001b[0;32m    710\u001b[0m \u001b[39m# the response doesn't need to know about the connection. Otherwise\u001b[39;00m\n\u001b[0;32m    711\u001b[0m \u001b[39m# it will also try to release it and we'll have a double-release\u001b[39;00m\n\u001b[0;32m    712\u001b[0m \u001b[39m# mess.\u001b[39;00m\n\u001b[0;32m    713\u001b[0m response_conn \u001b[39m=\u001b[39m conn \u001b[39mif\u001b[39;00m \u001b[39mnot\u001b[39;00m release_conn \u001b[39melse\u001b[39;00m \u001b[39mNone\u001b[39;00m\n",
      "File \u001b[1;32mc:\\Users\\lilia\\AppData\\Local\\Programs\\Python\\Python39\\lib\\site-packages\\urllib3\\connectionpool.py:445\u001b[0m, in \u001b[0;36mHTTPConnectionPool._make_request\u001b[1;34m(self, conn, method, url, timeout, chunked, **httplib_request_kw)\u001b[0m\n\u001b[0;32m    440\u001b[0m             httplib_response \u001b[39m=\u001b[39m conn\u001b[39m.\u001b[39mgetresponse()\n\u001b[0;32m    441\u001b[0m         \u001b[39mexcept\u001b[39;00m \u001b[39mBaseException\u001b[39;00m \u001b[39mas\u001b[39;00m e:\n\u001b[0;32m    442\u001b[0m             \u001b[39m# Remove the TypeError from the exception chain in\u001b[39;00m\n\u001b[0;32m    443\u001b[0m             \u001b[39m# Python 3 (including for exceptions like SystemExit).\u001b[39;00m\n\u001b[0;32m    444\u001b[0m             \u001b[39m# Otherwise it looks like a bug in the code.\u001b[39;00m\n\u001b[1;32m--> 445\u001b[0m             six\u001b[39m.\u001b[39;49mraise_from(e, \u001b[39mNone\u001b[39;49;00m)\n\u001b[0;32m    446\u001b[0m \u001b[39mexcept\u001b[39;00m (SocketTimeout, BaseSSLError, SocketError) \u001b[39mas\u001b[39;00m e:\n\u001b[0;32m    447\u001b[0m     \u001b[39mself\u001b[39m\u001b[39m.\u001b[39m_raise_timeout(err\u001b[39m=\u001b[39me, url\u001b[39m=\u001b[39murl, timeout_value\u001b[39m=\u001b[39mread_timeout)\n",
      "File \u001b[1;32m<string>:3\u001b[0m, in \u001b[0;36mraise_from\u001b[1;34m(value, from_value)\u001b[0m\n",
      "File \u001b[1;32mc:\\Users\\lilia\\AppData\\Local\\Programs\\Python\\Python39\\lib\\site-packages\\urllib3\\connectionpool.py:440\u001b[0m, in \u001b[0;36mHTTPConnectionPool._make_request\u001b[1;34m(self, conn, method, url, timeout, chunked, **httplib_request_kw)\u001b[0m\n\u001b[0;32m    437\u001b[0m \u001b[39mexcept\u001b[39;00m \u001b[39mTypeError\u001b[39;00m:\n\u001b[0;32m    438\u001b[0m     \u001b[39m# Python 3\u001b[39;00m\n\u001b[0;32m    439\u001b[0m     \u001b[39mtry\u001b[39;00m:\n\u001b[1;32m--> 440\u001b[0m         httplib_response \u001b[39m=\u001b[39m conn\u001b[39m.\u001b[39;49mgetresponse()\n\u001b[0;32m    441\u001b[0m     \u001b[39mexcept\u001b[39;00m \u001b[39mBaseException\u001b[39;00m \u001b[39mas\u001b[39;00m e:\n\u001b[0;32m    442\u001b[0m         \u001b[39m# Remove the TypeError from the exception chain in\u001b[39;00m\n\u001b[0;32m    443\u001b[0m         \u001b[39m# Python 3 (including for exceptions like SystemExit).\u001b[39;00m\n\u001b[0;32m    444\u001b[0m         \u001b[39m# Otherwise it looks like a bug in the code.\u001b[39;00m\n\u001b[0;32m    445\u001b[0m         six\u001b[39m.\u001b[39mraise_from(e, \u001b[39mNone\u001b[39;00m)\n",
      "File \u001b[1;32mc:\\Users\\lilia\\AppData\\Local\\Programs\\Python\\Python39\\lib\\http\\client.py:1345\u001b[0m, in \u001b[0;36mHTTPConnection.getresponse\u001b[1;34m(self)\u001b[0m\n\u001b[0;32m   1343\u001b[0m \u001b[39mtry\u001b[39;00m:\n\u001b[0;32m   1344\u001b[0m     \u001b[39mtry\u001b[39;00m:\n\u001b[1;32m-> 1345\u001b[0m         response\u001b[39m.\u001b[39;49mbegin()\n\u001b[0;32m   1346\u001b[0m     \u001b[39mexcept\u001b[39;00m \u001b[39mConnectionError\u001b[39;00m:\n\u001b[0;32m   1347\u001b[0m         \u001b[39mself\u001b[39m\u001b[39m.\u001b[39mclose()\n",
      "File \u001b[1;32mc:\\Users\\lilia\\AppData\\Local\\Programs\\Python\\Python39\\lib\\http\\client.py:307\u001b[0m, in \u001b[0;36mHTTPResponse.begin\u001b[1;34m(self)\u001b[0m\n\u001b[0;32m    305\u001b[0m \u001b[39m# read until we get a non-100 response\u001b[39;00m\n\u001b[0;32m    306\u001b[0m \u001b[39mwhile\u001b[39;00m \u001b[39mTrue\u001b[39;00m:\n\u001b[1;32m--> 307\u001b[0m     version, status, reason \u001b[39m=\u001b[39m \u001b[39mself\u001b[39;49m\u001b[39m.\u001b[39;49m_read_status()\n\u001b[0;32m    308\u001b[0m     \u001b[39mif\u001b[39;00m status \u001b[39m!=\u001b[39m CONTINUE:\n\u001b[0;32m    309\u001b[0m         \u001b[39mbreak\u001b[39;00m\n",
      "File \u001b[1;32mc:\\Users\\lilia\\AppData\\Local\\Programs\\Python\\Python39\\lib\\http\\client.py:268\u001b[0m, in \u001b[0;36mHTTPResponse._read_status\u001b[1;34m(self)\u001b[0m\n\u001b[0;32m    267\u001b[0m \u001b[39mdef\u001b[39;00m \u001b[39m_read_status\u001b[39m(\u001b[39mself\u001b[39m):\n\u001b[1;32m--> 268\u001b[0m     line \u001b[39m=\u001b[39m \u001b[39mstr\u001b[39m(\u001b[39mself\u001b[39;49m\u001b[39m.\u001b[39;49mfp\u001b[39m.\u001b[39;49mreadline(_MAXLINE \u001b[39m+\u001b[39;49m \u001b[39m1\u001b[39;49m), \u001b[39m\"\u001b[39m\u001b[39miso-8859-1\u001b[39m\u001b[39m\"\u001b[39m)\n\u001b[0;32m    269\u001b[0m     \u001b[39mif\u001b[39;00m \u001b[39mlen\u001b[39m(line) \u001b[39m>\u001b[39m _MAXLINE:\n\u001b[0;32m    270\u001b[0m         \u001b[39mraise\u001b[39;00m LineTooLong(\u001b[39m\"\u001b[39m\u001b[39mstatus line\u001b[39m\u001b[39m\"\u001b[39m)\n",
      "File \u001b[1;32mc:\\Users\\lilia\\AppData\\Local\\Programs\\Python\\Python39\\lib\\socket.py:704\u001b[0m, in \u001b[0;36mSocketIO.readinto\u001b[1;34m(self, b)\u001b[0m\n\u001b[0;32m    702\u001b[0m \u001b[39mwhile\u001b[39;00m \u001b[39mTrue\u001b[39;00m:\n\u001b[0;32m    703\u001b[0m     \u001b[39mtry\u001b[39;00m:\n\u001b[1;32m--> 704\u001b[0m         \u001b[39mreturn\u001b[39;00m \u001b[39mself\u001b[39;49m\u001b[39m.\u001b[39;49m_sock\u001b[39m.\u001b[39;49mrecv_into(b)\n\u001b[0;32m    705\u001b[0m     \u001b[39mexcept\u001b[39;00m timeout:\n\u001b[0;32m    706\u001b[0m         \u001b[39mself\u001b[39m\u001b[39m.\u001b[39m_timeout_occurred \u001b[39m=\u001b[39m \u001b[39mTrue\u001b[39;00m\n",
      "File \u001b[1;32mc:\\Users\\lilia\\AppData\\Local\\Programs\\Python\\Python39\\lib\\ssl.py:1241\u001b[0m, in \u001b[0;36mSSLSocket.recv_into\u001b[1;34m(self, buffer, nbytes, flags)\u001b[0m\n\u001b[0;32m   1237\u001b[0m     \u001b[39mif\u001b[39;00m flags \u001b[39m!=\u001b[39m \u001b[39m0\u001b[39m:\n\u001b[0;32m   1238\u001b[0m         \u001b[39mraise\u001b[39;00m \u001b[39mValueError\u001b[39;00m(\n\u001b[0;32m   1239\u001b[0m           \u001b[39m\"\u001b[39m\u001b[39mnon-zero flags not allowed in calls to recv_into() on \u001b[39m\u001b[39m%s\u001b[39;00m\u001b[39m\"\u001b[39m \u001b[39m%\u001b[39m\n\u001b[0;32m   1240\u001b[0m           \u001b[39mself\u001b[39m\u001b[39m.\u001b[39m\u001b[39m__class__\u001b[39m)\n\u001b[1;32m-> 1241\u001b[0m     \u001b[39mreturn\u001b[39;00m \u001b[39mself\u001b[39;49m\u001b[39m.\u001b[39;49mread(nbytes, buffer)\n\u001b[0;32m   1242\u001b[0m \u001b[39melse\u001b[39;00m:\n\u001b[0;32m   1243\u001b[0m     \u001b[39mreturn\u001b[39;00m \u001b[39msuper\u001b[39m()\u001b[39m.\u001b[39mrecv_into(buffer, nbytes, flags)\n",
      "File \u001b[1;32mc:\\Users\\lilia\\AppData\\Local\\Programs\\Python\\Python39\\lib\\ssl.py:1099\u001b[0m, in \u001b[0;36mSSLSocket.read\u001b[1;34m(self, len, buffer)\u001b[0m\n\u001b[0;32m   1097\u001b[0m \u001b[39mtry\u001b[39;00m:\n\u001b[0;32m   1098\u001b[0m     \u001b[39mif\u001b[39;00m buffer \u001b[39mis\u001b[39;00m \u001b[39mnot\u001b[39;00m \u001b[39mNone\u001b[39;00m:\n\u001b[1;32m-> 1099\u001b[0m         \u001b[39mreturn\u001b[39;00m \u001b[39mself\u001b[39;49m\u001b[39m.\u001b[39;49m_sslobj\u001b[39m.\u001b[39;49mread(\u001b[39mlen\u001b[39;49m, buffer)\n\u001b[0;32m   1100\u001b[0m     \u001b[39melse\u001b[39;00m:\n\u001b[0;32m   1101\u001b[0m         \u001b[39mreturn\u001b[39;00m \u001b[39mself\u001b[39m\u001b[39m.\u001b[39m_sslobj\u001b[39m.\u001b[39mread(\u001b[39mlen\u001b[39m)\n",
      "\u001b[1;31mKeyboardInterrupt\u001b[0m: "
     ]
    }
   ],
   "source": [
    "split_db = np.array_split(db, 50)\n",
    "joined_db = gpd.GeoDataFrame(columns = db.columns, geometry='geometry')\n",
    "\n",
    "for df in split_db:\n",
    "    df['pv_output'] = calculate_PV(df)\n",
    "    joined_db = gpd.GeoDataFrame(pd.concat([joined_db, df], ignore_index=True))"
   ]
  },
  {
   "cell_type": "code",
   "execution_count": 41,
   "metadata": {},
   "outputs": [
    {
     "name": "stderr",
     "output_type": "stream",
     "text": [
      "c:\\Users\\lilia\\AppData\\Local\\Programs\\Python\\Python39\\lib\\site-packages\\geopandas\\io\\file.py:362: FutureWarning: pandas.Int64Index is deprecated and will be removed from pandas in a future version. Use pandas.Index with the appropriate dtype instead.\n",
      "  pd.Int64Index,\n"
     ]
    }
   ],
   "source": [
    "joined_db.to_file('output_osmp/SJ9000_results.gml', driver='GML')"
   ]
  },
  {
   "cell_type": "code",
   "execution_count": 67,
   "metadata": {},
   "outputs": [
    {
     "name": "stdout",
     "output_type": "stream",
     "text": [
      "Calcuating PV output...\n",
      "Calculating solar output...\n",
      "Completed calculating PV output in 52.742833375930786s\n",
      "Calcuating PV output...\n",
      "Calculating solar output...\n",
      "Completed calculating PV output in 50.5772647857666s\n",
      "Calcuating PV output...\n",
      "Calculating solar output...\n",
      "Completed calculating PV output in 52.73547053337097s\n",
      "Calcuating PV output...\n",
      "Calculating solar output...\n",
      "Completed calculating PV output in 56.75181603431702s\n",
      "Calcuating PV output...\n",
      "Calculating solar output...\n",
      "Completed calculating PV output in 46.74575877189636s\n",
      "Calcuating PV output...\n",
      "Calculating solar output...\n",
      "Completed calculating PV output in 44.91084599494934s\n",
      "Calcuating PV output...\n",
      "Calculating solar output...\n",
      "Completed calculating PV output in 49.34625959396362s\n",
      "Calcuating PV output...\n",
      "Calculating solar output...\n",
      "Completed calculating PV output in 52.44689655303955s\n",
      "Calcuating PV output...\n",
      "Calculating solar output...\n",
      "Completed calculating PV output in 54.2777419090271s\n",
      "Calcuating PV output...\n",
      "Calculating solar output...\n",
      "Completed calculating PV output in 49.862770795822144s\n",
      "Calcuating PV output...\n",
      "Calculating solar output...\n"
     ]
    },
    {
     "ename": "KeyboardInterrupt",
     "evalue": "",
     "output_type": "error",
     "traceback": [
      "\u001b[1;31m---------------------------------------------------------------------------\u001b[0m",
      "\u001b[1;31mKeyboardInterrupt\u001b[0m                         Traceback (most recent call last)",
      "\u001b[1;32mc:\\Users\\lilia\\Documents\\GitHub\\WMCA\\scripts\\extract_epw.ipynb Cell 9\u001b[0m in \u001b[0;36m<cell line: 4>\u001b[1;34m()\u001b[0m\n\u001b[0;32m      <a href='vscode-notebook-cell:/c%3A/Users/lilia/Documents/GitHub/WMCA/scripts/extract_epw.ipynb#ch0000036?line=1'>2</a>\u001b[0m joined_db2 \u001b[39m=\u001b[39m gpd\u001b[39m.\u001b[39mGeoDataFrame(columns \u001b[39m=\u001b[39m db\u001b[39m.\u001b[39mcolumns, geometry\u001b[39m=\u001b[39m\u001b[39m'\u001b[39m\u001b[39mgeometry\u001b[39m\u001b[39m'\u001b[39m)\n\u001b[0;32m      <a href='vscode-notebook-cell:/c%3A/Users/lilia/Documents/GitHub/WMCA/scripts/extract_epw.ipynb#ch0000036?line=3'>4</a>\u001b[0m \u001b[39mfor\u001b[39;00m df \u001b[39min\u001b[39;00m split_db2:\n\u001b[1;32m----> <a href='vscode-notebook-cell:/c%3A/Users/lilia/Documents/GitHub/WMCA/scripts/extract_epw.ipynb#ch0000036?line=4'>5</a>\u001b[0m     df[\u001b[39m'\u001b[39m\u001b[39mpv_output\u001b[39m\u001b[39m'\u001b[39m] \u001b[39m=\u001b[39m calculate_PV(df, weather)\n\u001b[0;32m      <a href='vscode-notebook-cell:/c%3A/Users/lilia/Documents/GitHub/WMCA/scripts/extract_epw.ipynb#ch0000036?line=5'>6</a>\u001b[0m     joined_db2 \u001b[39m=\u001b[39m gpd\u001b[39m.\u001b[39mGeoDataFrame(pd\u001b[39m.\u001b[39mconcat([joined_db2, df], ignore_index\u001b[39m=\u001b[39m\u001b[39mTrue\u001b[39;00m))\n",
      "\u001b[1;32mc:\\Users\\lilia\\Documents\\GitHub\\WMCA\\scripts\\extract_epw.ipynb Cell 9\u001b[0m in \u001b[0;36mcalculate_PV\u001b[1;34m(db, weather)\u001b[0m\n\u001b[0;32m     <a href='vscode-notebook-cell:/c%3A/Users/lilia/Documents/GitHub/WMCA/scripts/extract_epw.ipynb#ch0000036?line=34'>35</a>\u001b[0m system \u001b[39m=\u001b[39m PVSystem(arrays\u001b[39m=\u001b[39m[array], inverter_parameters\u001b[39m=\u001b[39minverter)\n\u001b[0;32m     <a href='vscode-notebook-cell:/c%3A/Users/lilia/Documents/GitHub/WMCA/scripts/extract_epw.ipynb#ch0000036?line=35'>36</a>\u001b[0m mc \u001b[39m=\u001b[39m ModelChain(system, location)\n\u001b[1;32m---> <a href='vscode-notebook-cell:/c%3A/Users/lilia/Documents/GitHub/WMCA/scripts/extract_epw.ipynb#ch0000036?line=36'>37</a>\u001b[0m mc\u001b[39m.\u001b[39;49mrun_model(weather)\n\u001b[0;32m     <a href='vscode-notebook-cell:/c%3A/Users/lilia/Documents/GitHub/WMCA/scripts/extract_epw.ipynb#ch0000036?line=37'>38</a>\u001b[0m annual_energy \u001b[39m=\u001b[39m mc\u001b[39m.\u001b[39mresults\u001b[39m.\u001b[39mac\u001b[39m.\u001b[39msum()\n\u001b[0;32m     <a href='vscode-notebook-cell:/c%3A/Users/lilia/Documents/GitHub/WMCA/scripts/extract_epw.ipynb#ch0000036?line=38'>39</a>\u001b[0m energies\u001b[39m.\u001b[39mappend(annual_energy \u001b[39m*\u001b[39m shading)\n",
      "File \u001b[1;32mc:\\Users\\lilia\\AppData\\Local\\Programs\\Python\\Python39\\lib\\site-packages\\pvlib\\modelchain.py:1765\u001b[0m, in \u001b[0;36mModelChain.run_model\u001b[1;34m(self, weather)\u001b[0m\n\u001b[0;32m   1720\u001b[0m \u001b[39m\"\"\"\u001b[39;00m\n\u001b[0;32m   1721\u001b[0m \u001b[39mRun the model chain starting with broadband global, diffuse and/or\u001b[39;00m\n\u001b[0;32m   1722\u001b[0m \u001b[39mdirect irradiance.\u001b[39;00m\n\u001b[1;32m   (...)\u001b[0m\n\u001b[0;32m   1762\u001b[0m \u001b[39mpvlib.modelchain.ModelChain.run_model_from_effective_irradiance\u001b[39;00m\n\u001b[0;32m   1763\u001b[0m \u001b[39m\"\"\"\u001b[39;00m\n\u001b[0;32m   1764\u001b[0m weather \u001b[39m=\u001b[39m _to_tuple(weather)\n\u001b[1;32m-> 1765\u001b[0m \u001b[39mself\u001b[39;49m\u001b[39m.\u001b[39;49mprepare_inputs(weather)\n\u001b[0;32m   1766\u001b[0m \u001b[39mself\u001b[39m\u001b[39m.\u001b[39maoi_model()\n\u001b[0;32m   1767\u001b[0m \u001b[39mself\u001b[39m\u001b[39m.\u001b[39mspectral_model()\n",
      "File \u001b[1;32mc:\\Users\\lilia\\AppData\\Local\\Programs\\Python\\Python39\\lib\\site-packages\\pvlib\\modelchain.py:1508\u001b[0m, in \u001b[0;36mModelChain.prepare_inputs\u001b[1;34m(self, weather)\u001b[0m\n\u001b[0;32m   1505\u001b[0m \u001b[39mself\u001b[39m\u001b[39m.\u001b[39m_verify_df(weather, required\u001b[39m=\u001b[39m[\u001b[39m'\u001b[39m\u001b[39mghi\u001b[39m\u001b[39m'\u001b[39m, \u001b[39m'\u001b[39m\u001b[39mdni\u001b[39m\u001b[39m'\u001b[39m, \u001b[39m'\u001b[39m\u001b[39mdhi\u001b[39m\u001b[39m'\u001b[39m])\n\u001b[0;32m   1506\u001b[0m \u001b[39mself\u001b[39m\u001b[39m.\u001b[39m_assign_weather(weather)\n\u001b[1;32m-> 1508\u001b[0m \u001b[39mself\u001b[39;49m\u001b[39m.\u001b[39;49m_prep_inputs_solar_pos(weather)\n\u001b[0;32m   1509\u001b[0m \u001b[39mself\u001b[39m\u001b[39m.\u001b[39m_prep_inputs_airmass()\n\u001b[0;32m   1511\u001b[0m \u001b[39m# PVSystem.get_irradiance and SingleAxisTracker.get_irradiance\u001b[39;00m\n\u001b[0;32m   1512\u001b[0m \u001b[39m# and PVSystem.get_aoi and SingleAxisTracker.get_aoi\u001b[39;00m\n\u001b[0;32m   1513\u001b[0m \u001b[39m# have different method signatures. Use partial to handle\u001b[39;00m\n\u001b[0;32m   1514\u001b[0m \u001b[39m# the differences.\u001b[39;00m\n",
      "File \u001b[1;32mc:\\Users\\lilia\\AppData\\Local\\Programs\\Python\\Python39\\lib\\site-packages\\pvlib\\modelchain.py:1337\u001b[0m, in \u001b[0;36mModelChain._prep_inputs_solar_pos\u001b[1;34m(self, weather)\u001b[0m\n\u001b[0;32m   1334\u001b[0m \u001b[39mexcept\u001b[39;00m \u001b[39mKeyError\u001b[39;00m:\n\u001b[0;32m   1335\u001b[0m     \u001b[39mpass\u001b[39;00m\n\u001b[1;32m-> 1337\u001b[0m \u001b[39mself\u001b[39m\u001b[39m.\u001b[39mresults\u001b[39m.\u001b[39msolar_position \u001b[39m=\u001b[39m \u001b[39mself\u001b[39m\u001b[39m.\u001b[39mlocation\u001b[39m.\u001b[39mget_solarposition(\n\u001b[0;32m   1338\u001b[0m     \u001b[39mself\u001b[39m\u001b[39m.\u001b[39mresults\u001b[39m.\u001b[39mtimes, method\u001b[39m=\u001b[39m\u001b[39mself\u001b[39m\u001b[39m.\u001b[39msolar_position_method,\n\u001b[0;32m   1339\u001b[0m     \u001b[39m*\u001b[39m\u001b[39m*\u001b[39mkwargs)\n\u001b[0;32m   1340\u001b[0m \u001b[39mreturn\u001b[39;00m \u001b[39mself\u001b[39m\n",
      "File \u001b[1;32mc:\\Users\\lilia\\AppData\\Local\\Programs\\Python\\Python39\\lib\\site-packages\\pvlib\\location.py:191\u001b[0m, in \u001b[0;36mLocation.get_solarposition\u001b[1;34m(self, times, pressure, temperature, **kwargs)\u001b[0m\n\u001b[0;32m    188\u001b[0m \u001b[39mif\u001b[39;00m pressure \u001b[39mis\u001b[39;00m \u001b[39mNone\u001b[39;00m:\n\u001b[0;32m    189\u001b[0m     pressure \u001b[39m=\u001b[39m atmosphere\u001b[39m.\u001b[39malt2pres(\u001b[39mself\u001b[39m\u001b[39m.\u001b[39maltitude)\n\u001b[1;32m--> 191\u001b[0m \u001b[39mreturn\u001b[39;00m solarposition\u001b[39m.\u001b[39mget_solarposition(times, latitude\u001b[39m=\u001b[39m\u001b[39mself\u001b[39m\u001b[39m.\u001b[39mlatitude,\n\u001b[0;32m    192\u001b[0m                                        longitude\u001b[39m=\u001b[39m\u001b[39mself\u001b[39m\u001b[39m.\u001b[39mlongitude,\n\u001b[0;32m    193\u001b[0m                                        altitude\u001b[39m=\u001b[39m\u001b[39mself\u001b[39m\u001b[39m.\u001b[39maltitude,\n\u001b[0;32m    194\u001b[0m                                        pressure\u001b[39m=\u001b[39mpressure,\n\u001b[0;32m    195\u001b[0m                                        temperature\u001b[39m=\u001b[39mtemperature,\n\u001b[0;32m    196\u001b[0m                                        \u001b[39m*\u001b[39m\u001b[39m*\u001b[39mkwargs)\n",
      "File \u001b[1;32mc:\\Users\\lilia\\AppData\\Local\\Programs\\Python\\Python39\\lib\\site-packages\\pvlib\\solarposition.py:114\u001b[0m, in \u001b[0;36mget_solarposition\u001b[1;34m(time, latitude, longitude, altitude, pressure, method, temperature, **kwargs)\u001b[0m\n\u001b[0;32m    110\u001b[0m     ephem_df \u001b[39m=\u001b[39m spa_python(time, latitude, longitude, altitude,\n\u001b[0;32m    111\u001b[0m                           pressure, temperature,\n\u001b[0;32m    112\u001b[0m                           how\u001b[39m=\u001b[39m\u001b[39m'\u001b[39m\u001b[39mnumba\u001b[39m\u001b[39m'\u001b[39m, \u001b[39m*\u001b[39m\u001b[39m*\u001b[39mkwargs)\n\u001b[0;32m    113\u001b[0m \u001b[39melif\u001b[39;00m method \u001b[39m==\u001b[39m \u001b[39m'\u001b[39m\u001b[39mnrel_numpy\u001b[39m\u001b[39m'\u001b[39m:\n\u001b[1;32m--> 114\u001b[0m     ephem_df \u001b[39m=\u001b[39m spa_python(time, latitude, longitude, altitude,\n\u001b[0;32m    115\u001b[0m                           pressure, temperature,\n\u001b[0;32m    116\u001b[0m                           how\u001b[39m=\u001b[39m\u001b[39m'\u001b[39m\u001b[39mnumpy\u001b[39m\u001b[39m'\u001b[39m, \u001b[39m*\u001b[39m\u001b[39m*\u001b[39mkwargs)\n\u001b[0;32m    117\u001b[0m \u001b[39melif\u001b[39;00m method \u001b[39m==\u001b[39m \u001b[39m'\u001b[39m\u001b[39mpyephem\u001b[39m\u001b[39m'\u001b[39m:\n\u001b[0;32m    118\u001b[0m     ephem_df \u001b[39m=\u001b[39m pyephem(time, latitude, longitude,\n\u001b[0;32m    119\u001b[0m                        altitude\u001b[39m=\u001b[39maltitude,\n\u001b[0;32m    120\u001b[0m                        pressure\u001b[39m=\u001b[39mpressure,\n\u001b[0;32m    121\u001b[0m                        temperature\u001b[39m=\u001b[39mtemperature, \u001b[39m*\u001b[39m\u001b[39m*\u001b[39mkwargs)\n",
      "File \u001b[1;32mc:\\Users\\lilia\\AppData\\Local\\Programs\\Python\\Python39\\lib\\site-packages\\pvlib\\solarposition.py:375\u001b[0m, in \u001b[0;36mspa_python\u001b[1;34m(time, latitude, longitude, altitude, pressure, temperature, delta_t, atmos_refract, how, numthreads, **kwargs)\u001b[0m\n\u001b[0;32m    370\u001b[0m spa \u001b[39m=\u001b[39m _spa_python_import(how)\n\u001b[0;32m    372\u001b[0m delta_t \u001b[39m=\u001b[39m delta_t \u001b[39mor\u001b[39;00m spa\u001b[39m.\u001b[39mcalculate_deltat(time\u001b[39m.\u001b[39myear, time\u001b[39m.\u001b[39mmonth)\n\u001b[0;32m    374\u001b[0m app_zenith, zenith, app_elevation, elevation, azimuth, eot \u001b[39m=\u001b[39m \\\n\u001b[1;32m--> 375\u001b[0m     spa\u001b[39m.\u001b[39;49msolar_position(unixtime, lat, lon, elev, pressure, temperature,\n\u001b[0;32m    376\u001b[0m                        delta_t, atmos_refract, numthreads)\n\u001b[0;32m    378\u001b[0m result \u001b[39m=\u001b[39m pd\u001b[39m.\u001b[39mDataFrame({\u001b[39m'\u001b[39m\u001b[39mapparent_zenith\u001b[39m\u001b[39m'\u001b[39m: app_zenith, \u001b[39m'\u001b[39m\u001b[39mzenith\u001b[39m\u001b[39m'\u001b[39m: zenith,\n\u001b[0;32m    379\u001b[0m                        \u001b[39m'\u001b[39m\u001b[39mapparent_elevation\u001b[39m\u001b[39m'\u001b[39m: app_elevation,\n\u001b[0;32m    380\u001b[0m                        \u001b[39m'\u001b[39m\u001b[39melevation\u001b[39m\u001b[39m'\u001b[39m: elevation, \u001b[39m'\u001b[39m\u001b[39mazimuth\u001b[39m\u001b[39m'\u001b[39m: azimuth,\n\u001b[0;32m    381\u001b[0m                        \u001b[39m'\u001b[39m\u001b[39mequation_of_time\u001b[39m\u001b[39m'\u001b[39m: eot},\n\u001b[0;32m    382\u001b[0m                       index\u001b[39m=\u001b[39mtime)\n\u001b[0;32m    384\u001b[0m \u001b[39mreturn\u001b[39;00m result\n",
      "File \u001b[1;32mc:\\Users\\lilia\\AppData\\Local\\Programs\\Python\\Python39\\lib\\site-packages\\pvlib\\spa.py:1137\u001b[0m, in \u001b[0;36msolar_position\u001b[1;34m(unixtime, lat, lon, elev, pressure, temp, delta_t, atmos_refract, numthreads, sst, esd)\u001b[0m\n\u001b[0;32m   1134\u001b[0m \u001b[39melse\u001b[39;00m:\n\u001b[0;32m   1135\u001b[0m     do_calc \u001b[39m=\u001b[39m solar_position_numpy\n\u001b[1;32m-> 1137\u001b[0m result \u001b[39m=\u001b[39m do_calc(unixtime, lat, lon, elev, pressure,\n\u001b[0;32m   1138\u001b[0m                  temp, delta_t, atmos_refract, numthreads,\n\u001b[0;32m   1139\u001b[0m                  sst, esd)\n\u001b[0;32m   1141\u001b[0m \u001b[39mif\u001b[39;00m \u001b[39mnot\u001b[39;00m \u001b[39misinstance\u001b[39m(result, np\u001b[39m.\u001b[39mndarray):\n\u001b[0;32m   1142\u001b[0m     \u001b[39mtry\u001b[39;00m:\n",
      "File \u001b[1;32mc:\\Users\\lilia\\AppData\\Local\\Programs\\Python\\Python39\\lib\\site-packages\\pvlib\\spa.py:1039\u001b[0m, in \u001b[0;36msolar_position_numpy\u001b[1;34m(unixtime, lat, lon, elev, pressure, temp, delta_t, atmos_refract, numthreads, sst, esd)\u001b[0m\n\u001b[0;32m   1037\u001b[0m delta_psi \u001b[39m=\u001b[39m longitude_nutation(jce, x0, x1, x2, x3, x4)\n\u001b[0;32m   1038\u001b[0m delta_epsilon \u001b[39m=\u001b[39m obliquity_nutation(jce, x0, x1, x2, x3, x4)\n\u001b[1;32m-> 1039\u001b[0m epsilon0 \u001b[39m=\u001b[39m mean_ecliptic_obliquity(jme)\n\u001b[0;32m   1040\u001b[0m epsilon \u001b[39m=\u001b[39m true_ecliptic_obliquity(epsilon0, delta_epsilon)\n\u001b[0;32m   1041\u001b[0m delta_tau \u001b[39m=\u001b[39m aberration_correction(R)\n",
      "File \u001b[1;32mc:\\Users\\lilia\\AppData\\Local\\Programs\\Python\\Python39\\lib\\site-packages\\pvlib\\spa.py:660\u001b[0m, in \u001b[0;36mmean_ecliptic_obliquity\u001b[1;34m(julian_ephemeris_millennium)\u001b[0m\n\u001b[0;32m    657\u001b[0m \u001b[39m@jcompile\u001b[39m(\u001b[39m'\u001b[39m\u001b[39mfloat64(float64)\u001b[39m\u001b[39m'\u001b[39m, nopython\u001b[39m=\u001b[39m\u001b[39mTrue\u001b[39;00m)\n\u001b[0;32m    658\u001b[0m \u001b[39mdef\u001b[39;00m \u001b[39mmean_ecliptic_obliquity\u001b[39m(julian_ephemeris_millennium):\n\u001b[0;32m    659\u001b[0m     U \u001b[39m=\u001b[39m \u001b[39m1.0\u001b[39m\u001b[39m*\u001b[39mjulian_ephemeris_millennium\u001b[39m/\u001b[39m\u001b[39m10\u001b[39m\n\u001b[1;32m--> 660\u001b[0m     e0 \u001b[39m=\u001b[39m (\u001b[39m84381.448\u001b[39;49m \u001b[39m-\u001b[39;49m \u001b[39m4680.93\u001b[39;49m \u001b[39m*\u001b[39;49m U \u001b[39m-\u001b[39;49m \u001b[39m1.55\u001b[39;49m \u001b[39m*\u001b[39;49m U\u001b[39m*\u001b[39;49m\u001b[39m*\u001b[39;49m\u001b[39m2\u001b[39;49m\n\u001b[0;32m    661\u001b[0m           \u001b[39m+\u001b[39;49m \u001b[39m1999.25\u001b[39;49m \u001b[39m*\u001b[39;49m U\u001b[39m*\u001b[39;49m\u001b[39m*\u001b[39;49m\u001b[39m3\u001b[39;49m \u001b[39m-\u001b[39;49m \u001b[39m51.38\u001b[39;49m \u001b[39m*\u001b[39;49m U\u001b[39m*\u001b[39;49m\u001b[39m*\u001b[39;49m\u001b[39m4\u001b[39;49m \u001b[39m-\u001b[39m \u001b[39m249.67\u001b[39m \u001b[39m*\u001b[39m U\u001b[39m*\u001b[39m\u001b[39m*\u001b[39m\u001b[39m5\u001b[39m\n\u001b[0;32m    662\u001b[0m           \u001b[39m-\u001b[39m \u001b[39m39.05\u001b[39m \u001b[39m*\u001b[39m U\u001b[39m*\u001b[39m\u001b[39m*\u001b[39m\u001b[39m6\u001b[39m \u001b[39m+\u001b[39m \u001b[39m7.12\u001b[39m \u001b[39m*\u001b[39m U\u001b[39m*\u001b[39m\u001b[39m*\u001b[39m\u001b[39m7\u001b[39m \u001b[39m+\u001b[39m \u001b[39m27.87\u001b[39m \u001b[39m*\u001b[39m U\u001b[39m*\u001b[39m\u001b[39m*\u001b[39m\u001b[39m8\u001b[39m\n\u001b[0;32m    663\u001b[0m           \u001b[39m+\u001b[39m \u001b[39m5.79\u001b[39m \u001b[39m*\u001b[39m U\u001b[39m*\u001b[39m\u001b[39m*\u001b[39m\u001b[39m9\u001b[39m \u001b[39m+\u001b[39m \u001b[39m2.45\u001b[39m \u001b[39m*\u001b[39m U\u001b[39m*\u001b[39m\u001b[39m*\u001b[39m\u001b[39m10\u001b[39m)\n\u001b[0;32m    664\u001b[0m     \u001b[39mreturn\u001b[39;00m e0\n",
      "\u001b[1;31mKeyboardInterrupt\u001b[0m: "
     ]
    }
   ],
   "source": [
    "split_db2 = np.array_split(db[17652:], 50)\n",
    "joined_db2 = gpd.GeoDataFrame(columns = db.columns, geometry='geometry')\n",
    "\n",
    "for df in split_db2:\n",
    "    df['pv_output'] = calculate_PV(df, weather)\n",
    "    joined_db2 = gpd.GeoDataFrame(pd.concat([joined_db2, df], ignore_index=True))"
   ]
  }
 ],
 "metadata": {
  "kernelspec": {
   "display_name": "Python 3.9.4 64-bit",
   "language": "python",
   "name": "python3"
  },
  "language_info": {
   "codemirror_mode": {
    "name": "ipython",
    "version": 3
   },
   "file_extension": ".py",
   "mimetype": "text/x-python",
   "name": "python",
   "nbconvert_exporter": "python",
   "pygments_lexer": "ipython3",
   "version": "3.9.4"
  },
  "orig_nbformat": 4,
  "vscode": {
   "interpreter": {
    "hash": "a71bc2f0fdff3760b45ea6dafb563485b76fcb756cae0bed9e259635e4639181"
   }
  }
 },
 "nbformat": 4,
 "nbformat_minor": 2
}
